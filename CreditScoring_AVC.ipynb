{
 "cells": [
  {
   "cell_type": "code",
   "execution_count": 846,
   "metadata": {},
   "outputs": [],
   "source": [
    "import numpy as np\n",
    "import pandas as pd\n",
    "import matplotlib.pyplot as plt\n",
    "import seaborn as sns\n",
    "from imblearn.over_sampling import SMOTE\n",
    "import itertools\n",
    "from scipy.stats import mstats\n",
    "from optbinning import OptimalBinning\n",
    "from sklearn.model_selection import GridSearchCV\n",
    "import pickle\n",
    "\n",
    "from sklearn.model_selection import train_test_split\n",
    "from sklearn.metrics import accuracy_score, confusion_matrix, classification_report\n",
    "from sklearn.linear_model import LogisticRegression\n",
    "from sklearn.tree import DecisionTreeClassifier\n",
    "\n",
    "from xgboost import XGBClassifier\n",
    "from lightgbm import LGBMClassifier\n",
    "from sklearn import svm\n",
    "from sklearn.ensemble import RandomForestClassifier\n",
    "import warnings\n",
    "warnings.filterwarnings('ignore')\n",
    "from scipy.stats import mstats\n",
    "\n",
    "\n",
    "# Import các function hỗ trợ\n",
    "from Func import WOE_transform, calc_iv, convert_dummy, get_category, plot_confusion_matrix, Winsorize_Feature, WOE_transform"
   ]
  },
  {
   "cell_type": "markdown",
   "metadata": {},
   "source": [
    "I. Load data"
   ]
  },
  {
   "cell_type": "markdown",
   "metadata": {},
   "source": [
    "application_record.csv contains independent variables with 438557 records:\n",
    "* CATEGORICAL FEATURES:\n",
    "- CODE_GENDER\n",
    "- FLAG_OWN_CAR\n",
    "- FLAG_OWN_REALTY\n",
    "- NAME_INCOME_TYPE\n",
    "- NAME_EDUCATION_TYPE\n",
    "- NAME_FAMILY_STATUS\n",
    "- NAME_HOUSING_TYPE\n",
    "- OCCUPATION_TYPE\n",
    "\n",
    "* NUMERICAL FEATURES:\n",
    "- CNT_CHILDREN\n",
    "- AMT_INCOME_TOTAL\n",
    "- DAYS_BIRTH\n",
    "- DAYS_EMPLOYED\n",
    "- FLAG_MOBIL\n",
    "- FLAG_WORK_PHONE\n",
    "- FLAG_PHONE\n",
    "- FLAG_EMAIL\n",
    "- CNT_FAM_MEMBERS"
   ]
  },
  {
   "cell_type": "code",
   "execution_count": 697,
   "metadata": {},
   "outputs": [
    {
     "data": {
      "text/html": [
       "<div>\n",
       "<style scoped>\n",
       "    .dataframe tbody tr th:only-of-type {\n",
       "        vertical-align: middle;\n",
       "    }\n",
       "\n",
       "    .dataframe tbody tr th {\n",
       "        vertical-align: top;\n",
       "    }\n",
       "\n",
       "    .dataframe thead th {\n",
       "        text-align: right;\n",
       "    }\n",
       "</style>\n",
       "<table border=\"1\" class=\"dataframe\">\n",
       "  <thead>\n",
       "    <tr style=\"text-align: right;\">\n",
       "      <th></th>\n",
       "      <th>ID</th>\n",
       "      <th>CODE_GENDER</th>\n",
       "      <th>FLAG_OWN_CAR</th>\n",
       "      <th>FLAG_OWN_REALTY</th>\n",
       "      <th>CNT_CHILDREN</th>\n",
       "      <th>AMT_INCOME_TOTAL</th>\n",
       "      <th>NAME_INCOME_TYPE</th>\n",
       "      <th>NAME_EDUCATION_TYPE</th>\n",
       "      <th>NAME_FAMILY_STATUS</th>\n",
       "      <th>NAME_HOUSING_TYPE</th>\n",
       "      <th>DAYS_BIRTH</th>\n",
       "      <th>DAYS_EMPLOYED</th>\n",
       "      <th>FLAG_MOBIL</th>\n",
       "      <th>FLAG_WORK_PHONE</th>\n",
       "      <th>FLAG_PHONE</th>\n",
       "      <th>FLAG_EMAIL</th>\n",
       "      <th>OCCUPATION_TYPE</th>\n",
       "      <th>CNT_FAM_MEMBERS</th>\n",
       "    </tr>\n",
       "  </thead>\n",
       "  <tbody>\n",
       "    <tr>\n",
       "      <th>0</th>\n",
       "      <td>5008804</td>\n",
       "      <td>M</td>\n",
       "      <td>Y</td>\n",
       "      <td>Y</td>\n",
       "      <td>0</td>\n",
       "      <td>427500.0</td>\n",
       "      <td>Working</td>\n",
       "      <td>Higher education</td>\n",
       "      <td>Civil marriage</td>\n",
       "      <td>Rented apartment</td>\n",
       "      <td>-12005</td>\n",
       "      <td>-4542</td>\n",
       "      <td>1</td>\n",
       "      <td>1</td>\n",
       "      <td>0</td>\n",
       "      <td>0</td>\n",
       "      <td>NaN</td>\n",
       "      <td>2.0</td>\n",
       "    </tr>\n",
       "    <tr>\n",
       "      <th>1</th>\n",
       "      <td>5008805</td>\n",
       "      <td>M</td>\n",
       "      <td>Y</td>\n",
       "      <td>Y</td>\n",
       "      <td>0</td>\n",
       "      <td>427500.0</td>\n",
       "      <td>Working</td>\n",
       "      <td>Higher education</td>\n",
       "      <td>Civil marriage</td>\n",
       "      <td>Rented apartment</td>\n",
       "      <td>-12005</td>\n",
       "      <td>-4542</td>\n",
       "      <td>1</td>\n",
       "      <td>1</td>\n",
       "      <td>0</td>\n",
       "      <td>0</td>\n",
       "      <td>NaN</td>\n",
       "      <td>2.0</td>\n",
       "    </tr>\n",
       "    <tr>\n",
       "      <th>2</th>\n",
       "      <td>5008806</td>\n",
       "      <td>M</td>\n",
       "      <td>Y</td>\n",
       "      <td>Y</td>\n",
       "      <td>0</td>\n",
       "      <td>112500.0</td>\n",
       "      <td>Working</td>\n",
       "      <td>Secondary / secondary special</td>\n",
       "      <td>Married</td>\n",
       "      <td>House / apartment</td>\n",
       "      <td>-21474</td>\n",
       "      <td>-1134</td>\n",
       "      <td>1</td>\n",
       "      <td>0</td>\n",
       "      <td>0</td>\n",
       "      <td>0</td>\n",
       "      <td>Security staff</td>\n",
       "      <td>2.0</td>\n",
       "    </tr>\n",
       "    <tr>\n",
       "      <th>3</th>\n",
       "      <td>5008808</td>\n",
       "      <td>F</td>\n",
       "      <td>N</td>\n",
       "      <td>Y</td>\n",
       "      <td>0</td>\n",
       "      <td>270000.0</td>\n",
       "      <td>Commercial associate</td>\n",
       "      <td>Secondary / secondary special</td>\n",
       "      <td>Single / not married</td>\n",
       "      <td>House / apartment</td>\n",
       "      <td>-19110</td>\n",
       "      <td>-3051</td>\n",
       "      <td>1</td>\n",
       "      <td>0</td>\n",
       "      <td>1</td>\n",
       "      <td>1</td>\n",
       "      <td>Sales staff</td>\n",
       "      <td>1.0</td>\n",
       "    </tr>\n",
       "    <tr>\n",
       "      <th>4</th>\n",
       "      <td>5008809</td>\n",
       "      <td>F</td>\n",
       "      <td>N</td>\n",
       "      <td>Y</td>\n",
       "      <td>0</td>\n",
       "      <td>270000.0</td>\n",
       "      <td>Commercial associate</td>\n",
       "      <td>Secondary / secondary special</td>\n",
       "      <td>Single / not married</td>\n",
       "      <td>House / apartment</td>\n",
       "      <td>-19110</td>\n",
       "      <td>-3051</td>\n",
       "      <td>1</td>\n",
       "      <td>0</td>\n",
       "      <td>1</td>\n",
       "      <td>1</td>\n",
       "      <td>Sales staff</td>\n",
       "      <td>1.0</td>\n",
       "    </tr>\n",
       "  </tbody>\n",
       "</table>\n",
       "</div>"
      ],
      "text/plain": [
       "        ID CODE_GENDER FLAG_OWN_CAR FLAG_OWN_REALTY  CNT_CHILDREN  \\\n",
       "0  5008804           M            Y               Y             0   \n",
       "1  5008805           M            Y               Y             0   \n",
       "2  5008806           M            Y               Y             0   \n",
       "3  5008808           F            N               Y             0   \n",
       "4  5008809           F            N               Y             0   \n",
       "\n",
       "   AMT_INCOME_TOTAL      NAME_INCOME_TYPE            NAME_EDUCATION_TYPE  \\\n",
       "0          427500.0               Working               Higher education   \n",
       "1          427500.0               Working               Higher education   \n",
       "2          112500.0               Working  Secondary / secondary special   \n",
       "3          270000.0  Commercial associate  Secondary / secondary special   \n",
       "4          270000.0  Commercial associate  Secondary / secondary special   \n",
       "\n",
       "     NAME_FAMILY_STATUS  NAME_HOUSING_TYPE  DAYS_BIRTH  DAYS_EMPLOYED  \\\n",
       "0        Civil marriage   Rented apartment      -12005          -4542   \n",
       "1        Civil marriage   Rented apartment      -12005          -4542   \n",
       "2               Married  House / apartment      -21474          -1134   \n",
       "3  Single / not married  House / apartment      -19110          -3051   \n",
       "4  Single / not married  House / apartment      -19110          -3051   \n",
       "\n",
       "   FLAG_MOBIL  FLAG_WORK_PHONE  FLAG_PHONE  FLAG_EMAIL OCCUPATION_TYPE  \\\n",
       "0           1                1           0           0             NaN   \n",
       "1           1                1           0           0             NaN   \n",
       "2           1                0           0           0  Security staff   \n",
       "3           1                0           1           1     Sales staff   \n",
       "4           1                0           1           1     Sales staff   \n",
       "\n",
       "   CNT_FAM_MEMBERS  \n",
       "0              2.0  \n",
       "1              2.0  \n",
       "2              2.0  \n",
       "3              1.0  \n",
       "4              1.0  "
      ]
     },
     "execution_count": 697,
     "metadata": {},
     "output_type": "execute_result"
    }
   ],
   "source": [
    "application = pd.read_csv('C:\\\\Users\\\\LENOVO\\\\Desktop\\\\CRProject\\\\Data\\\\application_record.csv')\n",
    "\n",
    "application.head()"
   ]
  },
  {
   "cell_type": "code",
   "execution_count": 698,
   "metadata": {},
   "outputs": [
    {
     "name": "stdout",
     "output_type": "stream",
     "text": [
      "Duplicated rows:\n"
     ]
    },
    {
     "data": {
      "text/html": [
       "<div>\n",
       "<style scoped>\n",
       "    .dataframe tbody tr th:only-of-type {\n",
       "        vertical-align: middle;\n",
       "    }\n",
       "\n",
       "    .dataframe tbody tr th {\n",
       "        vertical-align: top;\n",
       "    }\n",
       "\n",
       "    .dataframe thead th {\n",
       "        text-align: right;\n",
       "    }\n",
       "</style>\n",
       "<table border=\"1\" class=\"dataframe\">\n",
       "  <thead>\n",
       "    <tr style=\"text-align: right;\">\n",
       "      <th></th>\n",
       "      <th>ID</th>\n",
       "      <th>CODE_GENDER</th>\n",
       "      <th>FLAG_OWN_CAR</th>\n",
       "      <th>FLAG_OWN_REALTY</th>\n",
       "      <th>CNT_CHILDREN</th>\n",
       "      <th>AMT_INCOME_TOTAL</th>\n",
       "      <th>NAME_INCOME_TYPE</th>\n",
       "      <th>NAME_EDUCATION_TYPE</th>\n",
       "      <th>NAME_FAMILY_STATUS</th>\n",
       "      <th>NAME_HOUSING_TYPE</th>\n",
       "      <th>DAYS_BIRTH</th>\n",
       "      <th>DAYS_EMPLOYED</th>\n",
       "      <th>FLAG_MOBIL</th>\n",
       "      <th>FLAG_WORK_PHONE</th>\n",
       "      <th>FLAG_PHONE</th>\n",
       "      <th>FLAG_EMAIL</th>\n",
       "      <th>OCCUPATION_TYPE</th>\n",
       "      <th>CNT_FAM_MEMBERS</th>\n",
       "    </tr>\n",
       "  </thead>\n",
       "  <tbody>\n",
       "  </tbody>\n",
       "</table>\n",
       "</div>"
      ],
      "text/plain": [
       "Empty DataFrame\n",
       "Columns: [ID, CODE_GENDER, FLAG_OWN_CAR, FLAG_OWN_REALTY, CNT_CHILDREN, AMT_INCOME_TOTAL, NAME_INCOME_TYPE, NAME_EDUCATION_TYPE, NAME_FAMILY_STATUS, NAME_HOUSING_TYPE, DAYS_BIRTH, DAYS_EMPLOYED, FLAG_MOBIL, FLAG_WORK_PHONE, FLAG_PHONE, FLAG_EMAIL, OCCUPATION_TYPE, CNT_FAM_MEMBERS]\n",
       "Index: []"
      ]
     },
     "execution_count": 698,
     "metadata": {},
     "output_type": "execute_result"
    }
   ],
   "source": [
    "#Check duplicate for application_record.csv\n",
    "duplicates = application[application.duplicated()]\n",
    "print('Duplicated rows:')\n",
    "duplicates"
   ]
  },
  {
   "cell_type": "markdown",
   "metadata": {},
   "source": [
    "credit_record.csv contains target variable of model:\n",
    "- ID: Indetifier for individuals or entities\n",
    "- MONTHS_BALANCE: Number of months before the current month. For example, 0 woule represent the current month, -1 would represent the previous month, -2 the month before that, and so on\n",
    "- STATUS: Credit status or rating for the associated ID at a specific month. The status represents using codes like \"X\", \"C\" or numeric values. \"X\" for no DPD, \"C\" for closed or paid that month, and numeric values for the number of loan group (1,2,3,4,5)"
   ]
  },
  {
   "cell_type": "code",
   "execution_count": 699,
   "metadata": {},
   "outputs": [
    {
     "data": {
      "text/html": [
       "<div>\n",
       "<style scoped>\n",
       "    .dataframe tbody tr th:only-of-type {\n",
       "        vertical-align: middle;\n",
       "    }\n",
       "\n",
       "    .dataframe tbody tr th {\n",
       "        vertical-align: top;\n",
       "    }\n",
       "\n",
       "    .dataframe thead th {\n",
       "        text-align: right;\n",
       "    }\n",
       "</style>\n",
       "<table border=\"1\" class=\"dataframe\">\n",
       "  <thead>\n",
       "    <tr style=\"text-align: right;\">\n",
       "      <th></th>\n",
       "      <th>ID</th>\n",
       "      <th>MONTHS_BALANCE</th>\n",
       "      <th>STATUS</th>\n",
       "    </tr>\n",
       "  </thead>\n",
       "  <tbody>\n",
       "    <tr>\n",
       "      <th>0</th>\n",
       "      <td>5001711</td>\n",
       "      <td>0</td>\n",
       "      <td>X</td>\n",
       "    </tr>\n",
       "    <tr>\n",
       "      <th>1</th>\n",
       "      <td>5001711</td>\n",
       "      <td>-1</td>\n",
       "      <td>0</td>\n",
       "    </tr>\n",
       "    <tr>\n",
       "      <th>2</th>\n",
       "      <td>5001711</td>\n",
       "      <td>-2</td>\n",
       "      <td>0</td>\n",
       "    </tr>\n",
       "    <tr>\n",
       "      <th>3</th>\n",
       "      <td>5001711</td>\n",
       "      <td>-3</td>\n",
       "      <td>0</td>\n",
       "    </tr>\n",
       "    <tr>\n",
       "      <th>4</th>\n",
       "      <td>5001712</td>\n",
       "      <td>0</td>\n",
       "      <td>C</td>\n",
       "    </tr>\n",
       "  </tbody>\n",
       "</table>\n",
       "</div>"
      ],
      "text/plain": [
       "        ID  MONTHS_BALANCE STATUS\n",
       "0  5001711               0      X\n",
       "1  5001711              -1      0\n",
       "2  5001711              -2      0\n",
       "3  5001711              -3      0\n",
       "4  5001712               0      C"
      ]
     },
     "execution_count": 699,
     "metadata": {},
     "output_type": "execute_result"
    }
   ],
   "source": [
    "credit = pd.read_csv('C:\\\\Users\\\\LENOVO\\\\Desktop\\\\CRProject\\\\Data\\\\credit_record.csv')\n",
    "\n",
    "credit.head()"
   ]
  },
  {
   "cell_type": "markdown",
   "metadata": {},
   "source": [
    "II. Data preprocessing"
   ]
  },
  {
   "cell_type": "markdown",
   "metadata": {},
   "source": [
    "2.1.credit_record.csv (Target_variable)"
   ]
  },
  {
   "cell_type": "code",
   "execution_count": 700,
   "metadata": {},
   "outputs": [
    {
     "data": {
      "text/html": [
       "<div>\n",
       "<style scoped>\n",
       "    .dataframe tbody tr th:only-of-type {\n",
       "        vertical-align: middle;\n",
       "    }\n",
       "\n",
       "    .dataframe tbody tr th {\n",
       "        vertical-align: top;\n",
       "    }\n",
       "\n",
       "    .dataframe thead th {\n",
       "        text-align: right;\n",
       "    }\n",
       "</style>\n",
       "<table border=\"1\" class=\"dataframe\">\n",
       "  <thead>\n",
       "    <tr style=\"text-align: right;\">\n",
       "      <th></th>\n",
       "      <th>MONTHS_BALANCE</th>\n",
       "      <th>STATUS</th>\n",
       "    </tr>\n",
       "    <tr>\n",
       "      <th>ID</th>\n",
       "      <th></th>\n",
       "      <th></th>\n",
       "    </tr>\n",
       "  </thead>\n",
       "  <tbody>\n",
       "    <tr>\n",
       "      <th>5001711</th>\n",
       "      <td>4</td>\n",
       "      <td>0</td>\n",
       "    </tr>\n",
       "    <tr>\n",
       "      <th>5001712</th>\n",
       "      <td>19</td>\n",
       "      <td>0</td>\n",
       "    </tr>\n",
       "    <tr>\n",
       "      <th>5001713</th>\n",
       "      <td>22</td>\n",
       "      <td>0</td>\n",
       "    </tr>\n",
       "    <tr>\n",
       "      <th>5001714</th>\n",
       "      <td>15</td>\n",
       "      <td>0</td>\n",
       "    </tr>\n",
       "    <tr>\n",
       "      <th>5001715</th>\n",
       "      <td>60</td>\n",
       "      <td>0</td>\n",
       "    </tr>\n",
       "  </tbody>\n",
       "</table>\n",
       "</div>"
      ],
      "text/plain": [
       "         MONTHS_BALANCE  STATUS\n",
       "ID                             \n",
       "5001711               4       0\n",
       "5001712              19       0\n",
       "5001713              22       0\n",
       "5001714              15       0\n",
       "5001715              60       0"
      ]
     },
     "execution_count": 700,
     "metadata": {},
     "output_type": "execute_result"
    }
   ],
   "source": [
    "#Encode loan group\n",
    "loan_group = credit.copy()\n",
    "\n",
    "#Chuyển các status X và C thành 0\n",
    "loan_group['STATUS']=loan_group['STATUS'].apply(lambda x: 0 if (x=='X'or x=='C') else x)\n",
    "loan_group['STATUS']=loan_group['STATUS'].astype(int)\n",
    "\n",
    "#Lấy max nhóm STATUS chính là nhóm nợ \n",
    "loan_group = loan_group.groupby(['ID']).aggregate({'MONTHS_BALANCE': 'count', 'STATUS':'max'})\n",
    "loan_group.head()"
   ]
  },
  {
   "cell_type": "code",
   "execution_count": 701,
   "metadata": {},
   "outputs": [
    {
     "data": {
      "text/html": [
       "<div>\n",
       "<style scoped>\n",
       "    .dataframe tbody tr th:only-of-type {\n",
       "        vertical-align: middle;\n",
       "    }\n",
       "\n",
       "    .dataframe tbody tr th {\n",
       "        vertical-align: top;\n",
       "    }\n",
       "\n",
       "    .dataframe thead th {\n",
       "        text-align: right;\n",
       "    }\n",
       "</style>\n",
       "<table border=\"1\" class=\"dataframe\">\n",
       "  <thead>\n",
       "    <tr style=\"text-align: right;\">\n",
       "      <th></th>\n",
       "      <th>MONTHS_BALANCE</th>\n",
       "      <th>STATUS</th>\n",
       "      <th>df_flag</th>\n",
       "    </tr>\n",
       "    <tr>\n",
       "      <th>ID</th>\n",
       "      <th></th>\n",
       "      <th></th>\n",
       "      <th></th>\n",
       "    </tr>\n",
       "  </thead>\n",
       "  <tbody>\n",
       "    <tr>\n",
       "      <th>5002126</th>\n",
       "      <td>56</td>\n",
       "      <td>3</td>\n",
       "      <td>1</td>\n",
       "    </tr>\n",
       "    <tr>\n",
       "      <th>5003267</th>\n",
       "      <td>54</td>\n",
       "      <td>3</td>\n",
       "      <td>1</td>\n",
       "    </tr>\n",
       "    <tr>\n",
       "      <th>5003471</th>\n",
       "      <td>48</td>\n",
       "      <td>4</td>\n",
       "      <td>1</td>\n",
       "    </tr>\n",
       "    <tr>\n",
       "      <th>5003712</th>\n",
       "      <td>38</td>\n",
       "      <td>3</td>\n",
       "      <td>1</td>\n",
       "    </tr>\n",
       "    <tr>\n",
       "      <th>5003804</th>\n",
       "      <td>55</td>\n",
       "      <td>5</td>\n",
       "      <td>1</td>\n",
       "    </tr>\n",
       "  </tbody>\n",
       "</table>\n",
       "</div>"
      ],
      "text/plain": [
       "         MONTHS_BALANCE  STATUS  df_flag\n",
       "ID                                      \n",
       "5002126              56       3        1\n",
       "5003267              54       3        1\n",
       "5003471              48       4        1\n",
       "5003712              38       3        1\n",
       "5003804              55       5        1"
      ]
     },
     "execution_count": 701,
     "metadata": {},
     "output_type": "execute_result"
    }
   ],
   "source": [
    "#Default flag\n",
    "loan_group['df_flag']= loan_group['STATUS'].apply(lambda x: 1 if x>=3 else 0)\n",
    "\n",
    "loan_group['df_flag']=loan_group['df_flag'].astype(int)\n",
    "loan_group[loan_group['STATUS']>=3].head()"
   ]
  },
  {
   "cell_type": "markdown",
   "metadata": {},
   "source": [
    "2.2.Merge application_record with loan_group"
   ]
  },
  {
   "cell_type": "code",
   "execution_count": 702,
   "metadata": {},
   "outputs": [
    {
     "data": {
      "text/html": [
       "<div>\n",
       "<style scoped>\n",
       "    .dataframe tbody tr th:only-of-type {\n",
       "        vertical-align: middle;\n",
       "    }\n",
       "\n",
       "    .dataframe tbody tr th {\n",
       "        vertical-align: top;\n",
       "    }\n",
       "\n",
       "    .dataframe thead th {\n",
       "        text-align: right;\n",
       "    }\n",
       "</style>\n",
       "<table border=\"1\" class=\"dataframe\">\n",
       "  <thead>\n",
       "    <tr style=\"text-align: right;\">\n",
       "      <th></th>\n",
       "      <th>ID</th>\n",
       "      <th>CODE_GENDER</th>\n",
       "      <th>FLAG_OWN_CAR</th>\n",
       "      <th>FLAG_OWN_REALTY</th>\n",
       "      <th>CNT_CHILDREN</th>\n",
       "      <th>AMT_INCOME_TOTAL</th>\n",
       "      <th>NAME_INCOME_TYPE</th>\n",
       "      <th>NAME_EDUCATION_TYPE</th>\n",
       "      <th>NAME_FAMILY_STATUS</th>\n",
       "      <th>NAME_HOUSING_TYPE</th>\n",
       "      <th>...</th>\n",
       "      <th>DAYS_EMPLOYED</th>\n",
       "      <th>FLAG_MOBIL</th>\n",
       "      <th>FLAG_WORK_PHONE</th>\n",
       "      <th>FLAG_PHONE</th>\n",
       "      <th>FLAG_EMAIL</th>\n",
       "      <th>OCCUPATION_TYPE</th>\n",
       "      <th>CNT_FAM_MEMBERS</th>\n",
       "      <th>MONTHS_BALANCE</th>\n",
       "      <th>STATUS</th>\n",
       "      <th>df_flag</th>\n",
       "    </tr>\n",
       "  </thead>\n",
       "  <tbody>\n",
       "    <tr>\n",
       "      <th>0</th>\n",
       "      <td>5008804</td>\n",
       "      <td>M</td>\n",
       "      <td>Y</td>\n",
       "      <td>Y</td>\n",
       "      <td>0</td>\n",
       "      <td>427500.0</td>\n",
       "      <td>Working</td>\n",
       "      <td>Higher education</td>\n",
       "      <td>Civil marriage</td>\n",
       "      <td>Rented apartment</td>\n",
       "      <td>...</td>\n",
       "      <td>-4542</td>\n",
       "      <td>1</td>\n",
       "      <td>1</td>\n",
       "      <td>0</td>\n",
       "      <td>0</td>\n",
       "      <td>NaN</td>\n",
       "      <td>2.0</td>\n",
       "      <td>16.0</td>\n",
       "      <td>1.0</td>\n",
       "      <td>0.0</td>\n",
       "    </tr>\n",
       "    <tr>\n",
       "      <th>1</th>\n",
       "      <td>5008805</td>\n",
       "      <td>M</td>\n",
       "      <td>Y</td>\n",
       "      <td>Y</td>\n",
       "      <td>0</td>\n",
       "      <td>427500.0</td>\n",
       "      <td>Working</td>\n",
       "      <td>Higher education</td>\n",
       "      <td>Civil marriage</td>\n",
       "      <td>Rented apartment</td>\n",
       "      <td>...</td>\n",
       "      <td>-4542</td>\n",
       "      <td>1</td>\n",
       "      <td>1</td>\n",
       "      <td>0</td>\n",
       "      <td>0</td>\n",
       "      <td>NaN</td>\n",
       "      <td>2.0</td>\n",
       "      <td>15.0</td>\n",
       "      <td>1.0</td>\n",
       "      <td>0.0</td>\n",
       "    </tr>\n",
       "    <tr>\n",
       "      <th>2</th>\n",
       "      <td>5008806</td>\n",
       "      <td>M</td>\n",
       "      <td>Y</td>\n",
       "      <td>Y</td>\n",
       "      <td>0</td>\n",
       "      <td>112500.0</td>\n",
       "      <td>Working</td>\n",
       "      <td>Secondary / secondary special</td>\n",
       "      <td>Married</td>\n",
       "      <td>House / apartment</td>\n",
       "      <td>...</td>\n",
       "      <td>-1134</td>\n",
       "      <td>1</td>\n",
       "      <td>0</td>\n",
       "      <td>0</td>\n",
       "      <td>0</td>\n",
       "      <td>Security staff</td>\n",
       "      <td>2.0</td>\n",
       "      <td>30.0</td>\n",
       "      <td>0.0</td>\n",
       "      <td>0.0</td>\n",
       "    </tr>\n",
       "  </tbody>\n",
       "</table>\n",
       "<p>3 rows × 21 columns</p>\n",
       "</div>"
      ],
      "text/plain": [
       "        ID CODE_GENDER FLAG_OWN_CAR FLAG_OWN_REALTY  CNT_CHILDREN  \\\n",
       "0  5008804           M            Y               Y             0   \n",
       "1  5008805           M            Y               Y             0   \n",
       "2  5008806           M            Y               Y             0   \n",
       "\n",
       "   AMT_INCOME_TOTAL NAME_INCOME_TYPE            NAME_EDUCATION_TYPE  \\\n",
       "0          427500.0          Working               Higher education   \n",
       "1          427500.0          Working               Higher education   \n",
       "2          112500.0          Working  Secondary / secondary special   \n",
       "\n",
       "  NAME_FAMILY_STATUS  NAME_HOUSING_TYPE  ...  DAYS_EMPLOYED  FLAG_MOBIL  \\\n",
       "0     Civil marriage   Rented apartment  ...          -4542           1   \n",
       "1     Civil marriage   Rented apartment  ...          -4542           1   \n",
       "2            Married  House / apartment  ...          -1134           1   \n",
       "\n",
       "   FLAG_WORK_PHONE  FLAG_PHONE  FLAG_EMAIL  OCCUPATION_TYPE CNT_FAM_MEMBERS  \\\n",
       "0                1           0           0              NaN             2.0   \n",
       "1                1           0           0              NaN             2.0   \n",
       "2                0           0           0   Security staff             2.0   \n",
       "\n",
       "   MONTHS_BALANCE  STATUS  df_flag  \n",
       "0            16.0     1.0      0.0  \n",
       "1            15.0     1.0      0.0  \n",
       "2            30.0     0.0      0.0  \n",
       "\n",
       "[3 rows x 21 columns]"
      ]
     },
     "execution_count": 702,
     "metadata": {},
     "output_type": "execute_result"
    }
   ],
   "source": [
    "merge_data = pd.merge(application, loan_group, how=\"left\", right_on='ID', left_on='ID')\n",
    "merge_data.head(3)"
   ]
  },
  {
   "cell_type": "code",
   "execution_count": 703,
   "metadata": {},
   "outputs": [
    {
     "data": {
      "text/plain": [
       "(402100, 21)"
      ]
     },
     "execution_count": 703,
     "metadata": {},
     "output_type": "execute_result"
    }
   ],
   "source": [
    "#Check những trường hợp không match được thông tin df_flag\n",
    "merge_data[merge_data['df_flag'].isna()].shape\n",
    "#Đây là những trường hợp không có thông tin credit_record => Loại bỏ khỏi tập dữ liệu"
   ]
  },
  {
   "cell_type": "code",
   "execution_count": 704,
   "metadata": {},
   "outputs": [
    {
     "data": {
      "text/plain": [
       "(36457, 21)"
      ]
     },
     "execution_count": 704,
     "metadata": {},
     "output_type": "execute_result"
    }
   ],
   "source": [
    "#Loại bỏ những trường hợp không lấy được thông tin df_flag\n",
    "data = merge_data[~merge_data['df_flag'].isna()]\n",
    "data.shape"
   ]
  },
  {
   "cell_type": "markdown",
   "metadata": {},
   "source": [
    "2.3. application_record.csv"
   ]
  },
  {
   "cell_type": "code",
   "execution_count": 705,
   "metadata": {},
   "outputs": [
    {
     "data": {
      "text/plain": [
       "Index(['ID', 'gender', 'car', 'reality', 'chldNo', 'inc', 'inctp', 'edutp',\n",
       "       'famtp', 'houtp', 'birthDt', 'empDt', 'mobile', 'wkphone', 'phone',\n",
       "       'email', 'occtp', 'famsize', 'MONTHS_BALANCE', 'STATUS', 'df_flag'],\n",
       "      dtype='object')"
      ]
     },
     "execution_count": 705,
     "metadata": {},
     "output_type": "execute_result"
    }
   ],
   "source": [
    "#Rename columns trong dataset\n",
    "data.rename(columns = \n",
    "                {'CODE_GENDER': 'gender', \n",
    "                'FLAG_OWN_CAR': 'car',\n",
    "                'FLAG_OWN_REALTY': 'reality',\n",
    "                'CNT_CHILDREN': 'chldNo',\n",
    "                'AMT_INCOME_TOTAL': 'inc',\n",
    "                'NAME_EDUCATION_TYPE': 'edutp',\n",
    "                'NAME_FAMILY_STATUS': 'famtp',\n",
    "                'NAME_HOUSING_TYPE': 'houtp',\n",
    "                'FLAG_EMAIL': 'email',\n",
    "                'NAME_INCOME_TYPE': 'inctp',\n",
    "                'FLAG_WORK_PHONE': 'wkphone',\n",
    "                'FLAG_PHONE': 'phone',\n",
    "                'CNT_FAM_MEMBERS': 'famsize',\n",
    "                'OCCUPATION_TYPE': 'occtp',\n",
    "                'FLAG_MOBIL':'mobile',\n",
    "                'DAYS_BIRTH': 'birthDt',\n",
    "                'DAYS_EMPLOYED': 'empDt'\n",
    "                }, inplace=True)\n",
    "\n",
    "data.columns"
   ]
  },
  {
   "cell_type": "code",
   "execution_count": 706,
   "metadata": {},
   "outputs": [
    {
     "data": {
      "text/html": [
       "<div>\n",
       "<style scoped>\n",
       "    .dataframe tbody tr th:only-of-type {\n",
       "        vertical-align: middle;\n",
       "    }\n",
       "\n",
       "    .dataframe tbody tr th {\n",
       "        vertical-align: top;\n",
       "    }\n",
       "\n",
       "    .dataframe thead th {\n",
       "        text-align: right;\n",
       "    }\n",
       "</style>\n",
       "<table border=\"1\" class=\"dataframe\">\n",
       "  <thead>\n",
       "    <tr style=\"text-align: right;\">\n",
       "      <th></th>\n",
       "      <th>ID</th>\n",
       "      <th>gender</th>\n",
       "      <th>car</th>\n",
       "      <th>reality</th>\n",
       "      <th>chldNo</th>\n",
       "      <th>inc</th>\n",
       "      <th>inctp</th>\n",
       "      <th>edutp</th>\n",
       "      <th>famtp</th>\n",
       "      <th>houtp</th>\n",
       "      <th>...</th>\n",
       "      <th>mobile</th>\n",
       "      <th>wkphone</th>\n",
       "      <th>phone</th>\n",
       "      <th>email</th>\n",
       "      <th>occtp</th>\n",
       "      <th>famsize</th>\n",
       "      <th>MONTHS_BALANCE</th>\n",
       "      <th>STATUS</th>\n",
       "      <th>df_flag</th>\n",
       "      <th>wkTime</th>\n",
       "    </tr>\n",
       "  </thead>\n",
       "  <tbody>\n",
       "    <tr>\n",
       "      <th>0</th>\n",
       "      <td>5008804</td>\n",
       "      <td>M</td>\n",
       "      <td>Y</td>\n",
       "      <td>Y</td>\n",
       "      <td>0</td>\n",
       "      <td>427500.0</td>\n",
       "      <td>Working</td>\n",
       "      <td>Higher education</td>\n",
       "      <td>Civil marriage</td>\n",
       "      <td>Rented apartment</td>\n",
       "      <td>...</td>\n",
       "      <td>1</td>\n",
       "      <td>1</td>\n",
       "      <td>0</td>\n",
       "      <td>0</td>\n",
       "      <td>NaN</td>\n",
       "      <td>2.0</td>\n",
       "      <td>16.0</td>\n",
       "      <td>1.0</td>\n",
       "      <td>0.0</td>\n",
       "      <td>20.0</td>\n",
       "    </tr>\n",
       "    <tr>\n",
       "      <th>1</th>\n",
       "      <td>5008805</td>\n",
       "      <td>M</td>\n",
       "      <td>Y</td>\n",
       "      <td>Y</td>\n",
       "      <td>0</td>\n",
       "      <td>427500.0</td>\n",
       "      <td>Working</td>\n",
       "      <td>Higher education</td>\n",
       "      <td>Civil marriage</td>\n",
       "      <td>Rented apartment</td>\n",
       "      <td>...</td>\n",
       "      <td>1</td>\n",
       "      <td>1</td>\n",
       "      <td>0</td>\n",
       "      <td>0</td>\n",
       "      <td>NaN</td>\n",
       "      <td>2.0</td>\n",
       "      <td>15.0</td>\n",
       "      <td>1.0</td>\n",
       "      <td>0.0</td>\n",
       "      <td>20.0</td>\n",
       "    </tr>\n",
       "  </tbody>\n",
       "</table>\n",
       "<p>2 rows × 22 columns</p>\n",
       "</div>"
      ],
      "text/plain": [
       "        ID gender car reality  chldNo       inc    inctp             edutp  \\\n",
       "0  5008804      M   Y       Y       0  427500.0  Working  Higher education   \n",
       "1  5008805      M   Y       Y       0  427500.0  Working  Higher education   \n",
       "\n",
       "            famtp             houtp  ...  mobile  wkphone  phone  email  \\\n",
       "0  Civil marriage  Rented apartment  ...       1        1      0      0   \n",
       "1  Civil marriage  Rented apartment  ...       1        1      0      0   \n",
       "\n",
       "   occtp  famsize MONTHS_BALANCE  STATUS  df_flag  wkTime  \n",
       "0    NaN      2.0           16.0     1.0      0.0    20.0  \n",
       "1    NaN      2.0           15.0     1.0      0.0    20.0  \n",
       "\n",
       "[2 rows x 22 columns]"
      ]
     },
     "execution_count": 706,
     "metadata": {},
     "output_type": "execute_result"
    }
   ],
   "source": [
    "#Tính toán working time\n",
    "data['wkTime'] = np.round(np.subtract(data['empDt'], data['birthDt'])/365,0)\n",
    "data.head(2)"
   ]
  },
  {
   "cell_type": "code",
   "execution_count": 707,
   "metadata": {},
   "outputs": [],
   "source": [
    "#Drop irrelevant columns\n",
    "data = data.drop(columns=['MONTHS_BALANCE', 'STATUS', 'birthDt', 'empDt'])"
   ]
  },
  {
   "cell_type": "code",
   "execution_count": 708,
   "metadata": {},
   "outputs": [],
   "source": [
    "categorical_lst = ['gender', 'car', 'reality', 'inctp', 'edutp', 'famtp', 'houtp', 'occtp', 'mobile', 'wkphone', 'phone','email']\n",
    "numerical_lst = ['chldNo', 'inc', 'famsize','wkTime']"
   ]
  },
  {
   "cell_type": "markdown",
   "metadata": {},
   "source": [
    "III. EDA"
   ]
  },
  {
   "cell_type": "markdown",
   "metadata": {},
   "source": [
    "3.1. Kiểm tra missing và tính toán IV cho categorical variable:\n",
    "- gender\n",
    "- car\n",
    "- reality\n",
    "- inctp\n",
    "- edutp\n",
    "- famtp\n",
    "- houtp\n",
    "- occtp"
   ]
  },
  {
   "cell_type": "code",
   "execution_count": 709,
   "metadata": {},
   "outputs": [
    {
     "data": {
      "text/html": [
       "<div>\n",
       "<style scoped>\n",
       "    .dataframe tbody tr th:only-of-type {\n",
       "        vertical-align: middle;\n",
       "    }\n",
       "\n",
       "    .dataframe tbody tr th {\n",
       "        vertical-align: top;\n",
       "    }\n",
       "\n",
       "    .dataframe thead th {\n",
       "        text-align: right;\n",
       "    }\n",
       "</style>\n",
       "<table border=\"1\" class=\"dataframe\">\n",
       "  <thead>\n",
       "    <tr style=\"text-align: right;\">\n",
       "      <th></th>\n",
       "      <th>variable</th>\n",
       "      <th>IV</th>\n",
       "    </tr>\n",
       "  </thead>\n",
       "  <tbody>\n",
       "    <tr>\n",
       "      <th>0</th>\n",
       "      <td>gender</td>\n",
       "      <td>None</td>\n",
       "    </tr>\n",
       "    <tr>\n",
       "      <th>1</th>\n",
       "      <td>car</td>\n",
       "      <td>None</td>\n",
       "    </tr>\n",
       "    <tr>\n",
       "      <th>2</th>\n",
       "      <td>reality</td>\n",
       "      <td>None</td>\n",
       "    </tr>\n",
       "    <tr>\n",
       "      <th>3</th>\n",
       "      <td>inctp</td>\n",
       "      <td>None</td>\n",
       "    </tr>\n",
       "    <tr>\n",
       "      <th>4</th>\n",
       "      <td>edutp</td>\n",
       "      <td>None</td>\n",
       "    </tr>\n",
       "    <tr>\n",
       "      <th>5</th>\n",
       "      <td>famtp</td>\n",
       "      <td>None</td>\n",
       "    </tr>\n",
       "    <tr>\n",
       "      <th>6</th>\n",
       "      <td>houtp</td>\n",
       "      <td>None</td>\n",
       "    </tr>\n",
       "    <tr>\n",
       "      <th>7</th>\n",
       "      <td>occtp</td>\n",
       "      <td>None</td>\n",
       "    </tr>\n",
       "    <tr>\n",
       "      <th>8</th>\n",
       "      <td>mobile</td>\n",
       "      <td>None</td>\n",
       "    </tr>\n",
       "    <tr>\n",
       "      <th>9</th>\n",
       "      <td>wkphone</td>\n",
       "      <td>None</td>\n",
       "    </tr>\n",
       "    <tr>\n",
       "      <th>10</th>\n",
       "      <td>phone</td>\n",
       "      <td>None</td>\n",
       "    </tr>\n",
       "    <tr>\n",
       "      <th>11</th>\n",
       "      <td>email</td>\n",
       "      <td>None</td>\n",
       "    </tr>\n",
       "  </tbody>\n",
       "</table>\n",
       "</div>"
      ],
      "text/plain": [
       "   variable    IV\n",
       "0    gender  None\n",
       "1       car  None\n",
       "2   reality  None\n",
       "3     inctp  None\n",
       "4     edutp  None\n",
       "5     famtp  None\n",
       "6     houtp  None\n",
       "7     occtp  None\n",
       "8    mobile  None\n",
       "9   wkphone  None\n",
       "10    phone  None\n",
       "11    email  None"
      ]
     },
     "execution_count": 709,
     "metadata": {},
     "output_type": "execute_result"
    }
   ],
   "source": [
    "#Tạo bảng lưu thông tin IV\n",
    "ivtable_categorical = pd.DataFrame(categorical_lst , columns = ['variable'])\n",
    "ivtable_categorical['IV'] = None\n",
    "\n",
    "ivtable_categorical"
   ]
  },
  {
   "cell_type": "markdown",
   "metadata": {},
   "source": [
    "gender"
   ]
  },
  {
   "cell_type": "code",
   "execution_count": 710,
   "metadata": {},
   "outputs": [
    {
     "data": {
      "text/plain": [
       "0"
      ]
     },
     "execution_count": 710,
     "metadata": {},
     "output_type": "execute_result"
    }
   ],
   "source": [
    "#Kiểm tra giá trị missing cho biến gender\n",
    "data['gender'].isna().sum()"
   ]
  },
  {
   "cell_type": "code",
   "execution_count": 711,
   "metadata": {},
   "outputs": [
    {
     "name": "stdout",
     "output_type": "stream",
     "text": [
      "This variable IV is:  0.013039944644721704\n",
      "F    24430\n",
      "M    12027\n",
      "Name: gender, dtype: int64\n"
     ]
    },
    {
     "data": {
      "text/html": [
       "<div>\n",
       "<style scoped>\n",
       "    .dataframe tbody tr th:only-of-type {\n",
       "        vertical-align: middle;\n",
       "    }\n",
       "\n",
       "    .dataframe tbody tr th {\n",
       "        vertical-align: top;\n",
       "    }\n",
       "\n",
       "    .dataframe thead th {\n",
       "        text-align: right;\n",
       "    }\n",
       "</style>\n",
       "<table border=\"1\" class=\"dataframe\">\n",
       "  <thead>\n",
       "    <tr style=\"text-align: right;\">\n",
       "      <th></th>\n",
       "      <th>Variable</th>\n",
       "      <th>Value</th>\n",
       "      <th>All</th>\n",
       "      <th>Good</th>\n",
       "      <th>Bad</th>\n",
       "      <th>Share</th>\n",
       "      <th>Bad Rate</th>\n",
       "      <th>Distribution Good</th>\n",
       "      <th>Distribution Bad</th>\n",
       "      <th>WOE</th>\n",
       "      <th>IV</th>\n",
       "    </tr>\n",
       "  </thead>\n",
       "  <tbody>\n",
       "    <tr>\n",
       "      <th>0</th>\n",
       "      <td>gender</td>\n",
       "      <td>F</td>\n",
       "      <td>24430</td>\n",
       "      <td>24244</td>\n",
       "      <td>186</td>\n",
       "      <td>0.670105</td>\n",
       "      <td>0.007614</td>\n",
       "      <td>0.670557</td>\n",
       "      <td>0.615894</td>\n",
       "      <td>0.085034</td>\n",
       "      <td>0.004648</td>\n",
       "    </tr>\n",
       "    <tr>\n",
       "      <th>1</th>\n",
       "      <td>gender</td>\n",
       "      <td>M</td>\n",
       "      <td>12027</td>\n",
       "      <td>11911</td>\n",
       "      <td>116</td>\n",
       "      <td>0.329895</td>\n",
       "      <td>0.009645</td>\n",
       "      <td>0.329443</td>\n",
       "      <td>0.384106</td>\n",
       "      <td>-0.153516</td>\n",
       "      <td>0.008392</td>\n",
       "    </tr>\n",
       "  </tbody>\n",
       "</table>\n",
       "</div>"
      ],
      "text/plain": [
       "  Variable Value    All   Good  Bad     Share  Bad Rate  Distribution Good  \\\n",
       "0   gender     F  24430  24244  186  0.670105  0.007614           0.670557   \n",
       "1   gender     M  12027  11911  116  0.329895  0.009645           0.329443   \n",
       "\n",
       "   Distribution Bad       WOE        IV  \n",
       "0          0.615894  0.085034  0.004648  \n",
       "1          0.384106 -0.153516  0.008392  "
      ]
     },
     "execution_count": 711,
     "metadata": {},
     "output_type": "execute_result"
    }
   ],
   "source": [
    "iv, iv_gender = calc_iv(data, 'gender', 'df_flag')\n",
    "ivtable_categorical.loc[ivtable_categorical['variable']=='gender','IV'] = iv\n",
    "iv_gender"
   ]
  },
  {
   "cell_type": "markdown",
   "metadata": {},
   "source": [
    "car"
   ]
  },
  {
   "cell_type": "code",
   "execution_count": 712,
   "metadata": {},
   "outputs": [
    {
     "data": {
      "text/plain": [
       "0"
      ]
     },
     "execution_count": 712,
     "metadata": {},
     "output_type": "execute_result"
    }
   ],
   "source": [
    "#Kiểm tra giá trị missing cho biến car\n",
    "data['car'].isna().sum()"
   ]
  },
  {
   "cell_type": "code",
   "execution_count": 713,
   "metadata": {},
   "outputs": [
    {
     "name": "stdout",
     "output_type": "stream",
     "text": [
      "This variable IV is:  0.002824891289979709\n",
      "N    22614\n",
      "Y    13843\n",
      "Name: car, dtype: int64\n"
     ]
    },
    {
     "data": {
      "text/html": [
       "<div>\n",
       "<style scoped>\n",
       "    .dataframe tbody tr th:only-of-type {\n",
       "        vertical-align: middle;\n",
       "    }\n",
       "\n",
       "    .dataframe tbody tr th {\n",
       "        vertical-align: top;\n",
       "    }\n",
       "\n",
       "    .dataframe thead th {\n",
       "        text-align: right;\n",
       "    }\n",
       "</style>\n",
       "<table border=\"1\" class=\"dataframe\">\n",
       "  <thead>\n",
       "    <tr style=\"text-align: right;\">\n",
       "      <th></th>\n",
       "      <th>Variable</th>\n",
       "      <th>Value</th>\n",
       "      <th>All</th>\n",
       "      <th>Good</th>\n",
       "      <th>Bad</th>\n",
       "      <th>Share</th>\n",
       "      <th>Bad Rate</th>\n",
       "      <th>Distribution Good</th>\n",
       "      <th>Distribution Bad</th>\n",
       "      <th>WOE</th>\n",
       "      <th>IV</th>\n",
       "    </tr>\n",
       "  </thead>\n",
       "  <tbody>\n",
       "    <tr>\n",
       "      <th>0</th>\n",
       "      <td>car</td>\n",
       "      <td>N</td>\n",
       "      <td>22614</td>\n",
       "      <td>22419</td>\n",
       "      <td>195</td>\n",
       "      <td>0.620292</td>\n",
       "      <td>0.008623</td>\n",
       "      <td>0.62008</td>\n",
       "      <td>0.645695</td>\n",
       "      <td>-0.040479</td>\n",
       "      <td>0.001037</td>\n",
       "    </tr>\n",
       "    <tr>\n",
       "      <th>1</th>\n",
       "      <td>car</td>\n",
       "      <td>Y</td>\n",
       "      <td>13843</td>\n",
       "      <td>13736</td>\n",
       "      <td>107</td>\n",
       "      <td>0.379708</td>\n",
       "      <td>0.007730</td>\n",
       "      <td>0.37992</td>\n",
       "      <td>0.354305</td>\n",
       "      <td>0.069803</td>\n",
       "      <td>0.001788</td>\n",
       "    </tr>\n",
       "  </tbody>\n",
       "</table>\n",
       "</div>"
      ],
      "text/plain": [
       "  Variable Value    All   Good  Bad     Share  Bad Rate  Distribution Good  \\\n",
       "0      car     N  22614  22419  195  0.620292  0.008623            0.62008   \n",
       "1      car     Y  13843  13736  107  0.379708  0.007730            0.37992   \n",
       "\n",
       "   Distribution Bad       WOE        IV  \n",
       "0          0.645695 -0.040479  0.001037  \n",
       "1          0.354305  0.069803  0.001788  "
      ]
     },
     "execution_count": 713,
     "metadata": {},
     "output_type": "execute_result"
    }
   ],
   "source": [
    "iv, iv_car = calc_iv(data, 'car', 'df_flag')\n",
    "ivtable_categorical.loc[ivtable_categorical['variable']=='car','IV'] = iv\n",
    "iv_car"
   ]
  },
  {
   "cell_type": "markdown",
   "metadata": {},
   "source": [
    "reality"
   ]
  },
  {
   "cell_type": "code",
   "execution_count": 714,
   "metadata": {},
   "outputs": [
    {
     "data": {
      "text/plain": [
       "0"
      ]
     },
     "execution_count": 714,
     "metadata": {},
     "output_type": "execute_result"
    }
   ],
   "source": [
    "#Kiểm tra giá trị missing\n",
    "data['reality'].isna().sum()"
   ]
  },
  {
   "cell_type": "code",
   "execution_count": 715,
   "metadata": {},
   "outputs": [
    {
     "name": "stdout",
     "output_type": "stream",
     "text": [
      "This variable IV is:  0.02550150105179187\n",
      "Y    24506\n",
      "N    11951\n",
      "Name: reality, dtype: int64\n"
     ]
    },
    {
     "data": {
      "text/html": [
       "<div>\n",
       "<style scoped>\n",
       "    .dataframe tbody tr th:only-of-type {\n",
       "        vertical-align: middle;\n",
       "    }\n",
       "\n",
       "    .dataframe tbody tr th {\n",
       "        vertical-align: top;\n",
       "    }\n",
       "\n",
       "    .dataframe thead th {\n",
       "        text-align: right;\n",
       "    }\n",
       "</style>\n",
       "<table border=\"1\" class=\"dataframe\">\n",
       "  <thead>\n",
       "    <tr style=\"text-align: right;\">\n",
       "      <th></th>\n",
       "      <th>Variable</th>\n",
       "      <th>Value</th>\n",
       "      <th>All</th>\n",
       "      <th>Good</th>\n",
       "      <th>Bad</th>\n",
       "      <th>Share</th>\n",
       "      <th>Bad Rate</th>\n",
       "      <th>Distribution Good</th>\n",
       "      <th>Distribution Bad</th>\n",
       "      <th>WOE</th>\n",
       "      <th>IV</th>\n",
       "    </tr>\n",
       "  </thead>\n",
       "  <tbody>\n",
       "    <tr>\n",
       "      <th>0</th>\n",
       "      <td>reality</td>\n",
       "      <td>N</td>\n",
       "      <td>11951</td>\n",
       "      <td>11829</td>\n",
       "      <td>122</td>\n",
       "      <td>0.327811</td>\n",
       "      <td>0.010208</td>\n",
       "      <td>0.327175</td>\n",
       "      <td>0.403974</td>\n",
       "      <td>-0.210855</td>\n",
       "      <td>0.016193</td>\n",
       "    </tr>\n",
       "    <tr>\n",
       "      <th>1</th>\n",
       "      <td>reality</td>\n",
       "      <td>Y</td>\n",
       "      <td>24506</td>\n",
       "      <td>24326</td>\n",
       "      <td>180</td>\n",
       "      <td>0.672189</td>\n",
       "      <td>0.007345</td>\n",
       "      <td>0.672825</td>\n",
       "      <td>0.596026</td>\n",
       "      <td>0.121201</td>\n",
       "      <td>0.009308</td>\n",
       "    </tr>\n",
       "  </tbody>\n",
       "</table>\n",
       "</div>"
      ],
      "text/plain": [
       "  Variable Value    All   Good  Bad     Share  Bad Rate  Distribution Good  \\\n",
       "0  reality     N  11951  11829  122  0.327811  0.010208           0.327175   \n",
       "1  reality     Y  24506  24326  180  0.672189  0.007345           0.672825   \n",
       "\n",
       "   Distribution Bad       WOE        IV  \n",
       "0          0.403974 -0.210855  0.016193  \n",
       "1          0.596026  0.121201  0.009308  "
      ]
     },
     "execution_count": 715,
     "metadata": {},
     "output_type": "execute_result"
    }
   ],
   "source": [
    "iv, iv_reality = calc_iv(data, 'reality', 'df_flag')\n",
    "ivtable_categorical.loc[ivtable_categorical['variable']=='reality','IV'] = iv\n",
    "iv_reality"
   ]
  },
  {
   "cell_type": "markdown",
   "metadata": {},
   "source": [
    "inctp"
   ]
  },
  {
   "cell_type": "code",
   "execution_count": 716,
   "metadata": {},
   "outputs": [
    {
     "data": {
      "text/plain": [
       "0"
      ]
     },
     "execution_count": 716,
     "metadata": {},
     "output_type": "execute_result"
    }
   ],
   "source": [
    "#Kiểm tra giá trị missing\n",
    "data['inctp'].isna().sum()"
   ]
  },
  {
   "cell_type": "code",
   "execution_count": 717,
   "metadata": {},
   "outputs": [
    {
     "name": "stdout",
     "output_type": "stream",
     "text": [
      "This variable IV is:  0.05168464073183815\n",
      "Working                 18819\n",
      "Commercial associate     8490\n",
      "Pensioner                6152\n",
      "State servant            2985\n",
      "Student                    11\n",
      "Name: inctp, dtype: int64\n"
     ]
    },
    {
     "data": {
      "text/html": [
       "<div>\n",
       "<style scoped>\n",
       "    .dataframe tbody tr th:only-of-type {\n",
       "        vertical-align: middle;\n",
       "    }\n",
       "\n",
       "    .dataframe tbody tr th {\n",
       "        vertical-align: top;\n",
       "    }\n",
       "\n",
       "    .dataframe thead th {\n",
       "        text-align: right;\n",
       "    }\n",
       "</style>\n",
       "<table border=\"1\" class=\"dataframe\">\n",
       "  <thead>\n",
       "    <tr style=\"text-align: right;\">\n",
       "      <th></th>\n",
       "      <th>Variable</th>\n",
       "      <th>Value</th>\n",
       "      <th>All</th>\n",
       "      <th>Good</th>\n",
       "      <th>Bad</th>\n",
       "      <th>Share</th>\n",
       "      <th>Bad Rate</th>\n",
       "      <th>Distribution Good</th>\n",
       "      <th>Distribution Bad</th>\n",
       "      <th>WOE</th>\n",
       "      <th>IV</th>\n",
       "    </tr>\n",
       "  </thead>\n",
       "  <tbody>\n",
       "    <tr>\n",
       "      <th>0</th>\n",
       "      <td>inctp</td>\n",
       "      <td>Commercial associate</td>\n",
       "      <td>8490</td>\n",
       "      <td>8407</td>\n",
       "      <td>83</td>\n",
       "      <td>0.232877</td>\n",
       "      <td>0.009776</td>\n",
       "      <td>0.232527</td>\n",
       "      <td>0.274834</td>\n",
       "      <td>-0.167164</td>\n",
       "      <td>0.007072</td>\n",
       "    </tr>\n",
       "    <tr>\n",
       "      <th>1</th>\n",
       "      <td>inctp</td>\n",
       "      <td>Pensioner</td>\n",
       "      <td>6152</td>\n",
       "      <td>6081</td>\n",
       "      <td>71</td>\n",
       "      <td>0.168747</td>\n",
       "      <td>0.011541</td>\n",
       "      <td>0.168193</td>\n",
       "      <td>0.235099</td>\n",
       "      <td>-0.334899</td>\n",
       "      <td>0.022407</td>\n",
       "    </tr>\n",
       "    <tr>\n",
       "      <th>2</th>\n",
       "      <td>inctp</td>\n",
       "      <td>State servant</td>\n",
       "      <td>2985</td>\n",
       "      <td>2966</td>\n",
       "      <td>19</td>\n",
       "      <td>0.081877</td>\n",
       "      <td>0.006365</td>\n",
       "      <td>0.082036</td>\n",
       "      <td>0.062914</td>\n",
       "      <td>0.265387</td>\n",
       "      <td>0.005075</td>\n",
       "    </tr>\n",
       "    <tr>\n",
       "      <th>3</th>\n",
       "      <td>inctp</td>\n",
       "      <td>Student</td>\n",
       "      <td>11</td>\n",
       "      <td>11</td>\n",
       "      <td>0</td>\n",
       "      <td>0.000302</td>\n",
       "      <td>0.000000</td>\n",
       "      <td>0.000304</td>\n",
       "      <td>0.000000</td>\n",
       "      <td>0.000000</td>\n",
       "      <td>0.000000</td>\n",
       "    </tr>\n",
       "    <tr>\n",
       "      <th>4</th>\n",
       "      <td>inctp</td>\n",
       "      <td>Working</td>\n",
       "      <td>18819</td>\n",
       "      <td>18690</td>\n",
       "      <td>129</td>\n",
       "      <td>0.516197</td>\n",
       "      <td>0.006855</td>\n",
       "      <td>0.516941</td>\n",
       "      <td>0.427152</td>\n",
       "      <td>0.190788</td>\n",
       "      <td>0.017131</td>\n",
       "    </tr>\n",
       "  </tbody>\n",
       "</table>\n",
       "</div>"
      ],
      "text/plain": [
       "  Variable                 Value    All   Good  Bad     Share  Bad Rate  \\\n",
       "0    inctp  Commercial associate   8490   8407   83  0.232877  0.009776   \n",
       "1    inctp             Pensioner   6152   6081   71  0.168747  0.011541   \n",
       "2    inctp         State servant   2985   2966   19  0.081877  0.006365   \n",
       "3    inctp               Student     11     11    0  0.000302  0.000000   \n",
       "4    inctp               Working  18819  18690  129  0.516197  0.006855   \n",
       "\n",
       "   Distribution Good  Distribution Bad       WOE        IV  \n",
       "0           0.232527          0.274834 -0.167164  0.007072  \n",
       "1           0.168193          0.235099 -0.334899  0.022407  \n",
       "2           0.082036          0.062914  0.265387  0.005075  \n",
       "3           0.000304          0.000000  0.000000  0.000000  \n",
       "4           0.516941          0.427152  0.190788  0.017131  "
      ]
     },
     "execution_count": 717,
     "metadata": {},
     "output_type": "execute_result"
    }
   ],
   "source": [
    "iv, iv_inctp = calc_iv(data, 'inctp', 'df_flag')\n",
    "ivtable_categorical.loc[ivtable_categorical['variable']=='inctp','IV'] = iv\n",
    "iv_inctp"
   ]
  },
  {
   "cell_type": "markdown",
   "metadata": {},
   "source": [
    "edutp\t"
   ]
  },
  {
   "cell_type": "code",
   "execution_count": 718,
   "metadata": {},
   "outputs": [
    {
     "data": {
      "text/plain": [
       "0"
      ]
     },
     "execution_count": 718,
     "metadata": {},
     "output_type": "execute_result"
    }
   ],
   "source": [
    "#Kiểm tra giá trị missing\n",
    "data['edutp'].isna().sum()"
   ]
  },
  {
   "cell_type": "code",
   "execution_count": 719,
   "metadata": {},
   "outputs": [
    {
     "name": "stdout",
     "output_type": "stream",
     "text": [
      "This variable IV is:  0.03704630899309003\n",
      "Secondary / secondary special    24777\n",
      "Higher education                  9864\n",
      "Incomplete higher                 1410\n",
      "Lower secondary                    374\n",
      "Academic degree                     32\n",
      "Name: edutp, dtype: int64\n"
     ]
    },
    {
     "data": {
      "text/html": [
       "<div>\n",
       "<style scoped>\n",
       "    .dataframe tbody tr th:only-of-type {\n",
       "        vertical-align: middle;\n",
       "    }\n",
       "\n",
       "    .dataframe tbody tr th {\n",
       "        vertical-align: top;\n",
       "    }\n",
       "\n",
       "    .dataframe thead th {\n",
       "        text-align: right;\n",
       "    }\n",
       "</style>\n",
       "<table border=\"1\" class=\"dataframe\">\n",
       "  <thead>\n",
       "    <tr style=\"text-align: right;\">\n",
       "      <th></th>\n",
       "      <th>Variable</th>\n",
       "      <th>Value</th>\n",
       "      <th>All</th>\n",
       "      <th>Good</th>\n",
       "      <th>Bad</th>\n",
       "      <th>Share</th>\n",
       "      <th>Bad Rate</th>\n",
       "      <th>Distribution Good</th>\n",
       "      <th>Distribution Bad</th>\n",
       "      <th>WOE</th>\n",
       "      <th>IV</th>\n",
       "    </tr>\n",
       "  </thead>\n",
       "  <tbody>\n",
       "    <tr>\n",
       "      <th>0</th>\n",
       "      <td>edutp</td>\n",
       "      <td>Academic degree</td>\n",
       "      <td>32</td>\n",
       "      <td>32</td>\n",
       "      <td>0</td>\n",
       "      <td>0.000878</td>\n",
       "      <td>0.000000</td>\n",
       "      <td>0.000885</td>\n",
       "      <td>0.000000</td>\n",
       "      <td>0.000000</td>\n",
       "      <td>0.000000</td>\n",
       "    </tr>\n",
       "    <tr>\n",
       "      <th>1</th>\n",
       "      <td>edutp</td>\n",
       "      <td>Higher education</td>\n",
       "      <td>9864</td>\n",
       "      <td>9773</td>\n",
       "      <td>91</td>\n",
       "      <td>0.270565</td>\n",
       "      <td>0.009225</td>\n",
       "      <td>0.270308</td>\n",
       "      <td>0.301325</td>\n",
       "      <td>-0.108624</td>\n",
       "      <td>0.003369</td>\n",
       "    </tr>\n",
       "    <tr>\n",
       "      <th>2</th>\n",
       "      <td>edutp</td>\n",
       "      <td>Incomplete higher</td>\n",
       "      <td>1410</td>\n",
       "      <td>1390</td>\n",
       "      <td>20</td>\n",
       "      <td>0.038676</td>\n",
       "      <td>0.014184</td>\n",
       "      <td>0.038446</td>\n",
       "      <td>0.066225</td>\n",
       "      <td>-0.543817</td>\n",
       "      <td>0.015107</td>\n",
       "    </tr>\n",
       "    <tr>\n",
       "      <th>3</th>\n",
       "      <td>edutp</td>\n",
       "      <td>Lower secondary</td>\n",
       "      <td>374</td>\n",
       "      <td>367</td>\n",
       "      <td>7</td>\n",
       "      <td>0.010259</td>\n",
       "      <td>0.018717</td>\n",
       "      <td>0.010151</td>\n",
       "      <td>0.023179</td>\n",
       "      <td>-0.825692</td>\n",
       "      <td>0.010757</td>\n",
       "    </tr>\n",
       "    <tr>\n",
       "      <th>4</th>\n",
       "      <td>edutp</td>\n",
       "      <td>Secondary / secondary special</td>\n",
       "      <td>24777</td>\n",
       "      <td>24593</td>\n",
       "      <td>184</td>\n",
       "      <td>0.679623</td>\n",
       "      <td>0.007426</td>\n",
       "      <td>0.680210</td>\n",
       "      <td>0.609272</td>\n",
       "      <td>0.110138</td>\n",
       "      <td>0.007813</td>\n",
       "    </tr>\n",
       "  </tbody>\n",
       "</table>\n",
       "</div>"
      ],
      "text/plain": [
       "  Variable                          Value    All   Good  Bad     Share  \\\n",
       "0    edutp                Academic degree     32     32    0  0.000878   \n",
       "1    edutp               Higher education   9864   9773   91  0.270565   \n",
       "2    edutp              Incomplete higher   1410   1390   20  0.038676   \n",
       "3    edutp                Lower secondary    374    367    7  0.010259   \n",
       "4    edutp  Secondary / secondary special  24777  24593  184  0.679623   \n",
       "\n",
       "   Bad Rate  Distribution Good  Distribution Bad       WOE        IV  \n",
       "0  0.000000           0.000885          0.000000  0.000000  0.000000  \n",
       "1  0.009225           0.270308          0.301325 -0.108624  0.003369  \n",
       "2  0.014184           0.038446          0.066225 -0.543817  0.015107  \n",
       "3  0.018717           0.010151          0.023179 -0.825692  0.010757  \n",
       "4  0.007426           0.680210          0.609272  0.110138  0.007813  "
      ]
     },
     "execution_count": 719,
     "metadata": {},
     "output_type": "execute_result"
    }
   ],
   "source": [
    "iv, iv_edutp = calc_iv(data, 'edutp', 'df_flag')\n",
    "ivtable_categorical.loc[ivtable_categorical['variable']=='edutp','IV'] = iv\n",
    "iv_edutp"
   ]
  },
  {
   "cell_type": "markdown",
   "metadata": {},
   "source": [
    "famtp"
   ]
  },
  {
   "cell_type": "code",
   "execution_count": 720,
   "metadata": {},
   "outputs": [
    {
     "data": {
      "text/plain": [
       "0"
      ]
     },
     "execution_count": 720,
     "metadata": {},
     "output_type": "execute_result"
    }
   ],
   "source": [
    "#Kiểm tra giá trị missing\n",
    "data['famtp'].isna().sum()"
   ]
  },
  {
   "cell_type": "code",
   "execution_count": 721,
   "metadata": {},
   "outputs": [
    {
     "name": "stdout",
     "output_type": "stream",
     "text": [
      "This variable IV is:  0.09226285116928862\n",
      "Married                 25048\n",
      "Single / not married     4829\n",
      "Civil marriage           2945\n",
      "Separated                2103\n",
      "Widow                    1532\n",
      "Name: famtp, dtype: int64\n"
     ]
    },
    {
     "data": {
      "text/html": [
       "<div>\n",
       "<style scoped>\n",
       "    .dataframe tbody tr th:only-of-type {\n",
       "        vertical-align: middle;\n",
       "    }\n",
       "\n",
       "    .dataframe tbody tr th {\n",
       "        vertical-align: top;\n",
       "    }\n",
       "\n",
       "    .dataframe thead th {\n",
       "        text-align: right;\n",
       "    }\n",
       "</style>\n",
       "<table border=\"1\" class=\"dataframe\">\n",
       "  <thead>\n",
       "    <tr style=\"text-align: right;\">\n",
       "      <th></th>\n",
       "      <th>Variable</th>\n",
       "      <th>Value</th>\n",
       "      <th>All</th>\n",
       "      <th>Good</th>\n",
       "      <th>Bad</th>\n",
       "      <th>Share</th>\n",
       "      <th>Bad Rate</th>\n",
       "      <th>Distribution Good</th>\n",
       "      <th>Distribution Bad</th>\n",
       "      <th>WOE</th>\n",
       "      <th>IV</th>\n",
       "    </tr>\n",
       "  </thead>\n",
       "  <tbody>\n",
       "    <tr>\n",
       "      <th>0</th>\n",
       "      <td>famtp</td>\n",
       "      <td>Civil marriage</td>\n",
       "      <td>2945</td>\n",
       "      <td>2937</td>\n",
       "      <td>8</td>\n",
       "      <td>0.080780</td>\n",
       "      <td>0.002716</td>\n",
       "      <td>0.081234</td>\n",
       "      <td>0.026490</td>\n",
       "      <td>1.120559</td>\n",
       "      <td>0.061343</td>\n",
       "    </tr>\n",
       "    <tr>\n",
       "      <th>1</th>\n",
       "      <td>famtp</td>\n",
       "      <td>Married</td>\n",
       "      <td>25048</td>\n",
       "      <td>24850</td>\n",
       "      <td>198</td>\n",
       "      <td>0.687056</td>\n",
       "      <td>0.007905</td>\n",
       "      <td>0.687318</td>\n",
       "      <td>0.655629</td>\n",
       "      <td>0.047202</td>\n",
       "      <td>0.001496</td>\n",
       "    </tr>\n",
       "    <tr>\n",
       "      <th>2</th>\n",
       "      <td>famtp</td>\n",
       "      <td>Separated</td>\n",
       "      <td>2103</td>\n",
       "      <td>2076</td>\n",
       "      <td>27</td>\n",
       "      <td>0.057684</td>\n",
       "      <td>0.012839</td>\n",
       "      <td>0.057419</td>\n",
       "      <td>0.089404</td>\n",
       "      <td>-0.442782</td>\n",
       "      <td>0.014162</td>\n",
       "    </tr>\n",
       "    <tr>\n",
       "      <th>3</th>\n",
       "      <td>famtp</td>\n",
       "      <td>Single / not married</td>\n",
       "      <td>4829</td>\n",
       "      <td>4778</td>\n",
       "      <td>51</td>\n",
       "      <td>0.132457</td>\n",
       "      <td>0.010561</td>\n",
       "      <td>0.132153</td>\n",
       "      <td>0.168874</td>\n",
       "      <td>-0.245192</td>\n",
       "      <td>0.009004</td>\n",
       "    </tr>\n",
       "    <tr>\n",
       "      <th>4</th>\n",
       "      <td>famtp</td>\n",
       "      <td>Widow</td>\n",
       "      <td>1532</td>\n",
       "      <td>1514</td>\n",
       "      <td>18</td>\n",
       "      <td>0.042022</td>\n",
       "      <td>0.011749</td>\n",
       "      <td>0.041875</td>\n",
       "      <td>0.059603</td>\n",
       "      <td>-0.353005</td>\n",
       "      <td>0.006258</td>\n",
       "    </tr>\n",
       "  </tbody>\n",
       "</table>\n",
       "</div>"
      ],
      "text/plain": [
       "  Variable                 Value    All   Good  Bad     Share  Bad Rate  \\\n",
       "0    famtp        Civil marriage   2945   2937    8  0.080780  0.002716   \n",
       "1    famtp               Married  25048  24850  198  0.687056  0.007905   \n",
       "2    famtp             Separated   2103   2076   27  0.057684  0.012839   \n",
       "3    famtp  Single / not married   4829   4778   51  0.132457  0.010561   \n",
       "4    famtp                 Widow   1532   1514   18  0.042022  0.011749   \n",
       "\n",
       "   Distribution Good  Distribution Bad       WOE        IV  \n",
       "0           0.081234          0.026490  1.120559  0.061343  \n",
       "1           0.687318          0.655629  0.047202  0.001496  \n",
       "2           0.057419          0.089404 -0.442782  0.014162  \n",
       "3           0.132153          0.168874 -0.245192  0.009004  \n",
       "4           0.041875          0.059603 -0.353005  0.006258  "
      ]
     },
     "execution_count": 721,
     "metadata": {},
     "output_type": "execute_result"
    }
   ],
   "source": [
    "iv, iv_famtp = calc_iv(data, 'famtp', 'df_flag')\n",
    "ivtable_categorical.loc[ivtable_categorical['variable']=='famtp','IV'] = iv\n",
    "iv_famtp"
   ]
  },
  {
   "cell_type": "markdown",
   "metadata": {},
   "source": [
    "houtp"
   ]
  },
  {
   "cell_type": "code",
   "execution_count": 722,
   "metadata": {},
   "outputs": [
    {
     "data": {
      "text/plain": [
       "0"
      ]
     },
     "execution_count": 722,
     "metadata": {},
     "output_type": "execute_result"
    }
   ],
   "source": [
    "#Kiểm tra giá trị missing\n",
    "data['houtp'].isna().sum()"
   ]
  },
  {
   "cell_type": "code",
   "execution_count": 723,
   "metadata": {},
   "outputs": [
    {
     "name": "stdout",
     "output_type": "stream",
     "text": [
      "This variable IV is:  0.05957405876520091\n",
      "House / apartment      32548\n",
      "With parents            1776\n",
      "Municipal apartment     1128\n",
      "Rented apartment         575\n",
      "Office apartment         262\n",
      "Co-op apartment          168\n",
      "Name: houtp, dtype: int64\n"
     ]
    },
    {
     "data": {
      "text/html": [
       "<div>\n",
       "<style scoped>\n",
       "    .dataframe tbody tr th:only-of-type {\n",
       "        vertical-align: middle;\n",
       "    }\n",
       "\n",
       "    .dataframe tbody tr th {\n",
       "        vertical-align: top;\n",
       "    }\n",
       "\n",
       "    .dataframe thead th {\n",
       "        text-align: right;\n",
       "    }\n",
       "</style>\n",
       "<table border=\"1\" class=\"dataframe\">\n",
       "  <thead>\n",
       "    <tr style=\"text-align: right;\">\n",
       "      <th></th>\n",
       "      <th>Variable</th>\n",
       "      <th>Value</th>\n",
       "      <th>All</th>\n",
       "      <th>Good</th>\n",
       "      <th>Bad</th>\n",
       "      <th>Share</th>\n",
       "      <th>Bad Rate</th>\n",
       "      <th>Distribution Good</th>\n",
       "      <th>Distribution Bad</th>\n",
       "      <th>WOE</th>\n",
       "      <th>IV</th>\n",
       "    </tr>\n",
       "  </thead>\n",
       "  <tbody>\n",
       "    <tr>\n",
       "      <th>0</th>\n",
       "      <td>houtp</td>\n",
       "      <td>Co-op apartment</td>\n",
       "      <td>168</td>\n",
       "      <td>165</td>\n",
       "      <td>3</td>\n",
       "      <td>0.004608</td>\n",
       "      <td>0.017857</td>\n",
       "      <td>0.004564</td>\n",
       "      <td>0.009934</td>\n",
       "      <td>-0.777810</td>\n",
       "      <td>0.004177</td>\n",
       "    </tr>\n",
       "    <tr>\n",
       "      <th>1</th>\n",
       "      <td>houtp</td>\n",
       "      <td>House / apartment</td>\n",
       "      <td>32548</td>\n",
       "      <td>32288</td>\n",
       "      <td>260</td>\n",
       "      <td>0.892778</td>\n",
       "      <td>0.007988</td>\n",
       "      <td>0.893044</td>\n",
       "      <td>0.860927</td>\n",
       "      <td>0.036626</td>\n",
       "      <td>0.001176</td>\n",
       "    </tr>\n",
       "    <tr>\n",
       "      <th>2</th>\n",
       "      <td>houtp</td>\n",
       "      <td>Municipal apartment</td>\n",
       "      <td>1128</td>\n",
       "      <td>1106</td>\n",
       "      <td>22</td>\n",
       "      <td>0.030941</td>\n",
       "      <td>0.019504</td>\n",
       "      <td>0.030591</td>\n",
       "      <td>0.072848</td>\n",
       "      <td>-0.867681</td>\n",
       "      <td>0.036666</td>\n",
       "    </tr>\n",
       "    <tr>\n",
       "      <th>3</th>\n",
       "      <td>houtp</td>\n",
       "      <td>Office apartment</td>\n",
       "      <td>262</td>\n",
       "      <td>258</td>\n",
       "      <td>4</td>\n",
       "      <td>0.007187</td>\n",
       "      <td>0.015267</td>\n",
       "      <td>0.007136</td>\n",
       "      <td>0.013245</td>\n",
       "      <td>-0.618478</td>\n",
       "      <td>0.003778</td>\n",
       "    </tr>\n",
       "    <tr>\n",
       "      <th>4</th>\n",
       "      <td>houtp</td>\n",
       "      <td>Rented apartment</td>\n",
       "      <td>575</td>\n",
       "      <td>570</td>\n",
       "      <td>5</td>\n",
       "      <td>0.015772</td>\n",
       "      <td>0.008696</td>\n",
       "      <td>0.015765</td>\n",
       "      <td>0.016556</td>\n",
       "      <td>-0.048945</td>\n",
       "      <td>0.000039</td>\n",
       "    </tr>\n",
       "    <tr>\n",
       "      <th>5</th>\n",
       "      <td>houtp</td>\n",
       "      <td>With parents</td>\n",
       "      <td>1776</td>\n",
       "      <td>1768</td>\n",
       "      <td>8</td>\n",
       "      <td>0.048715</td>\n",
       "      <td>0.004505</td>\n",
       "      <td>0.048901</td>\n",
       "      <td>0.026490</td>\n",
       "      <td>0.613019</td>\n",
       "      <td>0.013738</td>\n",
       "    </tr>\n",
       "  </tbody>\n",
       "</table>\n",
       "</div>"
      ],
      "text/plain": [
       "  Variable                Value    All   Good  Bad     Share  Bad Rate  \\\n",
       "0    houtp      Co-op apartment    168    165    3  0.004608  0.017857   \n",
       "1    houtp    House / apartment  32548  32288  260  0.892778  0.007988   \n",
       "2    houtp  Municipal apartment   1128   1106   22  0.030941  0.019504   \n",
       "3    houtp     Office apartment    262    258    4  0.007187  0.015267   \n",
       "4    houtp     Rented apartment    575    570    5  0.015772  0.008696   \n",
       "5    houtp         With parents   1776   1768    8  0.048715  0.004505   \n",
       "\n",
       "   Distribution Good  Distribution Bad       WOE        IV  \n",
       "0           0.004564          0.009934 -0.777810  0.004177  \n",
       "1           0.893044          0.860927  0.036626  0.001176  \n",
       "2           0.030591          0.072848 -0.867681  0.036666  \n",
       "3           0.007136          0.013245 -0.618478  0.003778  \n",
       "4           0.015765          0.016556 -0.048945  0.000039  \n",
       "5           0.048901          0.026490  0.613019  0.013738  "
      ]
     },
     "execution_count": 723,
     "metadata": {},
     "output_type": "execute_result"
    }
   ],
   "source": [
    "iv, iv_houtp = calc_iv(data, 'houtp', 'df_flag')\n",
    "ivtable_categorical.loc[ivtable_categorical['variable']=='houtp','IV'] = iv\n",
    "iv_houtp"
   ]
  },
  {
   "cell_type": "markdown",
   "metadata": {},
   "source": [
    "occtp"
   ]
  },
  {
   "cell_type": "code",
   "execution_count": 724,
   "metadata": {},
   "outputs": [
    {
     "data": {
      "text/plain": [
       "11323"
      ]
     },
     "execution_count": 724,
     "metadata": {},
     "output_type": "execute_result"
    }
   ],
   "source": [
    "#Kiểm tra giá trị missing\n",
    "data['occtp'].isna().sum()"
   ]
  },
  {
   "cell_type": "code",
   "execution_count": 725,
   "metadata": {},
   "outputs": [
    {
     "data": {
      "text/plain": [
       "Laborers                 6211\n",
       "Core staff               3591\n",
       "Sales staff              3485\n",
       "Managers                 3012\n",
       "Drivers                  2138\n",
       "High skill tech staff    1383\n",
       "Accountants              1241\n",
       "Medicine staff           1207\n",
       "Cooking staff             655\n",
       "Security staff            592\n",
       "Cleaning staff            551\n",
       "Private service staff     344\n",
       "Low-skill Laborers        175\n",
       "Waiters/barmen staff      174\n",
       "Secretaries               151\n",
       "HR staff                   85\n",
       "Realty agents              79\n",
       "IT staff                   60\n",
       "Name: occtp, dtype: int64"
      ]
     },
     "execution_count": 725,
     "metadata": {},
     "output_type": "execute_result"
    }
   ],
   "source": [
    "data.loc[data['occtp']=='NULL', 'occtp'] = 'Nojob'\n",
    "data['occtp'].value_counts()\n"
   ]
  },
  {
   "cell_type": "code",
   "execution_count": 726,
   "metadata": {},
   "outputs": [
    {
     "name": "stdout",
     "output_type": "stream",
     "text": [
      "This variable IV is:  0.08232465758944826\n",
      "NULL                     11323\n",
      "Laborers                  6211\n",
      "Core staff                3591\n",
      "Sales staff               3485\n",
      "Managers                  3012\n",
      "Drivers                   2138\n",
      "High skill tech staff     1383\n",
      "Accountants               1241\n",
      "Medicine staff            1207\n",
      "Cooking staff              655\n",
      "Security staff             592\n",
      "Cleaning staff             551\n",
      "Private service staff      344\n",
      "Low-skill Laborers         175\n",
      "Waiters/barmen staff       174\n",
      "Secretaries                151\n",
      "HR staff                    85\n",
      "Realty agents               79\n",
      "IT staff                    60\n",
      "Name: occtp, dtype: int64\n"
     ]
    },
    {
     "data": {
      "text/html": [
       "<div>\n",
       "<style scoped>\n",
       "    .dataframe tbody tr th:only-of-type {\n",
       "        vertical-align: middle;\n",
       "    }\n",
       "\n",
       "    .dataframe tbody tr th {\n",
       "        vertical-align: top;\n",
       "    }\n",
       "\n",
       "    .dataframe thead th {\n",
       "        text-align: right;\n",
       "    }\n",
       "</style>\n",
       "<table border=\"1\" class=\"dataframe\">\n",
       "  <thead>\n",
       "    <tr style=\"text-align: right;\">\n",
       "      <th></th>\n",
       "      <th>Variable</th>\n",
       "      <th>Value</th>\n",
       "      <th>All</th>\n",
       "      <th>Good</th>\n",
       "      <th>Bad</th>\n",
       "      <th>Share</th>\n",
       "      <th>Bad Rate</th>\n",
       "      <th>Distribution Good</th>\n",
       "      <th>Distribution Bad</th>\n",
       "      <th>WOE</th>\n",
       "      <th>IV</th>\n",
       "    </tr>\n",
       "  </thead>\n",
       "  <tbody>\n",
       "    <tr>\n",
       "      <th>0</th>\n",
       "      <td>occtp</td>\n",
       "      <td>Accountants</td>\n",
       "      <td>1241</td>\n",
       "      <td>1234</td>\n",
       "      <td>7</td>\n",
       "      <td>0.034040</td>\n",
       "      <td>0.005641</td>\n",
       "      <td>0.034131</td>\n",
       "      <td>0.023179</td>\n",
       "      <td>0.386963</td>\n",
       "      <td>0.004238</td>\n",
       "    </tr>\n",
       "    <tr>\n",
       "      <th>1</th>\n",
       "      <td>occtp</td>\n",
       "      <td>Cleaning staff</td>\n",
       "      <td>551</td>\n",
       "      <td>548</td>\n",
       "      <td>3</td>\n",
       "      <td>0.015114</td>\n",
       "      <td>0.005445</td>\n",
       "      <td>0.015157</td>\n",
       "      <td>0.009934</td>\n",
       "      <td>0.422519</td>\n",
       "      <td>0.002207</td>\n",
       "    </tr>\n",
       "    <tr>\n",
       "      <th>2</th>\n",
       "      <td>occtp</td>\n",
       "      <td>Cooking staff</td>\n",
       "      <td>655</td>\n",
       "      <td>650</td>\n",
       "      <td>5</td>\n",
       "      <td>0.017966</td>\n",
       "      <td>0.007634</td>\n",
       "      <td>0.017978</td>\n",
       "      <td>0.016556</td>\n",
       "      <td>0.082391</td>\n",
       "      <td>0.000117</td>\n",
       "    </tr>\n",
       "    <tr>\n",
       "      <th>3</th>\n",
       "      <td>occtp</td>\n",
       "      <td>Core staff</td>\n",
       "      <td>3591</td>\n",
       "      <td>3542</td>\n",
       "      <td>49</td>\n",
       "      <td>0.098500</td>\n",
       "      <td>0.013645</td>\n",
       "      <td>0.097967</td>\n",
       "      <td>0.162252</td>\n",
       "      <td>-0.504517</td>\n",
       "      <td>0.032433</td>\n",
       "    </tr>\n",
       "    <tr>\n",
       "      <th>4</th>\n",
       "      <td>occtp</td>\n",
       "      <td>Drivers</td>\n",
       "      <td>2138</td>\n",
       "      <td>2123</td>\n",
       "      <td>15</td>\n",
       "      <td>0.058644</td>\n",
       "      <td>0.007016</td>\n",
       "      <td>0.058719</td>\n",
       "      <td>0.049669</td>\n",
       "      <td>0.167392</td>\n",
       "      <td>0.001515</td>\n",
       "    </tr>\n",
       "    <tr>\n",
       "      <th>5</th>\n",
       "      <td>occtp</td>\n",
       "      <td>HR staff</td>\n",
       "      <td>85</td>\n",
       "      <td>85</td>\n",
       "      <td>0</td>\n",
       "      <td>0.002332</td>\n",
       "      <td>0.000000</td>\n",
       "      <td>0.002351</td>\n",
       "      <td>0.000000</td>\n",
       "      <td>0.000000</td>\n",
       "      <td>0.000000</td>\n",
       "    </tr>\n",
       "    <tr>\n",
       "      <th>6</th>\n",
       "      <td>occtp</td>\n",
       "      <td>High skill tech staff</td>\n",
       "      <td>1383</td>\n",
       "      <td>1370</td>\n",
       "      <td>13</td>\n",
       "      <td>0.037935</td>\n",
       "      <td>0.009400</td>\n",
       "      <td>0.037892</td>\n",
       "      <td>0.043046</td>\n",
       "      <td>-0.127527</td>\n",
       "      <td>0.000657</td>\n",
       "    </tr>\n",
       "    <tr>\n",
       "      <th>7</th>\n",
       "      <td>occtp</td>\n",
       "      <td>IT staff</td>\n",
       "      <td>60</td>\n",
       "      <td>58</td>\n",
       "      <td>2</td>\n",
       "      <td>0.001646</td>\n",
       "      <td>0.033333</td>\n",
       "      <td>0.001604</td>\n",
       "      <td>0.006623</td>\n",
       "      <td>-1.417848</td>\n",
       "      <td>0.007115</td>\n",
       "    </tr>\n",
       "    <tr>\n",
       "      <th>8</th>\n",
       "      <td>occtp</td>\n",
       "      <td>Laborers</td>\n",
       "      <td>6211</td>\n",
       "      <td>6163</td>\n",
       "      <td>48</td>\n",
       "      <td>0.170365</td>\n",
       "      <td>0.007728</td>\n",
       "      <td>0.170461</td>\n",
       "      <td>0.158940</td>\n",
       "      <td>0.069974</td>\n",
       "      <td>0.000806</td>\n",
       "    </tr>\n",
       "    <tr>\n",
       "      <th>9</th>\n",
       "      <td>occtp</td>\n",
       "      <td>Low-skill Laborers</td>\n",
       "      <td>175</td>\n",
       "      <td>173</td>\n",
       "      <td>2</td>\n",
       "      <td>0.004800</td>\n",
       "      <td>0.011429</td>\n",
       "      <td>0.004785</td>\n",
       "      <td>0.006623</td>\n",
       "      <td>-0.324999</td>\n",
       "      <td>0.000597</td>\n",
       "    </tr>\n",
       "    <tr>\n",
       "      <th>10</th>\n",
       "      <td>occtp</td>\n",
       "      <td>Managers</td>\n",
       "      <td>3012</td>\n",
       "      <td>2992</td>\n",
       "      <td>20</td>\n",
       "      <td>0.082618</td>\n",
       "      <td>0.006640</td>\n",
       "      <td>0.082755</td>\n",
       "      <td>0.066225</td>\n",
       "      <td>0.222822</td>\n",
       "      <td>0.003683</td>\n",
       "    </tr>\n",
       "    <tr>\n",
       "      <th>11</th>\n",
       "      <td>occtp</td>\n",
       "      <td>Medicine staff</td>\n",
       "      <td>1207</td>\n",
       "      <td>1201</td>\n",
       "      <td>6</td>\n",
       "      <td>0.033107</td>\n",
       "      <td>0.004971</td>\n",
       "      <td>0.033218</td>\n",
       "      <td>0.019868</td>\n",
       "      <td>0.514007</td>\n",
       "      <td>0.006862</td>\n",
       "    </tr>\n",
       "    <tr>\n",
       "      <th>12</th>\n",
       "      <td>occtp</td>\n",
       "      <td>NULL</td>\n",
       "      <td>11323</td>\n",
       "      <td>11224</td>\n",
       "      <td>99</td>\n",
       "      <td>0.310585</td>\n",
       "      <td>0.008743</td>\n",
       "      <td>0.310441</td>\n",
       "      <td>0.327815</td>\n",
       "      <td>-0.054454</td>\n",
       "      <td>0.000946</td>\n",
       "    </tr>\n",
       "    <tr>\n",
       "      <th>13</th>\n",
       "      <td>occtp</td>\n",
       "      <td>Private service staff</td>\n",
       "      <td>344</td>\n",
       "      <td>344</td>\n",
       "      <td>0</td>\n",
       "      <td>0.009436</td>\n",
       "      <td>0.000000</td>\n",
       "      <td>0.009515</td>\n",
       "      <td>0.000000</td>\n",
       "      <td>0.000000</td>\n",
       "      <td>0.000000</td>\n",
       "    </tr>\n",
       "    <tr>\n",
       "      <th>14</th>\n",
       "      <td>occtp</td>\n",
       "      <td>Realty agents</td>\n",
       "      <td>79</td>\n",
       "      <td>79</td>\n",
       "      <td>0</td>\n",
       "      <td>0.002167</td>\n",
       "      <td>0.000000</td>\n",
       "      <td>0.002185</td>\n",
       "      <td>0.000000</td>\n",
       "      <td>0.000000</td>\n",
       "      <td>0.000000</td>\n",
       "    </tr>\n",
       "    <tr>\n",
       "      <th>15</th>\n",
       "      <td>occtp</td>\n",
       "      <td>Sales staff</td>\n",
       "      <td>3485</td>\n",
       "      <td>3465</td>\n",
       "      <td>20</td>\n",
       "      <td>0.095592</td>\n",
       "      <td>0.005739</td>\n",
       "      <td>0.095837</td>\n",
       "      <td>0.066225</td>\n",
       "      <td>0.369592</td>\n",
       "      <td>0.010944</td>\n",
       "    </tr>\n",
       "    <tr>\n",
       "      <th>16</th>\n",
       "      <td>occtp</td>\n",
       "      <td>Secretaries</td>\n",
       "      <td>151</td>\n",
       "      <td>149</td>\n",
       "      <td>2</td>\n",
       "      <td>0.004142</td>\n",
       "      <td>0.013245</td>\n",
       "      <td>0.004121</td>\n",
       "      <td>0.006623</td>\n",
       "      <td>-0.474344</td>\n",
       "      <td>0.001187</td>\n",
       "    </tr>\n",
       "    <tr>\n",
       "      <th>17</th>\n",
       "      <td>occtp</td>\n",
       "      <td>Security staff</td>\n",
       "      <td>592</td>\n",
       "      <td>583</td>\n",
       "      <td>9</td>\n",
       "      <td>0.016238</td>\n",
       "      <td>0.015203</td>\n",
       "      <td>0.016125</td>\n",
       "      <td>0.029801</td>\n",
       "      <td>-0.614181</td>\n",
       "      <td>0.008400</td>\n",
       "    </tr>\n",
       "    <tr>\n",
       "      <th>18</th>\n",
       "      <td>occtp</td>\n",
       "      <td>Waiters/barmen staff</td>\n",
       "      <td>174</td>\n",
       "      <td>172</td>\n",
       "      <td>2</td>\n",
       "      <td>0.004773</td>\n",
       "      <td>0.011494</td>\n",
       "      <td>0.004757</td>\n",
       "      <td>0.006623</td>\n",
       "      <td>-0.330796</td>\n",
       "      <td>0.000617</td>\n",
       "    </tr>\n",
       "  </tbody>\n",
       "</table>\n",
       "</div>"
      ],
      "text/plain": [
       "   Variable                  Value    All   Good  Bad     Share  Bad Rate  \\\n",
       "0     occtp            Accountants   1241   1234    7  0.034040  0.005641   \n",
       "1     occtp         Cleaning staff    551    548    3  0.015114  0.005445   \n",
       "2     occtp          Cooking staff    655    650    5  0.017966  0.007634   \n",
       "3     occtp             Core staff   3591   3542   49  0.098500  0.013645   \n",
       "4     occtp                Drivers   2138   2123   15  0.058644  0.007016   \n",
       "5     occtp               HR staff     85     85    0  0.002332  0.000000   \n",
       "6     occtp  High skill tech staff   1383   1370   13  0.037935  0.009400   \n",
       "7     occtp               IT staff     60     58    2  0.001646  0.033333   \n",
       "8     occtp               Laborers   6211   6163   48  0.170365  0.007728   \n",
       "9     occtp     Low-skill Laborers    175    173    2  0.004800  0.011429   \n",
       "10    occtp               Managers   3012   2992   20  0.082618  0.006640   \n",
       "11    occtp         Medicine staff   1207   1201    6  0.033107  0.004971   \n",
       "12    occtp                   NULL  11323  11224   99  0.310585  0.008743   \n",
       "13    occtp  Private service staff    344    344    0  0.009436  0.000000   \n",
       "14    occtp          Realty agents     79     79    0  0.002167  0.000000   \n",
       "15    occtp            Sales staff   3485   3465   20  0.095592  0.005739   \n",
       "16    occtp            Secretaries    151    149    2  0.004142  0.013245   \n",
       "17    occtp         Security staff    592    583    9  0.016238  0.015203   \n",
       "18    occtp   Waiters/barmen staff    174    172    2  0.004773  0.011494   \n",
       "\n",
       "    Distribution Good  Distribution Bad       WOE        IV  \n",
       "0            0.034131          0.023179  0.386963  0.004238  \n",
       "1            0.015157          0.009934  0.422519  0.002207  \n",
       "2            0.017978          0.016556  0.082391  0.000117  \n",
       "3            0.097967          0.162252 -0.504517  0.032433  \n",
       "4            0.058719          0.049669  0.167392  0.001515  \n",
       "5            0.002351          0.000000  0.000000  0.000000  \n",
       "6            0.037892          0.043046 -0.127527  0.000657  \n",
       "7            0.001604          0.006623 -1.417848  0.007115  \n",
       "8            0.170461          0.158940  0.069974  0.000806  \n",
       "9            0.004785          0.006623 -0.324999  0.000597  \n",
       "10           0.082755          0.066225  0.222822  0.003683  \n",
       "11           0.033218          0.019868  0.514007  0.006862  \n",
       "12           0.310441          0.327815 -0.054454  0.000946  \n",
       "13           0.009515          0.000000  0.000000  0.000000  \n",
       "14           0.002185          0.000000  0.000000  0.000000  \n",
       "15           0.095837          0.066225  0.369592  0.010944  \n",
       "16           0.004121          0.006623 -0.474344  0.001187  \n",
       "17           0.016125          0.029801 -0.614181  0.008400  \n",
       "18           0.004757          0.006623 -0.330796  0.000617  "
      ]
     },
     "execution_count": 726,
     "metadata": {},
     "output_type": "execute_result"
    }
   ],
   "source": [
    "iv, iv_occtp = calc_iv(data, 'occtp', 'df_flag')\n",
    "ivtable_categorical.loc[ivtable_categorical['variable']=='occtp','IV'] = iv\n",
    "iv_occtp"
   ]
  },
  {
   "cell_type": "markdown",
   "metadata": {},
   "source": [
    "mobile"
   ]
  },
  {
   "cell_type": "code",
   "execution_count": 727,
   "metadata": {},
   "outputs": [
    {
     "data": {
      "text/plain": [
       "0"
      ]
     },
     "execution_count": 727,
     "metadata": {},
     "output_type": "execute_result"
    }
   ],
   "source": [
    "#Kiểm tra giá trị missing\n",
    "data['mobile'].isna().sum()"
   ]
  },
  {
   "cell_type": "code",
   "execution_count": 728,
   "metadata": {},
   "outputs": [
    {
     "name": "stdout",
     "output_type": "stream",
     "text": [
      "This variable IV is:  0.0\n",
      "1    36457\n",
      "Name: mobile, dtype: int64\n"
     ]
    },
    {
     "data": {
      "text/html": [
       "<div>\n",
       "<style scoped>\n",
       "    .dataframe tbody tr th:only-of-type {\n",
       "        vertical-align: middle;\n",
       "    }\n",
       "\n",
       "    .dataframe tbody tr th {\n",
       "        vertical-align: top;\n",
       "    }\n",
       "\n",
       "    .dataframe thead th {\n",
       "        text-align: right;\n",
       "    }\n",
       "</style>\n",
       "<table border=\"1\" class=\"dataframe\">\n",
       "  <thead>\n",
       "    <tr style=\"text-align: right;\">\n",
       "      <th></th>\n",
       "      <th>Variable</th>\n",
       "      <th>Value</th>\n",
       "      <th>All</th>\n",
       "      <th>Good</th>\n",
       "      <th>Bad</th>\n",
       "      <th>Share</th>\n",
       "      <th>Bad Rate</th>\n",
       "      <th>Distribution Good</th>\n",
       "      <th>Distribution Bad</th>\n",
       "      <th>WOE</th>\n",
       "      <th>IV</th>\n",
       "    </tr>\n",
       "  </thead>\n",
       "  <tbody>\n",
       "    <tr>\n",
       "      <th>0</th>\n",
       "      <td>mobile</td>\n",
       "      <td>1</td>\n",
       "      <td>36457</td>\n",
       "      <td>36155</td>\n",
       "      <td>302</td>\n",
       "      <td>1.0</td>\n",
       "      <td>0.008284</td>\n",
       "      <td>1.0</td>\n",
       "      <td>1.0</td>\n",
       "      <td>0.0</td>\n",
       "      <td>0.0</td>\n",
       "    </tr>\n",
       "  </tbody>\n",
       "</table>\n",
       "</div>"
      ],
      "text/plain": [
       "  Variable  Value    All   Good  Bad  Share  Bad Rate  Distribution Good  \\\n",
       "0   mobile      1  36457  36155  302    1.0  0.008284                1.0   \n",
       "\n",
       "   Distribution Bad  WOE   IV  \n",
       "0               1.0  0.0  0.0  "
      ]
     },
     "execution_count": 728,
     "metadata": {},
     "output_type": "execute_result"
    }
   ],
   "source": [
    "iv, iv_mobile = calc_iv(data, 'mobile', 'df_flag')\n",
    "ivtable_categorical.loc[ivtable_categorical['variable']=='mobile','IV'] = iv\n",
    "iv_mobile"
   ]
  },
  {
   "cell_type": "markdown",
   "metadata": {},
   "source": [
    "wkphone"
   ]
  },
  {
   "cell_type": "code",
   "execution_count": 729,
   "metadata": {},
   "outputs": [
    {
     "data": {
      "text/plain": [
       "0"
      ]
     },
     "execution_count": 729,
     "metadata": {},
     "output_type": "execute_result"
    }
   ],
   "source": [
    "#Kiểm tra giá trị missing\n",
    "data['wkphone'].isna().sum()"
   ]
  },
  {
   "cell_type": "code",
   "execution_count": 730,
   "metadata": {},
   "outputs": [
    {
     "name": "stdout",
     "output_type": "stream",
     "text": [
      "This variable IV is:  0.0014903992273561468\n",
      "0    28235\n",
      "1     8222\n",
      "Name: wkphone, dtype: int64\n"
     ]
    },
    {
     "data": {
      "text/html": [
       "<div>\n",
       "<style scoped>\n",
       "    .dataframe tbody tr th:only-of-type {\n",
       "        vertical-align: middle;\n",
       "    }\n",
       "\n",
       "    .dataframe tbody tr th {\n",
       "        vertical-align: top;\n",
       "    }\n",
       "\n",
       "    .dataframe thead th {\n",
       "        text-align: right;\n",
       "    }\n",
       "</style>\n",
       "<table border=\"1\" class=\"dataframe\">\n",
       "  <thead>\n",
       "    <tr style=\"text-align: right;\">\n",
       "      <th></th>\n",
       "      <th>Variable</th>\n",
       "      <th>Value</th>\n",
       "      <th>All</th>\n",
       "      <th>Good</th>\n",
       "      <th>Bad</th>\n",
       "      <th>Share</th>\n",
       "      <th>Bad Rate</th>\n",
       "      <th>Distribution Good</th>\n",
       "      <th>Distribution Bad</th>\n",
       "      <th>WOE</th>\n",
       "      <th>IV</th>\n",
       "    </tr>\n",
       "  </thead>\n",
       "  <tbody>\n",
       "    <tr>\n",
       "      <th>0</th>\n",
       "      <td>wkphone</td>\n",
       "      <td>0</td>\n",
       "      <td>28235</td>\n",
       "      <td>28006</td>\n",
       "      <td>229</td>\n",
       "      <td>0.774474</td>\n",
       "      <td>0.008111</td>\n",
       "      <td>0.774609</td>\n",
       "      <td>0.758278</td>\n",
       "      <td>0.021309</td>\n",
       "      <td>0.000348</td>\n",
       "    </tr>\n",
       "    <tr>\n",
       "      <th>1</th>\n",
       "      <td>wkphone</td>\n",
       "      <td>1</td>\n",
       "      <td>8222</td>\n",
       "      <td>8149</td>\n",
       "      <td>73</td>\n",
       "      <td>0.225526</td>\n",
       "      <td>0.008879</td>\n",
       "      <td>0.225391</td>\n",
       "      <td>0.241722</td>\n",
       "      <td>-0.069952</td>\n",
       "      <td>0.001142</td>\n",
       "    </tr>\n",
       "  </tbody>\n",
       "</table>\n",
       "</div>"
      ],
      "text/plain": [
       "  Variable  Value    All   Good  Bad     Share  Bad Rate  Distribution Good  \\\n",
       "0  wkphone      0  28235  28006  229  0.774474  0.008111           0.774609   \n",
       "1  wkphone      1   8222   8149   73  0.225526  0.008879           0.225391   \n",
       "\n",
       "   Distribution Bad       WOE        IV  \n",
       "0          0.758278  0.021309  0.000348  \n",
       "1          0.241722 -0.069952  0.001142  "
      ]
     },
     "execution_count": 730,
     "metadata": {},
     "output_type": "execute_result"
    }
   ],
   "source": [
    "iv, iv_wkphone = calc_iv(data, 'wkphone', 'df_flag')\n",
    "ivtable_categorical.loc[ivtable_categorical['variable']=='wkphone','IV'] = iv\n",
    "iv_wkphone"
   ]
  },
  {
   "cell_type": "markdown",
   "metadata": {},
   "source": [
    "phone"
   ]
  },
  {
   "cell_type": "code",
   "execution_count": 731,
   "metadata": {},
   "outputs": [
    {
     "data": {
      "text/plain": [
       "0"
      ]
     },
     "execution_count": 731,
     "metadata": {},
     "output_type": "execute_result"
    }
   ],
   "source": [
    "#Kiểm tra giá trị missing\n",
    "data['phone'].isna().sum()"
   ]
  },
  {
   "cell_type": "code",
   "execution_count": 732,
   "metadata": {},
   "outputs": [
    {
     "name": "stdout",
     "output_type": "stream",
     "text": [
      "This variable IV is:  0.007412833255331314\n",
      "0    25709\n",
      "1    10748\n",
      "Name: phone, dtype: int64\n"
     ]
    },
    {
     "data": {
      "text/html": [
       "<div>\n",
       "<style scoped>\n",
       "    .dataframe tbody tr th:only-of-type {\n",
       "        vertical-align: middle;\n",
       "    }\n",
       "\n",
       "    .dataframe tbody tr th {\n",
       "        vertical-align: top;\n",
       "    }\n",
       "\n",
       "    .dataframe thead th {\n",
       "        text-align: right;\n",
       "    }\n",
       "</style>\n",
       "<table border=\"1\" class=\"dataframe\">\n",
       "  <thead>\n",
       "    <tr style=\"text-align: right;\">\n",
       "      <th></th>\n",
       "      <th>Variable</th>\n",
       "      <th>Value</th>\n",
       "      <th>All</th>\n",
       "      <th>Good</th>\n",
       "      <th>Bad</th>\n",
       "      <th>Share</th>\n",
       "      <th>Bad Rate</th>\n",
       "      <th>Distribution Good</th>\n",
       "      <th>Distribution Bad</th>\n",
       "      <th>WOE</th>\n",
       "      <th>IV</th>\n",
       "    </tr>\n",
       "  </thead>\n",
       "  <tbody>\n",
       "    <tr>\n",
       "      <th>0</th>\n",
       "      <td>phone</td>\n",
       "      <td>0</td>\n",
       "      <td>25709</td>\n",
       "      <td>25508</td>\n",
       "      <td>201</td>\n",
       "      <td>0.705187</td>\n",
       "      <td>0.007818</td>\n",
       "      <td>0.705518</td>\n",
       "      <td>0.665563</td>\n",
       "      <td>0.058299</td>\n",
       "      <td>0.002329</td>\n",
       "    </tr>\n",
       "    <tr>\n",
       "      <th>1</th>\n",
       "      <td>phone</td>\n",
       "      <td>1</td>\n",
       "      <td>10748</td>\n",
       "      <td>10647</td>\n",
       "      <td>101</td>\n",
       "      <td>0.294813</td>\n",
       "      <td>0.009397</td>\n",
       "      <td>0.294482</td>\n",
       "      <td>0.334437</td>\n",
       "      <td>-0.127231</td>\n",
       "      <td>0.005083</td>\n",
       "    </tr>\n",
       "  </tbody>\n",
       "</table>\n",
       "</div>"
      ],
      "text/plain": [
       "  Variable  Value    All   Good  Bad     Share  Bad Rate  Distribution Good  \\\n",
       "0    phone      0  25709  25508  201  0.705187  0.007818           0.705518   \n",
       "1    phone      1  10748  10647  101  0.294813  0.009397           0.294482   \n",
       "\n",
       "   Distribution Bad       WOE        IV  \n",
       "0          0.665563  0.058299  0.002329  \n",
       "1          0.334437 -0.127231  0.005083  "
      ]
     },
     "execution_count": 732,
     "metadata": {},
     "output_type": "execute_result"
    }
   ],
   "source": [
    "iv, iv_phone = calc_iv(data, 'phone', 'df_flag')\n",
    "ivtable_categorical.loc[ivtable_categorical['variable']=='phone','IV'] = iv\n",
    "iv_phone"
   ]
  },
  {
   "cell_type": "markdown",
   "metadata": {},
   "source": [
    "email"
   ]
  },
  {
   "cell_type": "code",
   "execution_count": 733,
   "metadata": {},
   "outputs": [
    {
     "data": {
      "text/plain": [
       "0"
      ]
     },
     "execution_count": 733,
     "metadata": {},
     "output_type": "execute_result"
    }
   ],
   "source": [
    "#Kiểm tra giá trị missing\n",
    "data['email'].isna().sum()"
   ]
  },
  {
   "cell_type": "code",
   "execution_count": 734,
   "metadata": {},
   "outputs": [
    {
     "name": "stdout",
     "output_type": "stream",
     "text": [
      "This variable IV is:  0.0010996296907394968\n",
      "0    33186\n",
      "1     3271\n",
      "Name: email, dtype: int64\n"
     ]
    },
    {
     "data": {
      "text/html": [
       "<div>\n",
       "<style scoped>\n",
       "    .dataframe tbody tr th:only-of-type {\n",
       "        vertical-align: middle;\n",
       "    }\n",
       "\n",
       "    .dataframe tbody tr th {\n",
       "        vertical-align: top;\n",
       "    }\n",
       "\n",
       "    .dataframe thead th {\n",
       "        text-align: right;\n",
       "    }\n",
       "</style>\n",
       "<table border=\"1\" class=\"dataframe\">\n",
       "  <thead>\n",
       "    <tr style=\"text-align: right;\">\n",
       "      <th></th>\n",
       "      <th>Variable</th>\n",
       "      <th>Value</th>\n",
       "      <th>All</th>\n",
       "      <th>Good</th>\n",
       "      <th>Bad</th>\n",
       "      <th>Share</th>\n",
       "      <th>Bad Rate</th>\n",
       "      <th>Distribution Good</th>\n",
       "      <th>Distribution Bad</th>\n",
       "      <th>WOE</th>\n",
       "      <th>IV</th>\n",
       "    </tr>\n",
       "  </thead>\n",
       "  <tbody>\n",
       "    <tr>\n",
       "      <th>0</th>\n",
       "      <td>email</td>\n",
       "      <td>0</td>\n",
       "      <td>33186</td>\n",
       "      <td>32914</td>\n",
       "      <td>272</td>\n",
       "      <td>0.910278</td>\n",
       "      <td>0.008196</td>\n",
       "      <td>0.910358</td>\n",
       "      <td>0.900662</td>\n",
       "      <td>0.010708</td>\n",
       "      <td>0.000104</td>\n",
       "    </tr>\n",
       "    <tr>\n",
       "      <th>1</th>\n",
       "      <td>email</td>\n",
       "      <td>1</td>\n",
       "      <td>3271</td>\n",
       "      <td>3241</td>\n",
       "      <td>30</td>\n",
       "      <td>0.089722</td>\n",
       "      <td>0.009172</td>\n",
       "      <td>0.089642</td>\n",
       "      <td>0.099338</td>\n",
       "      <td>-0.102704</td>\n",
       "      <td>0.000996</td>\n",
       "    </tr>\n",
       "  </tbody>\n",
       "</table>\n",
       "</div>"
      ],
      "text/plain": [
       "  Variable  Value    All   Good  Bad     Share  Bad Rate  Distribution Good  \\\n",
       "0    email      0  33186  32914  272  0.910278  0.008196           0.910358   \n",
       "1    email      1   3271   3241   30  0.089722  0.009172           0.089642   \n",
       "\n",
       "   Distribution Bad       WOE        IV  \n",
       "0          0.900662  0.010708  0.000104  \n",
       "1          0.099338 -0.102704  0.000996  "
      ]
     },
     "execution_count": 734,
     "metadata": {},
     "output_type": "execute_result"
    }
   ],
   "source": [
    "iv, iv_email = calc_iv(data, 'email', 'df_flag')\n",
    "ivtable_categorical.loc[ivtable_categorical['variable']=='email','IV'] = iv\n",
    "iv_email"
   ]
  },
  {
   "cell_type": "code",
   "execution_count": 735,
   "metadata": {},
   "outputs": [
    {
     "data": {
      "text/html": [
       "<div>\n",
       "<style scoped>\n",
       "    .dataframe tbody tr th:only-of-type {\n",
       "        vertical-align: middle;\n",
       "    }\n",
       "\n",
       "    .dataframe tbody tr th {\n",
       "        vertical-align: top;\n",
       "    }\n",
       "\n",
       "    .dataframe thead th {\n",
       "        text-align: right;\n",
       "    }\n",
       "</style>\n",
       "<table border=\"1\" class=\"dataframe\">\n",
       "  <thead>\n",
       "    <tr style=\"text-align: right;\">\n",
       "      <th></th>\n",
       "      <th>variable</th>\n",
       "      <th>IV</th>\n",
       "    </tr>\n",
       "  </thead>\n",
       "  <tbody>\n",
       "    <tr>\n",
       "      <th>0</th>\n",
       "      <td>gender</td>\n",
       "      <td>0.01304</td>\n",
       "    </tr>\n",
       "    <tr>\n",
       "      <th>1</th>\n",
       "      <td>car</td>\n",
       "      <td>0.002825</td>\n",
       "    </tr>\n",
       "    <tr>\n",
       "      <th>2</th>\n",
       "      <td>reality</td>\n",
       "      <td>0.025502</td>\n",
       "    </tr>\n",
       "    <tr>\n",
       "      <th>3</th>\n",
       "      <td>inctp</td>\n",
       "      <td>0.051685</td>\n",
       "    </tr>\n",
       "    <tr>\n",
       "      <th>4</th>\n",
       "      <td>edutp</td>\n",
       "      <td>0.037046</td>\n",
       "    </tr>\n",
       "    <tr>\n",
       "      <th>5</th>\n",
       "      <td>famtp</td>\n",
       "      <td>0.092263</td>\n",
       "    </tr>\n",
       "    <tr>\n",
       "      <th>6</th>\n",
       "      <td>houtp</td>\n",
       "      <td>0.059574</td>\n",
       "    </tr>\n",
       "    <tr>\n",
       "      <th>7</th>\n",
       "      <td>occtp</td>\n",
       "      <td>0.082325</td>\n",
       "    </tr>\n",
       "    <tr>\n",
       "      <th>8</th>\n",
       "      <td>mobile</td>\n",
       "      <td>0.0</td>\n",
       "    </tr>\n",
       "    <tr>\n",
       "      <th>9</th>\n",
       "      <td>wkphone</td>\n",
       "      <td>0.00149</td>\n",
       "    </tr>\n",
       "    <tr>\n",
       "      <th>10</th>\n",
       "      <td>phone</td>\n",
       "      <td>0.007413</td>\n",
       "    </tr>\n",
       "    <tr>\n",
       "      <th>11</th>\n",
       "      <td>email</td>\n",
       "      <td>0.0011</td>\n",
       "    </tr>\n",
       "  </tbody>\n",
       "</table>\n",
       "</div>"
      ],
      "text/plain": [
       "   variable        IV\n",
       "0    gender   0.01304\n",
       "1       car  0.002825\n",
       "2   reality  0.025502\n",
       "3     inctp  0.051685\n",
       "4     edutp  0.037046\n",
       "5     famtp  0.092263\n",
       "6     houtp  0.059574\n",
       "7     occtp  0.082325\n",
       "8    mobile       0.0\n",
       "9   wkphone   0.00149\n",
       "10    phone  0.007413\n",
       "11    email    0.0011"
      ]
     },
     "execution_count": 735,
     "metadata": {},
     "output_type": "execute_result"
    }
   ],
   "source": [
    "#Bảng tổng hợp IV\n",
    "ivtable_categorical"
   ]
  },
  {
   "cell_type": "code",
   "execution_count": 736,
   "metadata": {},
   "outputs": [
    {
     "data": {
      "text/plain": [
       "['reality', 'inctp', 'edutp', 'famtp', 'houtp', 'occtp']"
      ]
     },
     "execution_count": 736,
     "metadata": {},
     "output_type": "execute_result"
    }
   ],
   "source": [
    "#Lấy ngưỡng IV là >0.02\n",
    "useful_categorical_lst= ivtable_categorical['variable'][ivtable_categorical['IV']>0.02].tolist()\n",
    "useful_categorical_lst"
   ]
  },
  {
   "cell_type": "markdown",
   "metadata": {},
   "source": [
    "3.3. Kiểm tra giá trị missing, outlier, Bining và tính IV cho numerical features\n",
    "\n",
    "- chldNo\n",
    "- inc\n",
    "- mobile\n",
    "- wkphone\n",
    "- phone\n",
    "- email\n",
    "- famsize\n",
    "- wkTime"
   ]
  },
  {
   "cell_type": "code",
   "execution_count": 737,
   "metadata": {},
   "outputs": [
    {
     "data": {
      "text/html": [
       "<div>\n",
       "<style scoped>\n",
       "    .dataframe tbody tr th:only-of-type {\n",
       "        vertical-align: middle;\n",
       "    }\n",
       "\n",
       "    .dataframe tbody tr th {\n",
       "        vertical-align: top;\n",
       "    }\n",
       "\n",
       "    .dataframe thead th {\n",
       "        text-align: right;\n",
       "    }\n",
       "</style>\n",
       "<table border=\"1\" class=\"dataframe\">\n",
       "  <thead>\n",
       "    <tr style=\"text-align: right;\">\n",
       "      <th></th>\n",
       "      <th>variable</th>\n",
       "      <th>IV</th>\n",
       "    </tr>\n",
       "  </thead>\n",
       "  <tbody>\n",
       "    <tr>\n",
       "      <th>0</th>\n",
       "      <td>chldNo</td>\n",
       "      <td>None</td>\n",
       "    </tr>\n",
       "    <tr>\n",
       "      <th>1</th>\n",
       "      <td>inc</td>\n",
       "      <td>None</td>\n",
       "    </tr>\n",
       "    <tr>\n",
       "      <th>2</th>\n",
       "      <td>famsize</td>\n",
       "      <td>None</td>\n",
       "    </tr>\n",
       "    <tr>\n",
       "      <th>3</th>\n",
       "      <td>wkTime</td>\n",
       "      <td>None</td>\n",
       "    </tr>\n",
       "  </tbody>\n",
       "</table>\n",
       "</div>"
      ],
      "text/plain": [
       "  variable    IV\n",
       "0   chldNo  None\n",
       "1      inc  None\n",
       "2  famsize  None\n",
       "3   wkTime  None"
      ]
     },
     "execution_count": 737,
     "metadata": {},
     "output_type": "execute_result"
    }
   ],
   "source": [
    "#Tạo bảng lưu thông tin IV\n",
    "ivtable_numerical = pd.DataFrame(numerical_lst , columns = ['variable'])\n",
    "ivtable_numerical['IV'] = None\n",
    "\n",
    "ivtable_numerical"
   ]
  },
  {
   "cell_type": "markdown",
   "metadata": {},
   "source": [
    "chldNo"
   ]
  },
  {
   "cell_type": "code",
   "execution_count": 738,
   "metadata": {},
   "outputs": [
    {
     "data": {
      "text/plain": [
       "0"
      ]
     },
     "execution_count": 738,
     "metadata": {},
     "output_type": "execute_result"
    }
   ],
   "source": [
    "#Kiểm tra giá trị missing\n",
    "data['chldNo'].isna().sum()"
   ]
  },
  {
   "cell_type": "code",
   "execution_count": 739,
   "metadata": {},
   "outputs": [
    {
     "data": {
      "image/png": "[encoded data removed]",
      "text/plain": [
       "<Figure size 640x480 with 1 Axes>"
      ]
     },
     "metadata": {},
     "output_type": "display_data"
    }
   ],
   "source": [
    "#Kiểm tra giá trị outlier\n",
    "sns.boxplot(data['chldNo'])\n",
    "plt.show()"
   ]
  },
  {
   "cell_type": "code",
   "execution_count": 740,
   "metadata": {},
   "outputs": [],
   "source": [
    "# Xử lý giá trị outlier\n",
    "data['chldNo'] = mstats.winsorize(data['chldNo'], limits=[0.025, 0.025])\n"
   ]
  },
  {
   "cell_type": "code",
   "execution_count": 741,
   "metadata": {},
   "outputs": [
    {
     "data": {
      "image/png": "[encoded data removed]",
      "text/plain": [
       "<Figure size 640x480 with 1 Axes>"
      ]
     },
     "metadata": {},
     "output_type": "display_data"
    }
   ],
   "source": [
    "#Kiểm tra sau khi xử lý outlier\n",
    "sns.boxplot(data['chldNo'])\n",
    "plt.show()"
   ]
  },
  {
   "cell_type": "code",
   "execution_count": 742,
   "metadata": {},
   "outputs": [
    {
     "data": {
      "text/plain": [
       "0    25201\n",
       "1     7492\n",
       "2     3764\n",
       "Name: chldNo, dtype: int64"
      ]
     },
     "execution_count": 742,
     "metadata": {},
     "output_type": "execute_result"
    }
   ],
   "source": [
    "#Kiểm tra sau khi xử lý outlier\n",
    "data['chldNo'].value_counts()"
   ]
  },
  {
   "cell_type": "code",
   "execution_count": 743,
   "metadata": {},
   "outputs": [
    {
     "name": "stdout",
     "output_type": "stream",
     "text": [
      "This variable IV is:  0.002878174240527035\n",
      "0    25201\n",
      "1     7492\n",
      "2     3764\n",
      "Name: chldNo, dtype: int64\n"
     ]
    },
    {
     "data": {
      "text/html": [
       "<div>\n",
       "<style scoped>\n",
       "    .dataframe tbody tr th:only-of-type {\n",
       "        vertical-align: middle;\n",
       "    }\n",
       "\n",
       "    .dataframe tbody tr th {\n",
       "        vertical-align: top;\n",
       "    }\n",
       "\n",
       "    .dataframe thead th {\n",
       "        text-align: right;\n",
       "    }\n",
       "</style>\n",
       "<table border=\"1\" class=\"dataframe\">\n",
       "  <thead>\n",
       "    <tr style=\"text-align: right;\">\n",
       "      <th></th>\n",
       "      <th>Variable</th>\n",
       "      <th>Value</th>\n",
       "      <th>All</th>\n",
       "      <th>Good</th>\n",
       "      <th>Bad</th>\n",
       "      <th>Share</th>\n",
       "      <th>Bad Rate</th>\n",
       "      <th>Distribution Good</th>\n",
       "      <th>Distribution Bad</th>\n",
       "      <th>WOE</th>\n",
       "      <th>IV</th>\n",
       "    </tr>\n",
       "  </thead>\n",
       "  <tbody>\n",
       "    <tr>\n",
       "      <th>0</th>\n",
       "      <td>chldNo</td>\n",
       "      <td>0</td>\n",
       "      <td>25201</td>\n",
       "      <td>24986</td>\n",
       "      <td>215</td>\n",
       "      <td>0.691253</td>\n",
       "      <td>0.008531</td>\n",
       "      <td>0.691080</td>\n",
       "      <td>0.711921</td>\n",
       "      <td>-0.029711</td>\n",
       "      <td>0.000619</td>\n",
       "    </tr>\n",
       "    <tr>\n",
       "      <th>1</th>\n",
       "      <td>chldNo</td>\n",
       "      <td>1</td>\n",
       "      <td>7492</td>\n",
       "      <td>7432</td>\n",
       "      <td>60</td>\n",
       "      <td>0.205502</td>\n",
       "      <td>0.008009</td>\n",
       "      <td>0.205559</td>\n",
       "      <td>0.198675</td>\n",
       "      <td>0.034062</td>\n",
       "      <td>0.000234</td>\n",
       "    </tr>\n",
       "    <tr>\n",
       "      <th>2</th>\n",
       "      <td>chldNo</td>\n",
       "      <td>2</td>\n",
       "      <td>3764</td>\n",
       "      <td>3737</td>\n",
       "      <td>27</td>\n",
       "      <td>0.103245</td>\n",
       "      <td>0.007173</td>\n",
       "      <td>0.103361</td>\n",
       "      <td>0.089404</td>\n",
       "      <td>0.145058</td>\n",
       "      <td>0.002025</td>\n",
       "    </tr>\n",
       "  </tbody>\n",
       "</table>\n",
       "</div>"
      ],
      "text/plain": [
       "  Variable  Value    All   Good  Bad     Share  Bad Rate  Distribution Good  \\\n",
       "0   chldNo      0  25201  24986  215  0.691253  0.008531           0.691080   \n",
       "1   chldNo      1   7492   7432   60  0.205502  0.008009           0.205559   \n",
       "2   chldNo      2   3764   3737   27  0.103245  0.007173           0.103361   \n",
       "\n",
       "   Distribution Bad       WOE        IV  \n",
       "0          0.711921 -0.029711  0.000619  \n",
       "1          0.198675  0.034062  0.000234  \n",
       "2          0.089404  0.145058  0.002025  "
      ]
     },
     "execution_count": 743,
     "metadata": {},
     "output_type": "execute_result"
    }
   ],
   "source": [
    "# Tính IV\n",
    "iv, iv_chldNo = calc_iv(data, 'chldNo', 'df_flag')\n",
    "ivtable_numerical.loc[ivtable_numerical['variable']=='chldNo','IV'] = iv\n",
    "iv_chldNo"
   ]
  },
  {
   "cell_type": "markdown",
   "metadata": {},
   "source": [
    "inc"
   ]
  },
  {
   "cell_type": "code",
   "execution_count": 744,
   "metadata": {},
   "outputs": [
    {
     "data": {
      "text/plain": [
       "0"
      ]
     },
     "execution_count": 744,
     "metadata": {},
     "output_type": "execute_result"
    }
   ],
   "source": [
    "#Kiểm tra missing\n",
    "data['inc'].isna().sum()"
   ]
  },
  {
   "cell_type": "code",
   "execution_count": 745,
   "metadata": {},
   "outputs": [
    {
     "data": {
      "image/png": "[encoded data removed]",
      "text/plain": [
       "<Figure size 640x480 with 1 Axes>"
      ]
     },
     "metadata": {},
     "output_type": "display_data"
    }
   ],
   "source": [
    "#Kiểm tra giá trị outlier\n",
    "sns.boxplot(data['inc'])\n",
    "plt.show()"
   ]
  },
  {
   "cell_type": "code",
   "execution_count": 746,
   "metadata": {},
   "outputs": [],
   "source": [
    "# Xử lý giá trị outlier\n",
    "data['inc'] = mstats.winsorize(data['inc'], limits=[0.025, 0.05])"
   ]
  },
  {
   "cell_type": "code",
   "execution_count": 747,
   "metadata": {},
   "outputs": [
    {
     "data": {
      "image/png": "[encoded data removed]",
      "text/plain": [
       "<Figure size 640x480 with 1 Axes>"
      ]
     },
     "metadata": {},
     "output_type": "display_data"
    }
   ],
   "source": [
    "#Kiểm tra sau khi xử lý outlier\n",
    "sns.boxplot(data['inc'])\n",
    "plt.show()"
   ]
  },
  {
   "cell_type": "code",
   "execution_count": 748,
   "metadata": {},
   "outputs": [
    {
     "name": "stdout",
     "output_type": "stream",
     "text": [
      "                           Bin  Count  Count (%)  Non-event  Event  \\\n",
      "0            (-inf, 109125.00)   5627   0.154346       5569     58   \n",
      "1       [109125.00, 137025.00)   8846   0.242642       8786     60   \n",
      "2       [137025.00, 161550.00)   4097   0.112379       4075     22   \n",
      "3       [161550.00, 303750.00)  14074   0.386044      13954    120   \n",
      "4             [303750.00, inf)   3813   0.104589       3771     42   \n",
      "5                      Special      0   0.000000          0      0   \n",
      "6                      Missing      0   0.000000          0      0   \n",
      "Totals                          36457   1.000000      36155    302   \n",
      "\n",
      "        Event rate       WoE        IV        JS  \n",
      "0         0.010307 -0.220616  0.008388  0.001046  \n",
      "1         0.006783  0.201427  0.008930  0.001114  \n",
      "2         0.005370   0.43644  0.017397  0.002158  \n",
      "3         0.008526 -0.029114  0.000332  0.000041  \n",
      "4         0.011015 -0.287718  0.010004  0.001246  \n",
      "5         0.000000       0.0  0.000000  0.000000  \n",
      "6         0.000000       0.0  0.000000  0.000000  \n",
      "Totals    0.008284            0.045052  0.005606  \n"
     ]
    }
   ],
   "source": [
    "# Tìm Optimal Binning\n",
    "optb = OptimalBinning(name=\"inc_bin\")\n",
    "\n",
    "optb.fit(data['inc'], data['df_flag'])\n",
    "\n",
    "binning_table = optb.binning_table\n",
    "\n",
    "print(binning_table.build())"
   ]
  },
  {
   "cell_type": "code",
   "execution_count": 749,
   "metadata": {},
   "outputs": [],
   "source": [
    "# Binning\n",
    "\n",
    "bin_inc = [0, 109125.00, 137025.00, 161550.00, 303750.00, max(data['inc'])]\n",
    "data= get_category(data, 'inc', bin_inc, labels=None, qcut=False)\n"
   ]
  },
  {
   "cell_type": "code",
   "execution_count": 750,
   "metadata": {},
   "outputs": [
    {
     "name": "stdout",
     "output_type": "stream",
     "text": [
      "This variable IV is:  0.04505178648358216\n",
      "(161550.0, 303750.0]    14074\n",
      "(109125.0, 137025.0]     8846\n",
      "(0.0, 109125.0]          5627\n",
      "(137025.0, 161550.0]     4097\n",
      "(303750.0, 360000.0]     3813\n",
      "Name: gp_inc, dtype: int64\n"
     ]
    },
    {
     "data": {
      "text/html": [
       "<div>\n",
       "<style scoped>\n",
       "    .dataframe tbody tr th:only-of-type {\n",
       "        vertical-align: middle;\n",
       "    }\n",
       "\n",
       "    .dataframe tbody tr th {\n",
       "        vertical-align: top;\n",
       "    }\n",
       "\n",
       "    .dataframe thead th {\n",
       "        text-align: right;\n",
       "    }\n",
       "</style>\n",
       "<table border=\"1\" class=\"dataframe\">\n",
       "  <thead>\n",
       "    <tr style=\"text-align: right;\">\n",
       "      <th></th>\n",
       "      <th>Variable</th>\n",
       "      <th>Value</th>\n",
       "      <th>All</th>\n",
       "      <th>Good</th>\n",
       "      <th>Bad</th>\n",
       "      <th>Share</th>\n",
       "      <th>Bad Rate</th>\n",
       "      <th>Distribution Good</th>\n",
       "      <th>Distribution Bad</th>\n",
       "      <th>WOE</th>\n",
       "      <th>IV</th>\n",
       "    </tr>\n",
       "  </thead>\n",
       "  <tbody>\n",
       "    <tr>\n",
       "      <th>0</th>\n",
       "      <td>gp_inc</td>\n",
       "      <td>(0.0, 109125.0]</td>\n",
       "      <td>5627</td>\n",
       "      <td>5569</td>\n",
       "      <td>58</td>\n",
       "      <td>0.154346</td>\n",
       "      <td>0.010307</td>\n",
       "      <td>0.154031</td>\n",
       "      <td>0.192053</td>\n",
       "      <td>-0.220616</td>\n",
       "      <td>0.008388</td>\n",
       "    </tr>\n",
       "    <tr>\n",
       "      <th>1</th>\n",
       "      <td>gp_inc</td>\n",
       "      <td>(109125.0, 137025.0]</td>\n",
       "      <td>8846</td>\n",
       "      <td>8786</td>\n",
       "      <td>60</td>\n",
       "      <td>0.242642</td>\n",
       "      <td>0.006783</td>\n",
       "      <td>0.243009</td>\n",
       "      <td>0.198675</td>\n",
       "      <td>0.201427</td>\n",
       "      <td>0.008930</td>\n",
       "    </tr>\n",
       "    <tr>\n",
       "      <th>2</th>\n",
       "      <td>gp_inc</td>\n",
       "      <td>(137025.0, 161550.0]</td>\n",
       "      <td>4097</td>\n",
       "      <td>4075</td>\n",
       "      <td>22</td>\n",
       "      <td>0.112379</td>\n",
       "      <td>0.005370</td>\n",
       "      <td>0.112709</td>\n",
       "      <td>0.072848</td>\n",
       "      <td>0.436440</td>\n",
       "      <td>0.017397</td>\n",
       "    </tr>\n",
       "    <tr>\n",
       "      <th>3</th>\n",
       "      <td>gp_inc</td>\n",
       "      <td>(161550.0, 303750.0]</td>\n",
       "      <td>14074</td>\n",
       "      <td>13954</td>\n",
       "      <td>120</td>\n",
       "      <td>0.386044</td>\n",
       "      <td>0.008526</td>\n",
       "      <td>0.385949</td>\n",
       "      <td>0.397351</td>\n",
       "      <td>-0.029114</td>\n",
       "      <td>0.000332</td>\n",
       "    </tr>\n",
       "    <tr>\n",
       "      <th>4</th>\n",
       "      <td>gp_inc</td>\n",
       "      <td>(303750.0, 360000.0]</td>\n",
       "      <td>3813</td>\n",
       "      <td>3771</td>\n",
       "      <td>42</td>\n",
       "      <td>0.104589</td>\n",
       "      <td>0.011015</td>\n",
       "      <td>0.104301</td>\n",
       "      <td>0.139073</td>\n",
       "      <td>-0.287718</td>\n",
       "      <td>0.010004</td>\n",
       "    </tr>\n",
       "  </tbody>\n",
       "</table>\n",
       "</div>"
      ],
      "text/plain": [
       "  Variable                 Value    All   Good  Bad     Share  Bad Rate  \\\n",
       "0   gp_inc       (0.0, 109125.0]   5627   5569   58  0.154346  0.010307   \n",
       "1   gp_inc  (109125.0, 137025.0]   8846   8786   60  0.242642  0.006783   \n",
       "2   gp_inc  (137025.0, 161550.0]   4097   4075   22  0.112379  0.005370   \n",
       "3   gp_inc  (161550.0, 303750.0]  14074  13954  120  0.386044  0.008526   \n",
       "4   gp_inc  (303750.0, 360000.0]   3813   3771   42  0.104589  0.011015   \n",
       "\n",
       "   Distribution Good  Distribution Bad       WOE        IV  \n",
       "0           0.154031          0.192053 -0.220616  0.008388  \n",
       "1           0.243009          0.198675  0.201427  0.008930  \n",
       "2           0.112709          0.072848  0.436440  0.017397  \n",
       "3           0.385949          0.397351 -0.029114  0.000332  \n",
       "4           0.104301          0.139073 -0.287718  0.010004  "
      ]
     },
     "execution_count": 750,
     "metadata": {},
     "output_type": "execute_result"
    }
   ],
   "source": [
    "# Tính toán iv\n",
    "iv, iv_gp_inc = calc_iv(data, 'gp_inc', 'df_flag')\n",
    "ivtable_numerical.loc[ivtable_numerical['variable']=='inc','IV'] = iv\n",
    "iv_gp_inc"
   ]
  },
  {
   "cell_type": "markdown",
   "metadata": {},
   "source": [
    "famsize"
   ]
  },
  {
   "cell_type": "code",
   "execution_count": 751,
   "metadata": {},
   "outputs": [
    {
     "data": {
      "text/plain": [
       "0"
      ]
     },
     "execution_count": 751,
     "metadata": {},
     "output_type": "execute_result"
    }
   ],
   "source": [
    "#Kiểm tra missing\n",
    "data['famsize'].isna().sum()"
   ]
  },
  {
   "cell_type": "code",
   "execution_count": 752,
   "metadata": {},
   "outputs": [
    {
     "data": {
      "image/png": "[encoded data removed]",
      "text/plain": [
       "<Figure size 640x480 with 1 Axes>"
      ]
     },
     "metadata": {},
     "output_type": "display_data"
    }
   ],
   "source": [
    "#Kiểm tra giá trị outlier\n",
    "sns.boxplot(data['famsize'])\n",
    "plt.show()"
   ]
  },
  {
   "cell_type": "code",
   "execution_count": 753,
   "metadata": {},
   "outputs": [],
   "source": [
    "# Xử lý giá trị outlier\n",
    "data['famsize'] = mstats.winsorize(data['famsize'], limits=[0.025, 0.025])"
   ]
  },
  {
   "cell_type": "code",
   "execution_count": 754,
   "metadata": {},
   "outputs": [
    {
     "data": {
      "image/png": "[encoded data removed]",
      "text/plain": [
       "<Figure size 640x480 with 1 Axes>"
      ]
     },
     "metadata": {},
     "output_type": "display_data"
    }
   ],
   "source": [
    "#Kiểm tra giá trị outlier\n",
    "sns.boxplot(data['famsize'])\n",
    "plt.show()"
   ]
  },
  {
   "cell_type": "code",
   "execution_count": 755,
   "metadata": {},
   "outputs": [
    {
     "name": "stdout",
     "output_type": "stream",
     "text": [
      "                 Bin  Count  Count (%)  Non-event  Event  Event rate  \\\n",
      "0       (-inf, 1.50)   6987   0.191650       6914     73    0.010448   \n",
      "1       [1.50, 2.50)  19463   0.533862      19306    157    0.008067   \n",
      "2       [2.50, 3.50)   6421   0.176125       6374     47    0.007320   \n",
      "3        [3.50, inf)   3586   0.098362       3561     25    0.006972   \n",
      "4            Special      0   0.000000          0      0    0.000000   \n",
      "5            Missing      0   0.000000          0      0    0.000000   \n",
      "Totals                36457   1.000000      36155    302    0.008284   \n",
      "\n",
      "             WoE        IV        JS  \n",
      "0      -0.234299  0.011830  0.001475  \n",
      "1       0.026782  0.000378  0.000047  \n",
      "2       0.124691  0.002577  0.000322  \n",
      "3       0.173777  0.002730  0.000341  \n",
      "4            0.0  0.000000  0.000000  \n",
      "5            0.0  0.000000  0.000000  \n",
      "Totals            0.017515  0.002185  \n"
     ]
    }
   ],
   "source": [
    "# Tìm Optimal Binning\n",
    "optb = OptimalBinning(name=\"famsize_bin\")\n",
    "\n",
    "optb.fit(data['famsize'], data['df_flag'])\n",
    "\n",
    "binning_table = optb.binning_table\n",
    "\n",
    "print(binning_table.build())\n",
    "\n",
    "# => các bin được chia không có ý nghĩa về khoảng cách => Giữ nguyên original value"
   ]
  },
  {
   "cell_type": "code",
   "execution_count": 756,
   "metadata": {},
   "outputs": [
    {
     "name": "stdout",
     "output_type": "stream",
     "text": [
      "This variable IV is:  0.017514899801181316\n",
      "2.0    19463\n",
      "1.0     6987\n",
      "3.0     6421\n",
      "4.0     3586\n",
      "Name: famsize, dtype: int64\n"
     ]
    },
    {
     "data": {
      "text/html": [
       "<div>\n",
       "<style scoped>\n",
       "    .dataframe tbody tr th:only-of-type {\n",
       "        vertical-align: middle;\n",
       "    }\n",
       "\n",
       "    .dataframe tbody tr th {\n",
       "        vertical-align: top;\n",
       "    }\n",
       "\n",
       "    .dataframe thead th {\n",
       "        text-align: right;\n",
       "    }\n",
       "</style>\n",
       "<table border=\"1\" class=\"dataframe\">\n",
       "  <thead>\n",
       "    <tr style=\"text-align: right;\">\n",
       "      <th></th>\n",
       "      <th>Variable</th>\n",
       "      <th>Value</th>\n",
       "      <th>All</th>\n",
       "      <th>Good</th>\n",
       "      <th>Bad</th>\n",
       "      <th>Share</th>\n",
       "      <th>Bad Rate</th>\n",
       "      <th>Distribution Good</th>\n",
       "      <th>Distribution Bad</th>\n",
       "      <th>WOE</th>\n",
       "      <th>IV</th>\n",
       "    </tr>\n",
       "  </thead>\n",
       "  <tbody>\n",
       "    <tr>\n",
       "      <th>0</th>\n",
       "      <td>famsize</td>\n",
       "      <td>1.0</td>\n",
       "      <td>6987</td>\n",
       "      <td>6914</td>\n",
       "      <td>73</td>\n",
       "      <td>0.191650</td>\n",
       "      <td>0.010448</td>\n",
       "      <td>0.191232</td>\n",
       "      <td>0.241722</td>\n",
       "      <td>-0.234299</td>\n",
       "      <td>0.011830</td>\n",
       "    </tr>\n",
       "    <tr>\n",
       "      <th>1</th>\n",
       "      <td>famsize</td>\n",
       "      <td>2.0</td>\n",
       "      <td>19463</td>\n",
       "      <td>19306</td>\n",
       "      <td>157</td>\n",
       "      <td>0.533862</td>\n",
       "      <td>0.008067</td>\n",
       "      <td>0.533979</td>\n",
       "      <td>0.519868</td>\n",
       "      <td>0.026782</td>\n",
       "      <td>0.000378</td>\n",
       "    </tr>\n",
       "    <tr>\n",
       "      <th>2</th>\n",
       "      <td>famsize</td>\n",
       "      <td>3.0</td>\n",
       "      <td>6421</td>\n",
       "      <td>6374</td>\n",
       "      <td>47</td>\n",
       "      <td>0.176125</td>\n",
       "      <td>0.007320</td>\n",
       "      <td>0.176297</td>\n",
       "      <td>0.155629</td>\n",
       "      <td>0.124691</td>\n",
       "      <td>0.002577</td>\n",
       "    </tr>\n",
       "    <tr>\n",
       "      <th>3</th>\n",
       "      <td>famsize</td>\n",
       "      <td>4.0</td>\n",
       "      <td>3586</td>\n",
       "      <td>3561</td>\n",
       "      <td>25</td>\n",
       "      <td>0.098362</td>\n",
       "      <td>0.006972</td>\n",
       "      <td>0.098493</td>\n",
       "      <td>0.082781</td>\n",
       "      <td>0.173777</td>\n",
       "      <td>0.002730</td>\n",
       "    </tr>\n",
       "  </tbody>\n",
       "</table>\n",
       "</div>"
      ],
      "text/plain": [
       "  Variable  Value    All   Good  Bad     Share  Bad Rate  Distribution Good  \\\n",
       "0  famsize    1.0   6987   6914   73  0.191650  0.010448           0.191232   \n",
       "1  famsize    2.0  19463  19306  157  0.533862  0.008067           0.533979   \n",
       "2  famsize    3.0   6421   6374   47  0.176125  0.007320           0.176297   \n",
       "3  famsize    4.0   3586   3561   25  0.098362  0.006972           0.098493   \n",
       "\n",
       "   Distribution Bad       WOE        IV  \n",
       "0          0.241722 -0.234299  0.011830  \n",
       "1          0.519868  0.026782  0.000378  \n",
       "2          0.155629  0.124691  0.002577  \n",
       "3          0.082781  0.173777  0.002730  "
      ]
     },
     "execution_count": 756,
     "metadata": {},
     "output_type": "execute_result"
    }
   ],
   "source": [
    "# Tính toán iv\n",
    "iv, iv_famsize = calc_iv(data, 'famsize', 'df_flag')\n",
    "ivtable_numerical.loc[ivtable_numerical['variable']=='famsize','IV'] = iv\n",
    "iv_famsize"
   ]
  },
  {
   "cell_type": "markdown",
   "metadata": {},
   "source": [
    "wkTime"
   ]
  },
  {
   "cell_type": "code",
   "execution_count": 757,
   "metadata": {},
   "outputs": [
    {
     "data": {
      "text/plain": [
       "0"
      ]
     },
     "execution_count": 757,
     "metadata": {},
     "output_type": "execute_result"
    }
   ],
   "source": [
    "#Kiểm tra missing\n",
    "data['wkTime'].isna().sum()"
   ]
  },
  {
   "cell_type": "code",
   "execution_count": 758,
   "metadata": {},
   "outputs": [
    {
     "data": {
      "image/png": "[encoded data removed]",
      "text/plain": [
       "<Figure size 640x480 with 1 Axes>"
      ]
     },
     "metadata": {},
     "output_type": "display_data"
    }
   ],
   "source": [
    "#Kiểm tra giá trị outlier\n",
    "sns.boxplot(data['wkTime'])\n",
    "plt.show()"
   ]
  },
  {
   "cell_type": "code",
   "execution_count": 759,
   "metadata": {},
   "outputs": [],
   "source": [
    "# Xử lý giá trị outlier\n",
    "data['wkTime'] = mstats.winsorize(data['wkTime'], limits=[0.025, 0.2])"
   ]
  },
  {
   "cell_type": "code",
   "execution_count": 760,
   "metadata": {},
   "outputs": [
    {
     "data": {
      "image/png": "[encoded data removed]",
      "text/plain": [
       "<Figure size 640x480 with 1 Axes>"
      ]
     },
     "metadata": {},
     "output_type": "display_data"
    }
   ],
   "source": [
    "#Kiểm tra giá trị outlier\n",
    "sns.boxplot(data['wkTime'])\n",
    "plt.show()"
   ]
  },
  {
   "cell_type": "code",
   "execution_count": 761,
   "metadata": {},
   "outputs": [
    {
     "name": "stdout",
     "output_type": "stream",
     "text": [
      "                   Bin  Count  Count (%)  Non-event  Event  Event rate  \\\n",
      "0        (-inf, 31.50)  14659   0.402090      14550    109    0.007436   \n",
      "1       [31.50, 33.50)   2130   0.058425       2125      5    0.002347   \n",
      "2       [33.50, 35.50)   1929   0.052912       1920      9    0.004666   \n",
      "3       [35.50, 42.50)   5863   0.160820       5807     56    0.009551   \n",
      "4         [42.50, inf)  11876   0.325754      11753    123    0.010357   \n",
      "5              Special      0   0.000000          0      0    0.000000   \n",
      "6              Missing      0   0.000000          0      0    0.000000   \n",
      "Totals                  36457   1.000000      36155    302    0.008284   \n",
      "\n",
      "             WoE        IV        JS  \n",
      "0       0.108855  0.004518  0.000564  \n",
      "1       1.266946  0.053488  0.006272  \n",
      "2       0.577712  0.013463  0.001660  \n",
      "3      -0.143676  0.003566  0.000445  \n",
      "4      -0.225464  0.018536  0.002312  \n",
      "5            0.0  0.000000  0.000000  \n",
      "6            0.0  0.000000  0.000000  \n",
      "Totals            0.093571  0.011254  \n"
     ]
    }
   ],
   "source": [
    "# Tìm Optimal Binning\n",
    "optb = OptimalBinning(name=\"wkTime\")\n",
    "\n",
    "optb.fit(data['wkTime'], data['df_flag'])\n",
    "\n",
    "binning_table = optb.binning_table\n",
    "\n",
    "print(binning_table.build())"
   ]
  },
  {
   "cell_type": "code",
   "execution_count": 762,
   "metadata": {},
   "outputs": [],
   "source": [
    "# Binning\n",
    "bin_inc = [0, 31.5, 33.5, 35.5, 42.5, max(data['wkTime'])]\n",
    "data= get_category(data, 'wkTime', bin_inc, labels=None, qcut=False)"
   ]
  },
  {
   "cell_type": "code",
   "execution_count": 763,
   "metadata": {},
   "outputs": [
    {
     "name": "stdout",
     "output_type": "stream",
     "text": [
      "This variable IV is:  0.09357072661573311\n",
      "(0.0, 31.5]     14659\n",
      "(42.5, 52.0]    11876\n",
      "(35.5, 42.5]     5863\n",
      "(31.5, 33.5]     2130\n",
      "(33.5, 35.5]     1929\n",
      "Name: gp_wkTime, dtype: int64\n"
     ]
    },
    {
     "data": {
      "text/html": [
       "<div>\n",
       "<style scoped>\n",
       "    .dataframe tbody tr th:only-of-type {\n",
       "        vertical-align: middle;\n",
       "    }\n",
       "\n",
       "    .dataframe tbody tr th {\n",
       "        vertical-align: top;\n",
       "    }\n",
       "\n",
       "    .dataframe thead th {\n",
       "        text-align: right;\n",
       "    }\n",
       "</style>\n",
       "<table border=\"1\" class=\"dataframe\">\n",
       "  <thead>\n",
       "    <tr style=\"text-align: right;\">\n",
       "      <th></th>\n",
       "      <th>Variable</th>\n",
       "      <th>Value</th>\n",
       "      <th>All</th>\n",
       "      <th>Good</th>\n",
       "      <th>Bad</th>\n",
       "      <th>Share</th>\n",
       "      <th>Bad Rate</th>\n",
       "      <th>Distribution Good</th>\n",
       "      <th>Distribution Bad</th>\n",
       "      <th>WOE</th>\n",
       "      <th>IV</th>\n",
       "    </tr>\n",
       "  </thead>\n",
       "  <tbody>\n",
       "    <tr>\n",
       "      <th>0</th>\n",
       "      <td>gp_wkTime</td>\n",
       "      <td>(0.0, 31.5]</td>\n",
       "      <td>14659</td>\n",
       "      <td>14550</td>\n",
       "      <td>109</td>\n",
       "      <td>0.402090</td>\n",
       "      <td>0.007436</td>\n",
       "      <td>0.402434</td>\n",
       "      <td>0.360927</td>\n",
       "      <td>0.108855</td>\n",
       "      <td>0.004518</td>\n",
       "    </tr>\n",
       "    <tr>\n",
       "      <th>1</th>\n",
       "      <td>gp_wkTime</td>\n",
       "      <td>(31.5, 33.5]</td>\n",
       "      <td>2130</td>\n",
       "      <td>2125</td>\n",
       "      <td>5</td>\n",
       "      <td>0.058425</td>\n",
       "      <td>0.002347</td>\n",
       "      <td>0.058775</td>\n",
       "      <td>0.016556</td>\n",
       "      <td>1.266946</td>\n",
       "      <td>0.053488</td>\n",
       "    </tr>\n",
       "    <tr>\n",
       "      <th>2</th>\n",
       "      <td>gp_wkTime</td>\n",
       "      <td>(33.5, 35.5]</td>\n",
       "      <td>1929</td>\n",
       "      <td>1920</td>\n",
       "      <td>9</td>\n",
       "      <td>0.052912</td>\n",
       "      <td>0.004666</td>\n",
       "      <td>0.053105</td>\n",
       "      <td>0.029801</td>\n",
       "      <td>0.577712</td>\n",
       "      <td>0.013463</td>\n",
       "    </tr>\n",
       "    <tr>\n",
       "      <th>3</th>\n",
       "      <td>gp_wkTime</td>\n",
       "      <td>(35.5, 42.5]</td>\n",
       "      <td>5863</td>\n",
       "      <td>5807</td>\n",
       "      <td>56</td>\n",
       "      <td>0.160820</td>\n",
       "      <td>0.009551</td>\n",
       "      <td>0.160614</td>\n",
       "      <td>0.185430</td>\n",
       "      <td>-0.143676</td>\n",
       "      <td>0.003566</td>\n",
       "    </tr>\n",
       "    <tr>\n",
       "      <th>4</th>\n",
       "      <td>gp_wkTime</td>\n",
       "      <td>(42.5, 52.0]</td>\n",
       "      <td>11876</td>\n",
       "      <td>11753</td>\n",
       "      <td>123</td>\n",
       "      <td>0.325754</td>\n",
       "      <td>0.010357</td>\n",
       "      <td>0.325073</td>\n",
       "      <td>0.407285</td>\n",
       "      <td>-0.225464</td>\n",
       "      <td>0.018536</td>\n",
       "    </tr>\n",
       "  </tbody>\n",
       "</table>\n",
       "</div>"
      ],
      "text/plain": [
       "    Variable         Value    All   Good  Bad     Share  Bad Rate  \\\n",
       "0  gp_wkTime   (0.0, 31.5]  14659  14550  109  0.402090  0.007436   \n",
       "1  gp_wkTime  (31.5, 33.5]   2130   2125    5  0.058425  0.002347   \n",
       "2  gp_wkTime  (33.5, 35.5]   1929   1920    9  0.052912  0.004666   \n",
       "3  gp_wkTime  (35.5, 42.5]   5863   5807   56  0.160820  0.009551   \n",
       "4  gp_wkTime  (42.5, 52.0]  11876  11753  123  0.325754  0.010357   \n",
       "\n",
       "   Distribution Good  Distribution Bad       WOE        IV  \n",
       "0           0.402434          0.360927  0.108855  0.004518  \n",
       "1           0.058775          0.016556  1.266946  0.053488  \n",
       "2           0.053105          0.029801  0.577712  0.013463  \n",
       "3           0.160614          0.185430 -0.143676  0.003566  \n",
       "4           0.325073          0.407285 -0.225464  0.018536  "
      ]
     },
     "execution_count": 763,
     "metadata": {},
     "output_type": "execute_result"
    }
   ],
   "source": [
    "# Tính toán iv\n",
    "iv, iv_gp_wkTime = calc_iv(data, 'gp_wkTime', 'df_flag')\n",
    "ivtable_numerical.loc[ivtable_numerical['variable']=='wkTime','IV'] = iv\n",
    "iv_gp_wkTime"
   ]
  },
  {
   "cell_type": "code",
   "execution_count": 764,
   "metadata": {},
   "outputs": [
    {
     "data": {
      "text/html": [
       "<div>\n",
       "<style scoped>\n",
       "    .dataframe tbody tr th:only-of-type {\n",
       "        vertical-align: middle;\n",
       "    }\n",
       "\n",
       "    .dataframe tbody tr th {\n",
       "        vertical-align: top;\n",
       "    }\n",
       "\n",
       "    .dataframe thead th {\n",
       "        text-align: right;\n",
       "    }\n",
       "</style>\n",
       "<table border=\"1\" class=\"dataframe\">\n",
       "  <thead>\n",
       "    <tr style=\"text-align: right;\">\n",
       "      <th></th>\n",
       "      <th>variable</th>\n",
       "      <th>IV</th>\n",
       "    </tr>\n",
       "  </thead>\n",
       "  <tbody>\n",
       "    <tr>\n",
       "      <th>0</th>\n",
       "      <td>chldNo</td>\n",
       "      <td>0.002878</td>\n",
       "    </tr>\n",
       "    <tr>\n",
       "      <th>1</th>\n",
       "      <td>inc</td>\n",
       "      <td>0.045052</td>\n",
       "    </tr>\n",
       "    <tr>\n",
       "      <th>2</th>\n",
       "      <td>famsize</td>\n",
       "      <td>0.017515</td>\n",
       "    </tr>\n",
       "    <tr>\n",
       "      <th>3</th>\n",
       "      <td>wkTime</td>\n",
       "      <td>0.093571</td>\n",
       "    </tr>\n",
       "  </tbody>\n",
       "</table>\n",
       "</div>"
      ],
      "text/plain": [
       "  variable        IV\n",
       "0   chldNo  0.002878\n",
       "1      inc  0.045052\n",
       "2  famsize  0.017515\n",
       "3   wkTime  0.093571"
      ]
     },
     "execution_count": 764,
     "metadata": {},
     "output_type": "execute_result"
    }
   ],
   "source": [
    "# Tổng hợp IV\n",
    "ivtable_numerical"
   ]
  },
  {
   "cell_type": "code",
   "execution_count": 765,
   "metadata": {},
   "outputs": [
    {
     "data": {
      "text/plain": [
       "['gp_inc', 'gp_wkTime']"
      ]
     },
     "execution_count": 765,
     "metadata": {},
     "output_type": "execute_result"
    }
   ],
   "source": [
    "useful_numerical_lst = ['gp_inc', 'gp_wkTime']\n",
    "useful_numerical_lst"
   ]
  },
  {
   "cell_type": "code",
   "execution_count": 766,
   "metadata": {},
   "outputs": [
    {
     "data": {
      "text/plain": [
       "['reality', 'inctp', 'edutp', 'famtp', 'houtp', 'occtp']"
      ]
     },
     "execution_count": 766,
     "metadata": {},
     "output_type": "execute_result"
    }
   ],
   "source": [
    "useful_categorical_lst"
   ]
  },
  {
   "cell_type": "markdown",
   "metadata": {},
   "source": [
    "3.4. Feature transformation"
   ]
  },
  {
   "cell_type": "code",
   "execution_count": 783,
   "metadata": {},
   "outputs": [
    {
     "data": {
      "text/html": [
       "<div>\n",
       "<style scoped>\n",
       "    .dataframe tbody tr th:only-of-type {\n",
       "        vertical-align: middle;\n",
       "    }\n",
       "\n",
       "    .dataframe tbody tr th {\n",
       "        vertical-align: top;\n",
       "    }\n",
       "\n",
       "    .dataframe thead th {\n",
       "        text-align: right;\n",
       "    }\n",
       "</style>\n",
       "<table border=\"1\" class=\"dataframe\">\n",
       "  <thead>\n",
       "    <tr style=\"text-align: right;\">\n",
       "      <th></th>\n",
       "      <th>reality</th>\n",
       "      <th>inctp</th>\n",
       "      <th>edutp</th>\n",
       "      <th>famtp</th>\n",
       "      <th>houtp</th>\n",
       "      <th>occtp</th>\n",
       "      <th>gp_inc</th>\n",
       "      <th>gp_wkTime</th>\n",
       "      <th>df_flag</th>\n",
       "    </tr>\n",
       "  </thead>\n",
       "  <tbody>\n",
       "    <tr>\n",
       "      <th>0</th>\n",
       "      <td>Y</td>\n",
       "      <td>Working</td>\n",
       "      <td>Higher education</td>\n",
       "      <td>Civil marriage</td>\n",
       "      <td>Rented apartment</td>\n",
       "      <td>NULL</td>\n",
       "      <td>(303750.0, 360000.0]</td>\n",
       "      <td>(0.0, 31.5]</td>\n",
       "      <td>0.0</td>\n",
       "    </tr>\n",
       "    <tr>\n",
       "      <th>1</th>\n",
       "      <td>Y</td>\n",
       "      <td>Working</td>\n",
       "      <td>Higher education</td>\n",
       "      <td>Civil marriage</td>\n",
       "      <td>Rented apartment</td>\n",
       "      <td>NULL</td>\n",
       "      <td>(303750.0, 360000.0]</td>\n",
       "      <td>(0.0, 31.5]</td>\n",
       "      <td>0.0</td>\n",
       "    </tr>\n",
       "  </tbody>\n",
       "</table>\n",
       "</div>"
      ],
      "text/plain": [
       "  reality    inctp             edutp           famtp             houtp occtp  \\\n",
       "0       Y  Working  Higher education  Civil marriage  Rented apartment  NULL   \n",
       "1       Y  Working  Higher education  Civil marriage  Rented apartment  NULL   \n",
       "\n",
       "                 gp_inc    gp_wkTime  df_flag  \n",
       "0  (303750.0, 360000.0]  (0.0, 31.5]      0.0  \n",
       "1  (303750.0, 360000.0]  (0.0, 31.5]      0.0  "
      ]
     },
     "execution_count": 783,
     "metadata": {},
     "output_type": "execute_result"
    }
   ],
   "source": [
    "woe_data = data[['reality', 'inctp', 'edutp', 'famtp', 'houtp', 'occtp', 'gp_inc', 'gp_wkTime','df_flag']]\n",
    "\n",
    "woe_data.head(2)"
   ]
  },
  {
   "cell_type": "code",
   "execution_count": 784,
   "metadata": {},
   "outputs": [
    {
     "data": {
      "text/html": [
       "<div>\n",
       "<style scoped>\n",
       "    .dataframe tbody tr th:only-of-type {\n",
       "        vertical-align: middle;\n",
       "    }\n",
       "\n",
       "    .dataframe tbody tr th {\n",
       "        vertical-align: top;\n",
       "    }\n",
       "\n",
       "    .dataframe thead th {\n",
       "        text-align: right;\n",
       "    }\n",
       "</style>\n",
       "<table border=\"1\" class=\"dataframe\">\n",
       "  <thead>\n",
       "    <tr style=\"text-align: right;\">\n",
       "      <th></th>\n",
       "      <th>reality</th>\n",
       "      <th>inctp</th>\n",
       "      <th>edutp</th>\n",
       "      <th>famtp</th>\n",
       "      <th>houtp</th>\n",
       "      <th>occtp</th>\n",
       "      <th>gp_inc</th>\n",
       "      <th>gp_wkTime</th>\n",
       "      <th>df_flag</th>\n",
       "      <th>woe_gp_inc</th>\n",
       "    </tr>\n",
       "  </thead>\n",
       "  <tbody>\n",
       "    <tr>\n",
       "      <th>0</th>\n",
       "      <td>Y</td>\n",
       "      <td>Working</td>\n",
       "      <td>Higher education</td>\n",
       "      <td>Civil marriage</td>\n",
       "      <td>Rented apartment</td>\n",
       "      <td>NULL</td>\n",
       "      <td>(303750.0, 360000.0]</td>\n",
       "      <td>(0.0, 31.5]</td>\n",
       "      <td>0.0</td>\n",
       "      <td>-0.287718</td>\n",
       "    </tr>\n",
       "    <tr>\n",
       "      <th>1</th>\n",
       "      <td>Y</td>\n",
       "      <td>Working</td>\n",
       "      <td>Higher education</td>\n",
       "      <td>Civil marriage</td>\n",
       "      <td>Rented apartment</td>\n",
       "      <td>NULL</td>\n",
       "      <td>(303750.0, 360000.0]</td>\n",
       "      <td>(0.0, 31.5]</td>\n",
       "      <td>0.0</td>\n",
       "      <td>-0.287718</td>\n",
       "    </tr>\n",
       "  </tbody>\n",
       "</table>\n",
       "</div>"
      ],
      "text/plain": [
       "  reality    inctp             edutp           famtp             houtp occtp  \\\n",
       "0       Y  Working  Higher education  Civil marriage  Rented apartment  NULL   \n",
       "1       Y  Working  Higher education  Civil marriage  Rented apartment  NULL   \n",
       "\n",
       "                 gp_inc    gp_wkTime  df_flag  woe_gp_inc  \n",
       "0  (303750.0, 360000.0]  (0.0, 31.5]      0.0   -0.287718  \n",
       "1  (303750.0, 360000.0]  (0.0, 31.5]      0.0   -0.287718  "
      ]
     },
     "execution_count": 784,
     "metadata": {},
     "output_type": "execute_result"
    }
   ],
   "source": [
    "woe_gp_inc = pd.DataFrame(iv_gp_inc[['Value', 'WOE']])\n",
    "woe_gp_inc = woe_gp_inc.rename(columns={'WOE': 'woe_gp_inc'})\n",
    "woe_data = pd.merge(woe_data, woe_gp_inc, how='left', left_on='gp_inc', right_on='Value')\n",
    "woe_data = woe_data.drop(columns='Value')\n",
    "woe_data.head(2)"
   ]
  },
  {
   "cell_type": "code",
   "execution_count": 785,
   "metadata": {},
   "outputs": [
    {
     "data": {
      "text/html": [
       "<div>\n",
       "<style scoped>\n",
       "    .dataframe tbody tr th:only-of-type {\n",
       "        vertical-align: middle;\n",
       "    }\n",
       "\n",
       "    .dataframe tbody tr th {\n",
       "        vertical-align: top;\n",
       "    }\n",
       "\n",
       "    .dataframe thead th {\n",
       "        text-align: right;\n",
       "    }\n",
       "</style>\n",
       "<table border=\"1\" class=\"dataframe\">\n",
       "  <thead>\n",
       "    <tr style=\"text-align: right;\">\n",
       "      <th></th>\n",
       "      <th>reality</th>\n",
       "      <th>inctp</th>\n",
       "      <th>edutp</th>\n",
       "      <th>famtp</th>\n",
       "      <th>houtp</th>\n",
       "      <th>occtp</th>\n",
       "      <th>gp_inc</th>\n",
       "      <th>gp_wkTime</th>\n",
       "      <th>df_flag</th>\n",
       "      <th>woe_gp_inc</th>\n",
       "      <th>woe_gp_wkTime</th>\n",
       "    </tr>\n",
       "  </thead>\n",
       "  <tbody>\n",
       "    <tr>\n",
       "      <th>0</th>\n",
       "      <td>Y</td>\n",
       "      <td>Working</td>\n",
       "      <td>Higher education</td>\n",
       "      <td>Civil marriage</td>\n",
       "      <td>Rented apartment</td>\n",
       "      <td>NULL</td>\n",
       "      <td>(303750.0, 360000.0]</td>\n",
       "      <td>(0.0, 31.5]</td>\n",
       "      <td>0.0</td>\n",
       "      <td>-0.287718</td>\n",
       "      <td>0.108855</td>\n",
       "    </tr>\n",
       "    <tr>\n",
       "      <th>1</th>\n",
       "      <td>Y</td>\n",
       "      <td>Working</td>\n",
       "      <td>Higher education</td>\n",
       "      <td>Civil marriage</td>\n",
       "      <td>Rented apartment</td>\n",
       "      <td>NULL</td>\n",
       "      <td>(303750.0, 360000.0]</td>\n",
       "      <td>(0.0, 31.5]</td>\n",
       "      <td>0.0</td>\n",
       "      <td>-0.287718</td>\n",
       "      <td>0.108855</td>\n",
       "    </tr>\n",
       "  </tbody>\n",
       "</table>\n",
       "</div>"
      ],
      "text/plain": [
       "  reality    inctp             edutp           famtp             houtp occtp  \\\n",
       "0       Y  Working  Higher education  Civil marriage  Rented apartment  NULL   \n",
       "1       Y  Working  Higher education  Civil marriage  Rented apartment  NULL   \n",
       "\n",
       "                 gp_inc    gp_wkTime  df_flag  woe_gp_inc  woe_gp_wkTime  \n",
       "0  (303750.0, 360000.0]  (0.0, 31.5]      0.0   -0.287718       0.108855  \n",
       "1  (303750.0, 360000.0]  (0.0, 31.5]      0.0   -0.287718       0.108855  "
      ]
     },
     "execution_count": 785,
     "metadata": {},
     "output_type": "execute_result"
    }
   ],
   "source": [
    "woe_gp_wkTime = pd.DataFrame(iv_gp_wkTime[['Value', 'WOE']])\n",
    "woe_gp_wkTime = woe_gp_wkTime.rename(columns={'WOE': 'woe_gp_wkTime'})\n",
    "woe_data = pd.merge(woe_data, woe_gp_wkTime, how='left', left_on='gp_wkTime', right_on='Value')\n",
    "woe_data = woe_data.drop(columns='Value')\n",
    "woe_data.head(2)"
   ]
  },
  {
   "cell_type": "code",
   "execution_count": 786,
   "metadata": {},
   "outputs": [
    {
     "data": {
      "text/html": [
       "<div>\n",
       "<style scoped>\n",
       "    .dataframe tbody tr th:only-of-type {\n",
       "        vertical-align: middle;\n",
       "    }\n",
       "\n",
       "    .dataframe tbody tr th {\n",
       "        vertical-align: top;\n",
       "    }\n",
       "\n",
       "    .dataframe thead th {\n",
       "        text-align: right;\n",
       "    }\n",
       "</style>\n",
       "<table border=\"1\" class=\"dataframe\">\n",
       "  <thead>\n",
       "    <tr style=\"text-align: right;\">\n",
       "      <th></th>\n",
       "      <th>reality</th>\n",
       "      <th>inctp</th>\n",
       "      <th>edutp</th>\n",
       "      <th>famtp</th>\n",
       "      <th>houtp</th>\n",
       "      <th>occtp</th>\n",
       "      <th>gp_inc</th>\n",
       "      <th>gp_wkTime</th>\n",
       "      <th>df_flag</th>\n",
       "      <th>woe_gp_inc</th>\n",
       "      <th>woe_gp_wkTime</th>\n",
       "      <th>woe_reality</th>\n",
       "    </tr>\n",
       "  </thead>\n",
       "  <tbody>\n",
       "    <tr>\n",
       "      <th>0</th>\n",
       "      <td>Y</td>\n",
       "      <td>Working</td>\n",
       "      <td>Higher education</td>\n",
       "      <td>Civil marriage</td>\n",
       "      <td>Rented apartment</td>\n",
       "      <td>NULL</td>\n",
       "      <td>(303750.0, 360000.0]</td>\n",
       "      <td>(0.0, 31.5]</td>\n",
       "      <td>0.0</td>\n",
       "      <td>-0.287718</td>\n",
       "      <td>0.108855</td>\n",
       "      <td>0.121201</td>\n",
       "    </tr>\n",
       "    <tr>\n",
       "      <th>1</th>\n",
       "      <td>Y</td>\n",
       "      <td>Working</td>\n",
       "      <td>Higher education</td>\n",
       "      <td>Civil marriage</td>\n",
       "      <td>Rented apartment</td>\n",
       "      <td>NULL</td>\n",
       "      <td>(303750.0, 360000.0]</td>\n",
       "      <td>(0.0, 31.5]</td>\n",
       "      <td>0.0</td>\n",
       "      <td>-0.287718</td>\n",
       "      <td>0.108855</td>\n",
       "      <td>0.121201</td>\n",
       "    </tr>\n",
       "  </tbody>\n",
       "</table>\n",
       "</div>"
      ],
      "text/plain": [
       "  reality    inctp             edutp           famtp             houtp occtp  \\\n",
       "0       Y  Working  Higher education  Civil marriage  Rented apartment  NULL   \n",
       "1       Y  Working  Higher education  Civil marriage  Rented apartment  NULL   \n",
       "\n",
       "                 gp_inc    gp_wkTime  df_flag  woe_gp_inc  woe_gp_wkTime  \\\n",
       "0  (303750.0, 360000.0]  (0.0, 31.5]      0.0   -0.287718       0.108855   \n",
       "1  (303750.0, 360000.0]  (0.0, 31.5]      0.0   -0.287718       0.108855   \n",
       "\n",
       "   woe_reality  \n",
       "0     0.121201  \n",
       "1     0.121201  "
      ]
     },
     "execution_count": 786,
     "metadata": {},
     "output_type": "execute_result"
    }
   ],
   "source": [
    "woe_reality = pd.DataFrame(iv_reality[['Value', 'WOE']])\n",
    "woe_reality = woe_reality.rename(columns={'WOE': 'woe_reality'})\n",
    "woe_data = pd.merge(woe_data, woe_reality, how='left', left_on='reality', right_on='Value')\n",
    "woe_data = woe_data.drop(columns='Value')\n",
    "woe_data.head(2)"
   ]
  },
  {
   "cell_type": "code",
   "execution_count": 794,
   "metadata": {},
   "outputs": [
    {
     "data": {
      "text/html": [
       "<div>\n",
       "<style scoped>\n",
       "    .dataframe tbody tr th:only-of-type {\n",
       "        vertical-align: middle;\n",
       "    }\n",
       "\n",
       "    .dataframe tbody tr th {\n",
       "        vertical-align: top;\n",
       "    }\n",
       "\n",
       "    .dataframe thead th {\n",
       "        text-align: right;\n",
       "    }\n",
       "</style>\n",
       "<table border=\"1\" class=\"dataframe\">\n",
       "  <thead>\n",
       "    <tr style=\"text-align: right;\">\n",
       "      <th></th>\n",
       "      <th>reality</th>\n",
       "      <th>inctp</th>\n",
       "      <th>edutp</th>\n",
       "      <th>famtp</th>\n",
       "      <th>houtp</th>\n",
       "      <th>occtp</th>\n",
       "      <th>gp_inc</th>\n",
       "      <th>gp_wkTime</th>\n",
       "      <th>df_flag</th>\n",
       "      <th>woe_gp_inc</th>\n",
       "      <th>woe_gp_wkTime</th>\n",
       "      <th>woe_reality</th>\n",
       "      <th>woe_edutp</th>\n",
       "      <th>woe_famtp</th>\n",
       "      <th>woe_houtp</th>\n",
       "      <th>woe_occtp</th>\n",
       "      <th>woe_inctp</th>\n",
       "    </tr>\n",
       "  </thead>\n",
       "  <tbody>\n",
       "    <tr>\n",
       "      <th>0</th>\n",
       "      <td>Y</td>\n",
       "      <td>Working</td>\n",
       "      <td>Higher education</td>\n",
       "      <td>Civil marriage</td>\n",
       "      <td>Rented apartment</td>\n",
       "      <td>NULL</td>\n",
       "      <td>(303750.0, 360000.0]</td>\n",
       "      <td>(0.0, 31.5]</td>\n",
       "      <td>0.0</td>\n",
       "      <td>-0.287718</td>\n",
       "      <td>0.108855</td>\n",
       "      <td>0.121201</td>\n",
       "      <td>-0.108624</td>\n",
       "      <td>1.120559</td>\n",
       "      <td>-0.048945</td>\n",
       "      <td>-0.054454</td>\n",
       "      <td>0.190788</td>\n",
       "    </tr>\n",
       "    <tr>\n",
       "      <th>1</th>\n",
       "      <td>Y</td>\n",
       "      <td>Working</td>\n",
       "      <td>Higher education</td>\n",
       "      <td>Civil marriage</td>\n",
       "      <td>Rented apartment</td>\n",
       "      <td>NULL</td>\n",
       "      <td>(303750.0, 360000.0]</td>\n",
       "      <td>(0.0, 31.5]</td>\n",
       "      <td>0.0</td>\n",
       "      <td>-0.287718</td>\n",
       "      <td>0.108855</td>\n",
       "      <td>0.121201</td>\n",
       "      <td>-0.108624</td>\n",
       "      <td>1.120559</td>\n",
       "      <td>-0.048945</td>\n",
       "      <td>-0.054454</td>\n",
       "      <td>0.190788</td>\n",
       "    </tr>\n",
       "  </tbody>\n",
       "</table>\n",
       "</div>"
      ],
      "text/plain": [
       "  reality    inctp             edutp           famtp             houtp occtp  \\\n",
       "0       Y  Working  Higher education  Civil marriage  Rented apartment  NULL   \n",
       "1       Y  Working  Higher education  Civil marriage  Rented apartment  NULL   \n",
       "\n",
       "                 gp_inc    gp_wkTime  df_flag  woe_gp_inc  woe_gp_wkTime  \\\n",
       "0  (303750.0, 360000.0]  (0.0, 31.5]      0.0   -0.287718       0.108855   \n",
       "1  (303750.0, 360000.0]  (0.0, 31.5]      0.0   -0.287718       0.108855   \n",
       "\n",
       "   woe_reality  woe_edutp  woe_famtp  woe_houtp  woe_occtp  woe_inctp  \n",
       "0     0.121201  -0.108624   1.120559  -0.048945  -0.054454   0.190788  \n",
       "1     0.121201  -0.108624   1.120559  -0.048945  -0.054454   0.190788  "
      ]
     },
     "execution_count": 794,
     "metadata": {},
     "output_type": "execute_result"
    }
   ],
   "source": [
    "woe_inctp = pd.DataFrame(iv_inctp[['Value', 'WOE']])\n",
    "woe_inctp = woe_inctp.rename(columns={'WOE': 'woe_inctp'})\n",
    "woe_data = pd.merge(woe_data, woe_inctp, how='left', left_on='inctp', right_on='Value')\n",
    "woe_data = woe_data.drop(columns='Value')\n",
    "woe_data.head(2)"
   ]
  },
  {
   "cell_type": "code",
   "execution_count": 787,
   "metadata": {},
   "outputs": [
    {
     "data": {
      "text/html": [
       "<div>\n",
       "<style scoped>\n",
       "    .dataframe tbody tr th:only-of-type {\n",
       "        vertical-align: middle;\n",
       "    }\n",
       "\n",
       "    .dataframe tbody tr th {\n",
       "        vertical-align: top;\n",
       "    }\n",
       "\n",
       "    .dataframe thead th {\n",
       "        text-align: right;\n",
       "    }\n",
       "</style>\n",
       "<table border=\"1\" class=\"dataframe\">\n",
       "  <thead>\n",
       "    <tr style=\"text-align: right;\">\n",
       "      <th></th>\n",
       "      <th>reality</th>\n",
       "      <th>inctp</th>\n",
       "      <th>edutp</th>\n",
       "      <th>famtp</th>\n",
       "      <th>houtp</th>\n",
       "      <th>occtp</th>\n",
       "      <th>gp_inc</th>\n",
       "      <th>gp_wkTime</th>\n",
       "      <th>df_flag</th>\n",
       "      <th>woe_gp_inc</th>\n",
       "      <th>woe_gp_wkTime</th>\n",
       "      <th>woe_reality</th>\n",
       "      <th>woe_edutp</th>\n",
       "    </tr>\n",
       "  </thead>\n",
       "  <tbody>\n",
       "    <tr>\n",
       "      <th>0</th>\n",
       "      <td>Y</td>\n",
       "      <td>Working</td>\n",
       "      <td>Higher education</td>\n",
       "      <td>Civil marriage</td>\n",
       "      <td>Rented apartment</td>\n",
       "      <td>NULL</td>\n",
       "      <td>(303750.0, 360000.0]</td>\n",
       "      <td>(0.0, 31.5]</td>\n",
       "      <td>0.0</td>\n",
       "      <td>-0.287718</td>\n",
       "      <td>0.108855</td>\n",
       "      <td>0.121201</td>\n",
       "      <td>-0.108624</td>\n",
       "    </tr>\n",
       "    <tr>\n",
       "      <th>1</th>\n",
       "      <td>Y</td>\n",
       "      <td>Working</td>\n",
       "      <td>Higher education</td>\n",
       "      <td>Civil marriage</td>\n",
       "      <td>Rented apartment</td>\n",
       "      <td>NULL</td>\n",
       "      <td>(303750.0, 360000.0]</td>\n",
       "      <td>(0.0, 31.5]</td>\n",
       "      <td>0.0</td>\n",
       "      <td>-0.287718</td>\n",
       "      <td>0.108855</td>\n",
       "      <td>0.121201</td>\n",
       "      <td>-0.108624</td>\n",
       "    </tr>\n",
       "  </tbody>\n",
       "</table>\n",
       "</div>"
      ],
      "text/plain": [
       "  reality    inctp             edutp           famtp             houtp occtp  \\\n",
       "0       Y  Working  Higher education  Civil marriage  Rented apartment  NULL   \n",
       "1       Y  Working  Higher education  Civil marriage  Rented apartment  NULL   \n",
       "\n",
       "                 gp_inc    gp_wkTime  df_flag  woe_gp_inc  woe_gp_wkTime  \\\n",
       "0  (303750.0, 360000.0]  (0.0, 31.5]      0.0   -0.287718       0.108855   \n",
       "1  (303750.0, 360000.0]  (0.0, 31.5]      0.0   -0.287718       0.108855   \n",
       "\n",
       "   woe_reality  woe_edutp  \n",
       "0     0.121201  -0.108624  \n",
       "1     0.121201  -0.108624  "
      ]
     },
     "execution_count": 787,
     "metadata": {},
     "output_type": "execute_result"
    }
   ],
   "source": [
    "woe_edutp = pd.DataFrame(iv_edutp[['Value', 'WOE']])\n",
    "woe_edutp = woe_edutp.rename(columns={'WOE': 'woe_edutp'})\n",
    "woe_data = pd.merge(woe_data, woe_edutp, how='left', left_on='edutp', right_on='Value')\n",
    "woe_data = woe_data.drop(columns='Value')\n",
    "woe_data.head(2)"
   ]
  },
  {
   "cell_type": "code",
   "execution_count": 788,
   "metadata": {},
   "outputs": [
    {
     "data": {
      "text/html": [
       "<div>\n",
       "<style scoped>\n",
       "    .dataframe tbody tr th:only-of-type {\n",
       "        vertical-align: middle;\n",
       "    }\n",
       "\n",
       "    .dataframe tbody tr th {\n",
       "        vertical-align: top;\n",
       "    }\n",
       "\n",
       "    .dataframe thead th {\n",
       "        text-align: right;\n",
       "    }\n",
       "</style>\n",
       "<table border=\"1\" class=\"dataframe\">\n",
       "  <thead>\n",
       "    <tr style=\"text-align: right;\">\n",
       "      <th></th>\n",
       "      <th>reality</th>\n",
       "      <th>inctp</th>\n",
       "      <th>edutp</th>\n",
       "      <th>famtp</th>\n",
       "      <th>houtp</th>\n",
       "      <th>occtp</th>\n",
       "      <th>gp_inc</th>\n",
       "      <th>gp_wkTime</th>\n",
       "      <th>df_flag</th>\n",
       "      <th>woe_gp_inc</th>\n",
       "      <th>woe_gp_wkTime</th>\n",
       "      <th>woe_reality</th>\n",
       "      <th>woe_edutp</th>\n",
       "      <th>woe_famtp</th>\n",
       "    </tr>\n",
       "  </thead>\n",
       "  <tbody>\n",
       "    <tr>\n",
       "      <th>0</th>\n",
       "      <td>Y</td>\n",
       "      <td>Working</td>\n",
       "      <td>Higher education</td>\n",
       "      <td>Civil marriage</td>\n",
       "      <td>Rented apartment</td>\n",
       "      <td>NULL</td>\n",
       "      <td>(303750.0, 360000.0]</td>\n",
       "      <td>(0.0, 31.5]</td>\n",
       "      <td>0.0</td>\n",
       "      <td>-0.287718</td>\n",
       "      <td>0.108855</td>\n",
       "      <td>0.121201</td>\n",
       "      <td>-0.108624</td>\n",
       "      <td>1.120559</td>\n",
       "    </tr>\n",
       "    <tr>\n",
       "      <th>1</th>\n",
       "      <td>Y</td>\n",
       "      <td>Working</td>\n",
       "      <td>Higher education</td>\n",
       "      <td>Civil marriage</td>\n",
       "      <td>Rented apartment</td>\n",
       "      <td>NULL</td>\n",
       "      <td>(303750.0, 360000.0]</td>\n",
       "      <td>(0.0, 31.5]</td>\n",
       "      <td>0.0</td>\n",
       "      <td>-0.287718</td>\n",
       "      <td>0.108855</td>\n",
       "      <td>0.121201</td>\n",
       "      <td>-0.108624</td>\n",
       "      <td>1.120559</td>\n",
       "    </tr>\n",
       "  </tbody>\n",
       "</table>\n",
       "</div>"
      ],
      "text/plain": [
       "  reality    inctp             edutp           famtp             houtp occtp  \\\n",
       "0       Y  Working  Higher education  Civil marriage  Rented apartment  NULL   \n",
       "1       Y  Working  Higher education  Civil marriage  Rented apartment  NULL   \n",
       "\n",
       "                 gp_inc    gp_wkTime  df_flag  woe_gp_inc  woe_gp_wkTime  \\\n",
       "0  (303750.0, 360000.0]  (0.0, 31.5]      0.0   -0.287718       0.108855   \n",
       "1  (303750.0, 360000.0]  (0.0, 31.5]      0.0   -0.287718       0.108855   \n",
       "\n",
       "   woe_reality  woe_edutp  woe_famtp  \n",
       "0     0.121201  -0.108624   1.120559  \n",
       "1     0.121201  -0.108624   1.120559  "
      ]
     },
     "execution_count": 788,
     "metadata": {},
     "output_type": "execute_result"
    }
   ],
   "source": [
    "woe_famtp = pd.DataFrame(iv_famtp[['Value', 'WOE']])\n",
    "woe_famtp = woe_famtp.rename(columns={'WOE': 'woe_famtp'})\n",
    "woe_data = pd.merge(woe_data, woe_famtp, how='left', left_on='famtp', right_on='Value')\n",
    "woe_data = woe_data.drop(columns='Value')\n",
    "woe_data.head(2)"
   ]
  },
  {
   "cell_type": "code",
   "execution_count": 789,
   "metadata": {},
   "outputs": [
    {
     "data": {
      "text/html": [
       "<div>\n",
       "<style scoped>\n",
       "    .dataframe tbody tr th:only-of-type {\n",
       "        vertical-align: middle;\n",
       "    }\n",
       "\n",
       "    .dataframe tbody tr th {\n",
       "        vertical-align: top;\n",
       "    }\n",
       "\n",
       "    .dataframe thead th {\n",
       "        text-align: right;\n",
       "    }\n",
       "</style>\n",
       "<table border=\"1\" class=\"dataframe\">\n",
       "  <thead>\n",
       "    <tr style=\"text-align: right;\">\n",
       "      <th></th>\n",
       "      <th>reality</th>\n",
       "      <th>inctp</th>\n",
       "      <th>edutp</th>\n",
       "      <th>famtp</th>\n",
       "      <th>houtp</th>\n",
       "      <th>occtp</th>\n",
       "      <th>gp_inc</th>\n",
       "      <th>gp_wkTime</th>\n",
       "      <th>df_flag</th>\n",
       "      <th>woe_gp_inc</th>\n",
       "      <th>woe_gp_wkTime</th>\n",
       "      <th>woe_reality</th>\n",
       "      <th>woe_edutp</th>\n",
       "      <th>woe_famtp</th>\n",
       "      <th>woe_houtp</th>\n",
       "    </tr>\n",
       "  </thead>\n",
       "  <tbody>\n",
       "    <tr>\n",
       "      <th>0</th>\n",
       "      <td>Y</td>\n",
       "      <td>Working</td>\n",
       "      <td>Higher education</td>\n",
       "      <td>Civil marriage</td>\n",
       "      <td>Rented apartment</td>\n",
       "      <td>NULL</td>\n",
       "      <td>(303750.0, 360000.0]</td>\n",
       "      <td>(0.0, 31.5]</td>\n",
       "      <td>0.0</td>\n",
       "      <td>-0.287718</td>\n",
       "      <td>0.108855</td>\n",
       "      <td>0.121201</td>\n",
       "      <td>-0.108624</td>\n",
       "      <td>1.120559</td>\n",
       "      <td>-0.048945</td>\n",
       "    </tr>\n",
       "    <tr>\n",
       "      <th>1</th>\n",
       "      <td>Y</td>\n",
       "      <td>Working</td>\n",
       "      <td>Higher education</td>\n",
       "      <td>Civil marriage</td>\n",
       "      <td>Rented apartment</td>\n",
       "      <td>NULL</td>\n",
       "      <td>(303750.0, 360000.0]</td>\n",
       "      <td>(0.0, 31.5]</td>\n",
       "      <td>0.0</td>\n",
       "      <td>-0.287718</td>\n",
       "      <td>0.108855</td>\n",
       "      <td>0.121201</td>\n",
       "      <td>-0.108624</td>\n",
       "      <td>1.120559</td>\n",
       "      <td>-0.048945</td>\n",
       "    </tr>\n",
       "  </tbody>\n",
       "</table>\n",
       "</div>"
      ],
      "text/plain": [
       "  reality    inctp             edutp           famtp             houtp occtp  \\\n",
       "0       Y  Working  Higher education  Civil marriage  Rented apartment  NULL   \n",
       "1       Y  Working  Higher education  Civil marriage  Rented apartment  NULL   \n",
       "\n",
       "                 gp_inc    gp_wkTime  df_flag  woe_gp_inc  woe_gp_wkTime  \\\n",
       "0  (303750.0, 360000.0]  (0.0, 31.5]      0.0   -0.287718       0.108855   \n",
       "1  (303750.0, 360000.0]  (0.0, 31.5]      0.0   -0.287718       0.108855   \n",
       "\n",
       "   woe_reality  woe_edutp  woe_famtp  woe_houtp  \n",
       "0     0.121201  -0.108624   1.120559  -0.048945  \n",
       "1     0.121201  -0.108624   1.120559  -0.048945  "
      ]
     },
     "execution_count": 789,
     "metadata": {},
     "output_type": "execute_result"
    }
   ],
   "source": [
    "woe_houtp = pd.DataFrame(iv_houtp[['Value', 'WOE']])\n",
    "woe_houtp = woe_houtp.rename(columns={'WOE': 'woe_houtp'})\n",
    "woe_data = pd.merge(woe_data, woe_houtp, how='left', left_on='houtp', right_on='Value')\n",
    "woe_data = woe_data.drop(columns='Value')\n",
    "woe_data.head(2)"
   ]
  },
  {
   "cell_type": "code",
   "execution_count": 790,
   "metadata": {},
   "outputs": [
    {
     "data": {
      "text/html": [
       "<div>\n",
       "<style scoped>\n",
       "    .dataframe tbody tr th:only-of-type {\n",
       "        vertical-align: middle;\n",
       "    }\n",
       "\n",
       "    .dataframe tbody tr th {\n",
       "        vertical-align: top;\n",
       "    }\n",
       "\n",
       "    .dataframe thead th {\n",
       "        text-align: right;\n",
       "    }\n",
       "</style>\n",
       "<table border=\"1\" class=\"dataframe\">\n",
       "  <thead>\n",
       "    <tr style=\"text-align: right;\">\n",
       "      <th></th>\n",
       "      <th>reality</th>\n",
       "      <th>inctp</th>\n",
       "      <th>edutp</th>\n",
       "      <th>famtp</th>\n",
       "      <th>houtp</th>\n",
       "      <th>occtp</th>\n",
       "      <th>gp_inc</th>\n",
       "      <th>gp_wkTime</th>\n",
       "      <th>df_flag</th>\n",
       "      <th>woe_gp_inc</th>\n",
       "      <th>woe_gp_wkTime</th>\n",
       "      <th>woe_reality</th>\n",
       "      <th>woe_edutp</th>\n",
       "      <th>woe_famtp</th>\n",
       "      <th>woe_houtp</th>\n",
       "      <th>woe_occtp</th>\n",
       "    </tr>\n",
       "  </thead>\n",
       "  <tbody>\n",
       "    <tr>\n",
       "      <th>0</th>\n",
       "      <td>Y</td>\n",
       "      <td>Working</td>\n",
       "      <td>Higher education</td>\n",
       "      <td>Civil marriage</td>\n",
       "      <td>Rented apartment</td>\n",
       "      <td>NULL</td>\n",
       "      <td>(303750.0, 360000.0]</td>\n",
       "      <td>(0.0, 31.5]</td>\n",
       "      <td>0.0</td>\n",
       "      <td>-0.287718</td>\n",
       "      <td>0.108855</td>\n",
       "      <td>0.121201</td>\n",
       "      <td>-0.108624</td>\n",
       "      <td>1.120559</td>\n",
       "      <td>-0.048945</td>\n",
       "      <td>-0.054454</td>\n",
       "    </tr>\n",
       "    <tr>\n",
       "      <th>1</th>\n",
       "      <td>Y</td>\n",
       "      <td>Working</td>\n",
       "      <td>Higher education</td>\n",
       "      <td>Civil marriage</td>\n",
       "      <td>Rented apartment</td>\n",
       "      <td>NULL</td>\n",
       "      <td>(303750.0, 360000.0]</td>\n",
       "      <td>(0.0, 31.5]</td>\n",
       "      <td>0.0</td>\n",
       "      <td>-0.287718</td>\n",
       "      <td>0.108855</td>\n",
       "      <td>0.121201</td>\n",
       "      <td>-0.108624</td>\n",
       "      <td>1.120559</td>\n",
       "      <td>-0.048945</td>\n",
       "      <td>-0.054454</td>\n",
       "    </tr>\n",
       "  </tbody>\n",
       "</table>\n",
       "</div>"
      ],
      "text/plain": [
       "  reality    inctp             edutp           famtp             houtp occtp  \\\n",
       "0       Y  Working  Higher education  Civil marriage  Rented apartment  NULL   \n",
       "1       Y  Working  Higher education  Civil marriage  Rented apartment  NULL   \n",
       "\n",
       "                 gp_inc    gp_wkTime  df_flag  woe_gp_inc  woe_gp_wkTime  \\\n",
       "0  (303750.0, 360000.0]  (0.0, 31.5]      0.0   -0.287718       0.108855   \n",
       "1  (303750.0, 360000.0]  (0.0, 31.5]      0.0   -0.287718       0.108855   \n",
       "\n",
       "   woe_reality  woe_edutp  woe_famtp  woe_houtp  woe_occtp  \n",
       "0     0.121201  -0.108624   1.120559  -0.048945  -0.054454  \n",
       "1     0.121201  -0.108624   1.120559  -0.048945  -0.054454  "
      ]
     },
     "execution_count": 790,
     "metadata": {},
     "output_type": "execute_result"
    }
   ],
   "source": [
    "woe_occtp = pd.DataFrame(iv_occtp[['Value', 'WOE']])\n",
    "woe_occtp = woe_occtp.rename(columns={'WOE': 'woe_occtp'})\n",
    "woe_data = pd.merge(woe_data, woe_occtp, how='left', left_on='occtp', right_on='Value')\n",
    "woe_data = woe_data.drop(columns='Value')\n",
    "woe_data.head(2)"
   ]
  },
  {
   "cell_type": "code",
   "execution_count": 796,
   "metadata": {},
   "outputs": [
    {
     "data": {
      "text/html": [
       "<div>\n",
       "<style scoped>\n",
       "    .dataframe tbody tr th:only-of-type {\n",
       "        vertical-align: middle;\n",
       "    }\n",
       "\n",
       "    .dataframe tbody tr th {\n",
       "        vertical-align: top;\n",
       "    }\n",
       "\n",
       "    .dataframe thead th {\n",
       "        text-align: right;\n",
       "    }\n",
       "</style>\n",
       "<table border=\"1\" class=\"dataframe\">\n",
       "  <thead>\n",
       "    <tr style=\"text-align: right;\">\n",
       "      <th></th>\n",
       "      <th>woe_reality</th>\n",
       "      <th>woe_inctp</th>\n",
       "      <th>woe_edutp</th>\n",
       "      <th>woe_famtp</th>\n",
       "      <th>woe_houtp</th>\n",
       "      <th>woe_occtp</th>\n",
       "      <th>woe_gp_inc</th>\n",
       "      <th>woe_gp_wkTime</th>\n",
       "    </tr>\n",
       "  </thead>\n",
       "  <tbody>\n",
       "    <tr>\n",
       "      <th>0</th>\n",
       "      <td>0.121201</td>\n",
       "      <td>0.190788</td>\n",
       "      <td>-0.108624</td>\n",
       "      <td>1.120559</td>\n",
       "      <td>-0.048945</td>\n",
       "      <td>-0.054454</td>\n",
       "      <td>-0.287718</td>\n",
       "      <td>0.108855</td>\n",
       "    </tr>\n",
       "    <tr>\n",
       "      <th>1</th>\n",
       "      <td>0.121201</td>\n",
       "      <td>0.190788</td>\n",
       "      <td>-0.108624</td>\n",
       "      <td>1.120559</td>\n",
       "      <td>-0.048945</td>\n",
       "      <td>-0.054454</td>\n",
       "      <td>-0.287718</td>\n",
       "      <td>0.108855</td>\n",
       "    </tr>\n",
       "  </tbody>\n",
       "</table>\n",
       "</div>"
      ],
      "text/plain": [
       "   woe_reality  woe_inctp  woe_edutp  woe_famtp  woe_houtp  woe_occtp  \\\n",
       "0     0.121201   0.190788  -0.108624   1.120559  -0.048945  -0.054454   \n",
       "1     0.121201   0.190788  -0.108624   1.120559  -0.048945  -0.054454   \n",
       "\n",
       "   woe_gp_inc  woe_gp_wkTime  \n",
       "0   -0.287718       0.108855  \n",
       "1   -0.287718       0.108855  "
      ]
     },
     "execution_count": 796,
     "metadata": {},
     "output_type": "execute_result"
    }
   ],
   "source": [
    "sample_data = woe_data[['woe_reality', 'woe_inctp', 'woe_edutp', 'woe_famtp', 'woe_houtp', 'woe_occtp', 'woe_gp_inc', 'woe_gp_wkTime']]\n",
    "sample_data.head(2)"
   ]
  },
  {
   "cell_type": "markdown",
   "metadata": {},
   "source": [
    "3.4. Correlation"
   ]
  },
  {
   "cell_type": "code",
   "execution_count": 799,
   "metadata": {},
   "outputs": [
    {
     "data": {
      "text/plain": [
       "<AxesSubplot:>"
      ]
     },
     "execution_count": 799,
     "metadata": {},
     "output_type": "execute_result"
    },
    {
     "data": {
      "image/png": "[encoded data removed]",
      "text/plain": [
       "<Figure size 1000x800 with 2 Axes>"
      ]
     },
     "metadata": {},
     "output_type": "display_data"
    }
   ],
   "source": [
    "plt.figure(figsize = (10,8))\n",
    "\n",
    "corr = sample_data.corr()\n",
    "sns.heatmap(corr,\n",
    "            xticklabels= corr.columns,\n",
    "            yticklabels= corr.columns,\n",
    "            annot = True, cmap = plt.cm.Blues)\n"
   ]
  },
  {
   "cell_type": "markdown",
   "metadata": {},
   "source": [
    "IV. Train Test split"
   ]
  },
  {
   "cell_type": "code",
   "execution_count": 801,
   "metadata": {},
   "outputs": [
    {
     "data": {
      "text/plain": [
       "(36457,)"
      ]
     },
     "execution_count": 801,
     "metadata": {},
     "output_type": "execute_result"
    }
   ],
   "source": [
    "Y = woe_data['df_flag']\n",
    "Y.shape"
   ]
  },
  {
   "cell_type": "code",
   "execution_count": 805,
   "metadata": {},
   "outputs": [
    {
     "data": {
      "text/plain": [
       "(36457, 8)"
      ]
     },
     "execution_count": 805,
     "metadata": {},
     "output_type": "execute_result"
    }
   ],
   "source": [
    "X = sample_data\n",
    "X.shape"
   ]
  },
  {
   "cell_type": "code",
   "execution_count": 806,
   "metadata": {},
   "outputs": [
    {
     "data": {
      "text/html": [
       "<div>\n",
       "<style scoped>\n",
       "    .dataframe tbody tr th:only-of-type {\n",
       "        vertical-align: middle;\n",
       "    }\n",
       "\n",
       "    .dataframe tbody tr th {\n",
       "        vertical-align: top;\n",
       "    }\n",
       "\n",
       "    .dataframe thead th {\n",
       "        text-align: right;\n",
       "    }\n",
       "</style>\n",
       "<table border=\"1\" class=\"dataframe\">\n",
       "  <thead>\n",
       "    <tr style=\"text-align: right;\">\n",
       "      <th></th>\n",
       "      <th>woe_reality</th>\n",
       "      <th>woe_inctp</th>\n",
       "      <th>woe_edutp</th>\n",
       "      <th>woe_famtp</th>\n",
       "      <th>woe_houtp</th>\n",
       "      <th>woe_occtp</th>\n",
       "      <th>woe_gp_inc</th>\n",
       "      <th>woe_gp_wkTime</th>\n",
       "    </tr>\n",
       "  </thead>\n",
       "  <tbody>\n",
       "    <tr>\n",
       "      <th>0</th>\n",
       "      <td>0.121201</td>\n",
       "      <td>0.190788</td>\n",
       "      <td>-0.108624</td>\n",
       "      <td>1.120559</td>\n",
       "      <td>-0.048945</td>\n",
       "      <td>-0.054454</td>\n",
       "      <td>-0.287718</td>\n",
       "      <td>0.108855</td>\n",
       "    </tr>\n",
       "    <tr>\n",
       "      <th>1</th>\n",
       "      <td>0.121201</td>\n",
       "      <td>0.190788</td>\n",
       "      <td>-0.108624</td>\n",
       "      <td>1.120559</td>\n",
       "      <td>-0.048945</td>\n",
       "      <td>-0.054454</td>\n",
       "      <td>-0.287718</td>\n",
       "      <td>0.108855</td>\n",
       "    </tr>\n",
       "  </tbody>\n",
       "</table>\n",
       "</div>"
      ],
      "text/plain": [
       "   woe_reality  woe_inctp  woe_edutp  woe_famtp  woe_houtp  woe_occtp  \\\n",
       "0     0.121201   0.190788  -0.108624   1.120559  -0.048945  -0.054454   \n",
       "1     0.121201   0.190788  -0.108624   1.120559  -0.048945  -0.054454   \n",
       "\n",
       "   woe_gp_inc  woe_gp_wkTime  \n",
       "0   -0.287718       0.108855  \n",
       "1   -0.287718       0.108855  "
      ]
     },
     "execution_count": 806,
     "metadata": {},
     "output_type": "execute_result"
    }
   ],
   "source": [
    "X.head(2)"
   ]
  },
  {
   "cell_type": "code",
   "execution_count": 813,
   "metadata": {},
   "outputs": [],
   "source": [
    "x_train, x_test,y_train , y_test = train_test_split(X, Y, test_size=0.2)"
   ]
  },
  {
   "cell_type": "code",
   "execution_count": 814,
   "metadata": {},
   "outputs": [
    {
     "data": {
      "text/plain": [
       "(29165, 8)"
      ]
     },
     "execution_count": 814,
     "metadata": {},
     "output_type": "execute_result"
    }
   ],
   "source": [
    "x_train.shape"
   ]
  },
  {
   "cell_type": "code",
   "execution_count": 815,
   "metadata": {},
   "outputs": [
    {
     "data": {
      "text/plain": [
       "(29165,)"
      ]
     },
     "execution_count": 815,
     "metadata": {},
     "output_type": "execute_result"
    }
   ],
   "source": [
    "y_train.shape"
   ]
  },
  {
   "cell_type": "markdown",
   "metadata": {},
   "source": [
    "V. Train model"
   ]
  },
  {
   "cell_type": "markdown",
   "metadata": {},
   "source": [
    "Train model with Logistic Regression class"
   ]
  },
  {
   "cell_type": "code",
   "execution_count": 810,
   "metadata": {},
   "outputs": [],
   "source": [
    "from Logistic_Regression_class import SLR"
   ]
  },
  {
   "cell_type": "code",
   "execution_count": 811,
   "metadata": {},
   "outputs": [],
   "source": [
    "lgr = SLR(learning_rate=1e-2, n_epochs=1000, cutoff=0.5)"
   ]
  },
  {
   "cell_type": "code",
   "execution_count": 817,
   "metadata": {},
   "outputs": [],
   "source": [
    "# model = lgr.fit(x_train, y_train)"
   ]
  },
  {
   "cell_type": "code",
   "execution_count": null,
   "metadata": {},
   "outputs": [],
   "source": []
  },
  {
   "cell_type": "markdown",
   "metadata": {},
   "source": [
    "Train model with Logistic regression in Python lib"
   ]
  },
  {
   "cell_type": "code",
   "execution_count": 820,
   "metadata": {},
   "outputs": [],
   "source": [
    "lgr2 = LogisticRegression(penalty='l1', random_state= 42, solver='liblinear')"
   ]
  },
  {
   "cell_type": "code",
   "execution_count": 825,
   "metadata": {},
   "outputs": [
    {
     "data": {
      "text/plain": [
       "array([[-1.16227853, -0.53023876, -0.85742943, -0.85582162, -0.85480261,\n",
       "        -0.81975969, -0.75423637, -1.01974177]])"
      ]
     },
     "execution_count": 825,
     "metadata": {},
     "output_type": "execute_result"
    }
   ],
   "source": [
    "model2 = lgr2.fit(x_train, y_train)\n",
    "model2.intercept_\n",
    "model2.coef_"
   ]
  },
  {
   "cell_type": "code",
   "execution_count": 827,
   "metadata": {},
   "outputs": [],
   "source": [
    "y_pred_model2 = model2.predict(x_test)"
   ]
  },
  {
   "cell_type": "code",
   "execution_count": 829,
   "metadata": {},
   "outputs": [
    {
     "name": "stdout",
     "output_type": "stream",
     "text": [
      "Accuracy_score:  0.9917718047174986\n"
     ]
    }
   ],
   "source": [
    "accuracy_model2 = accuracy_score(y_test, y_pred_model2)\n",
    "print('Accuracy_score: ', accuracy_model2)"
   ]
  },
  {
   "cell_type": "code",
   "execution_count": 833,
   "metadata": {},
   "outputs": [
    {
     "name": "stdout",
     "output_type": "stream",
     "text": [
      "              precision    recall  f1-score   support\n",
      "\n",
      "         0.0       0.99      1.00      1.00      7232\n",
      "         1.0       0.00      0.00      0.00        60\n",
      "\n",
      "    accuracy                           0.99      7292\n",
      "   macro avg       0.50      0.50      0.50      7292\n",
      "weighted avg       0.98      0.99      0.99      7292\n",
      "\n"
     ]
    }
   ],
   "source": [
    "print(classification_report(y_test, y_pred_model2))"
   ]
  },
  {
   "cell_type": "markdown",
   "metadata": {},
   "source": [
    "V. Hyperparameter Tunning"
   ]
  },
  {
   "cell_type": "code",
   "execution_count": 835,
   "metadata": {},
   "outputs": [],
   "source": [
    "param_grid = {\n",
    "    'penalty': ['l1', 'l2'],  # 'l1' for L1 regularization, 'l2' for L2 regularization\n",
    "    'random_state': [42, 88],  # List of random_state values\n",
    "    'solver': ['liblinear', 'newton-cg', 'lbfgs', 'sag', 'saga'],  # Solver options\n",
    "    'max_iter': [100, 200, 300]  # Maximum number of iterations\n",
    "}"
   ]
  },
  {
   "cell_type": "code",
   "execution_count": 836,
   "metadata": {},
   "outputs": [],
   "source": [
    "lr_tunning = LogisticRegression()"
   ]
  },
  {
   "cell_type": "code",
   "execution_count": 837,
   "metadata": {},
   "outputs": [
    {
     "data": {
      "text/html": [
       "<style>#sk-container-id-2 {color: black;background-color: white;}#sk-container-id-2 pre{padding: 0;}#sk-container-id-2 div.sk-toggleable {background-color: white;}#sk-container-id-2 label.sk-toggleable__label {cursor: pointer;display: block;width: 100%;margin-bottom: 0;padding: 0.3em;box-sizing: border-box;text-align: center;}#sk-container-id-2 label.sk-toggleable__label-arrow:before {content: \"▸\";float: left;margin-right: 0.25em;color: #696969;}#sk-container-id-2 label.sk-toggleable__label-arrow:hover:before {color: black;}#sk-container-id-2 div.sk-estimator:hover label.sk-toggleable__label-arrow:before {color: black;}#sk-container-id-2 div.sk-toggleable__content {max-height: 0;max-width: 0;overflow: hidden;text-align: left;background-color: #f0f8ff;}#sk-container-id-2 div.sk-toggleable__content pre {margin: 0.2em;color: black;border-radius: 0.25em;background-color: #f0f8ff;}#sk-container-id-2 input.sk-toggleable__control:checked~div.sk-toggleable__content {max-height: 200px;max-width: 100%;overflow: auto;}#sk-container-id-2 input.sk-toggleable__control:checked~label.sk-toggleable__label-arrow:before {content: \"▾\";}#sk-container-id-2 div.sk-estimator input.sk-toggleable__control:checked~label.sk-toggleable__label {background-color: #d4ebff;}#sk-container-id-2 div.sk-label input.sk-toggleable__control:checked~label.sk-toggleable__label {background-color: #d4ebff;}#sk-container-id-2 input.sk-hidden--visually {border: 0;clip: rect(1px 1px 1px 1px);clip: rect(1px, 1px, 1px, 1px);height: 1px;margin: -1px;overflow: hidden;padding: 0;position: absolute;width: 1px;}#sk-container-id-2 div.sk-estimator {font-family: monospace;background-color: #f0f8ff;border: 1px dotted black;border-radius: 0.25em;box-sizing: border-box;margin-bottom: 0.5em;}#sk-container-id-2 div.sk-estimator:hover {background-color: #d4ebff;}#sk-container-id-2 div.sk-parallel-item::after {content: \"\";width: 100%;border-bottom: 1px solid gray;flex-grow: 1;}#sk-container-id-2 div.sk-label:hover label.sk-toggleable__label {background-color: #d4ebff;}#sk-container-id-2 div.sk-serial::before {content: \"\";position: absolute;border-left: 1px solid gray;box-sizing: border-box;top: 0;bottom: 0;left: 50%;z-index: 0;}#sk-container-id-2 div.sk-serial {display: flex;flex-direction: column;align-items: center;background-color: white;padding-right: 0.2em;padding-left: 0.2em;position: relative;}#sk-container-id-2 div.sk-item {position: relative;z-index: 1;}#sk-container-id-2 div.sk-parallel {display: flex;align-items: stretch;justify-content: center;background-color: white;position: relative;}#sk-container-id-2 div.sk-item::before, #sk-container-id-2 div.sk-parallel-item::before {content: \"\";position: absolute;border-left: 1px solid gray;box-sizing: border-box;top: 0;bottom: 0;left: 50%;z-index: -1;}#sk-container-id-2 div.sk-parallel-item {display: flex;flex-direction: column;z-index: 1;position: relative;background-color: white;}#sk-container-id-2 div.sk-parallel-item:first-child::after {align-self: flex-end;width: 50%;}#sk-container-id-2 div.sk-parallel-item:last-child::after {align-self: flex-start;width: 50%;}#sk-container-id-2 div.sk-parallel-item:only-child::after {width: 0;}#sk-container-id-2 div.sk-dashed-wrapped {border: 1px dashed gray;margin: 0 0.4em 0.5em 0.4em;box-sizing: border-box;padding-bottom: 0.4em;background-color: white;}#sk-container-id-2 div.sk-label label {font-family: monospace;font-weight: bold;display: inline-block;line-height: 1.2em;}#sk-container-id-2 div.sk-label-container {text-align: center;}#sk-container-id-2 div.sk-container {/* jupyter's `normalize.less` sets `[hidden] { display: none; }` but bootstrap.min.css set `[hidden] { display: none !important; }` so we also need the `!important` here to be able to override the default hidden behavior on the sphinx rendered scikit-learn.org. See: https://github.com/scikit-learn/scikit-learn/issues/21755 */display: inline-block !important;position: relative;}#sk-container-id-2 div.sk-text-repr-fallback {display: none;}</style><div id=\"sk-container-id-2\" class=\"sk-top-container\"><div class=\"sk-text-repr-fallback\"><pre>GridSearchCV(cv=5, estimator=LogisticRegression(),\n",
       "             param_grid={&#x27;max_iter&#x27;: [100, 200, 300], &#x27;penalty&#x27;: [&#x27;l1&#x27;, &#x27;l2&#x27;],\n",
       "                         &#x27;random_state&#x27;: [42, 88],\n",
       "                         &#x27;solver&#x27;: [&#x27;liblinear&#x27;, &#x27;newton-cg&#x27;, &#x27;lbfgs&#x27;, &#x27;sag&#x27;,\n",
       "                                    &#x27;saga&#x27;]},\n",
       "             scoring=&#x27;accuracy&#x27;)</pre><b>In a Jupyter environment, please rerun this cell to show the HTML representation or trust the notebook. <br />On GitHub, the HTML representation is unable to render, please try loading this page with nbviewer.org.</b></div><div class=\"sk-container\" hidden><div class=\"sk-item sk-dashed-wrapped\"><div class=\"sk-label-container\"><div class=\"sk-label sk-toggleable\"><input class=\"sk-toggleable__control sk-hidden--visually\" id=\"sk-estimator-id-2\" type=\"checkbox\" ><label for=\"sk-estimator-id-2\" class=\"sk-toggleable__label sk-toggleable__label-arrow\">GridSearchCV</label><div class=\"sk-toggleable__content\"><pre>GridSearchCV(cv=5, estimator=LogisticRegression(),\n",
       "             param_grid={&#x27;max_iter&#x27;: [100, 200, 300], &#x27;penalty&#x27;: [&#x27;l1&#x27;, &#x27;l2&#x27;],\n",
       "                         &#x27;random_state&#x27;: [42, 88],\n",
       "                         &#x27;solver&#x27;: [&#x27;liblinear&#x27;, &#x27;newton-cg&#x27;, &#x27;lbfgs&#x27;, &#x27;sag&#x27;,\n",
       "                                    &#x27;saga&#x27;]},\n",
       "             scoring=&#x27;accuracy&#x27;)</pre></div></div></div><div class=\"sk-parallel\"><div class=\"sk-parallel-item\"><div class=\"sk-item\"><div class=\"sk-label-container\"><div class=\"sk-label sk-toggleable\"><input class=\"sk-toggleable__control sk-hidden--visually\" id=\"sk-estimator-id-3\" type=\"checkbox\" ><label for=\"sk-estimator-id-3\" class=\"sk-toggleable__label sk-toggleable__label-arrow\">estimator: LogisticRegression</label><div class=\"sk-toggleable__content\"><pre>LogisticRegression()</pre></div></div></div><div class=\"sk-serial\"><div class=\"sk-item\"><div class=\"sk-estimator sk-toggleable\"><input class=\"sk-toggleable__control sk-hidden--visually\" id=\"sk-estimator-id-4\" type=\"checkbox\" ><label for=\"sk-estimator-id-4\" class=\"sk-toggleable__label sk-toggleable__label-arrow\">LogisticRegression</label><div class=\"sk-toggleable__content\"><pre>LogisticRegression()</pre></div></div></div></div></div></div></div></div></div></div>"
      ],
      "text/plain": [
       "GridSearchCV(cv=5, estimator=LogisticRegression(),\n",
       "             param_grid={'max_iter': [100, 200, 300], 'penalty': ['l1', 'l2'],\n",
       "                         'random_state': [42, 88],\n",
       "                         'solver': ['liblinear', 'newton-cg', 'lbfgs', 'sag',\n",
       "                                    'saga']},\n",
       "             scoring='accuracy')"
      ]
     },
     "execution_count": 837,
     "metadata": {},
     "output_type": "execute_result"
    }
   ],
   "source": [
    "gridsearch = GridSearchCV(lr_tunning, param_grid, cv=5, scoring='accuracy')\n",
    "gridsearch.fit(x_train, y_train)"
   ]
  },
  {
   "cell_type": "code",
   "execution_count": 838,
   "metadata": {},
   "outputs": [],
   "source": [
    "best_param = gridsearch.best_params_"
   ]
  },
  {
   "cell_type": "code",
   "execution_count": 841,
   "metadata": {},
   "outputs": [
    {
     "data": {
      "text/html": [
       "<style>#sk-container-id-3 {color: black;background-color: white;}#sk-container-id-3 pre{padding: 0;}#sk-container-id-3 div.sk-toggleable {background-color: white;}#sk-container-id-3 label.sk-toggleable__label {cursor: pointer;display: block;width: 100%;margin-bottom: 0;padding: 0.3em;box-sizing: border-box;text-align: center;}#sk-container-id-3 label.sk-toggleable__label-arrow:before {content: \"▸\";float: left;margin-right: 0.25em;color: #696969;}#sk-container-id-3 label.sk-toggleable__label-arrow:hover:before {color: black;}#sk-container-id-3 div.sk-estimator:hover label.sk-toggleable__label-arrow:before {color: black;}#sk-container-id-3 div.sk-toggleable__content {max-height: 0;max-width: 0;overflow: hidden;text-align: left;background-color: #f0f8ff;}#sk-container-id-3 div.sk-toggleable__content pre {margin: 0.2em;color: black;border-radius: 0.25em;background-color: #f0f8ff;}#sk-container-id-3 input.sk-toggleable__control:checked~div.sk-toggleable__content {max-height: 200px;max-width: 100%;overflow: auto;}#sk-container-id-3 input.sk-toggleable__control:checked~label.sk-toggleable__label-arrow:before {content: \"▾\";}#sk-container-id-3 div.sk-estimator input.sk-toggleable__control:checked~label.sk-toggleable__label {background-color: #d4ebff;}#sk-container-id-3 div.sk-label input.sk-toggleable__control:checked~label.sk-toggleable__label {background-color: #d4ebff;}#sk-container-id-3 input.sk-hidden--visually {border: 0;clip: rect(1px 1px 1px 1px);clip: rect(1px, 1px, 1px, 1px);height: 1px;margin: -1px;overflow: hidden;padding: 0;position: absolute;width: 1px;}#sk-container-id-3 div.sk-estimator {font-family: monospace;background-color: #f0f8ff;border: 1px dotted black;border-radius: 0.25em;box-sizing: border-box;margin-bottom: 0.5em;}#sk-container-id-3 div.sk-estimator:hover {background-color: #d4ebff;}#sk-container-id-3 div.sk-parallel-item::after {content: \"\";width: 100%;border-bottom: 1px solid gray;flex-grow: 1;}#sk-container-id-3 div.sk-label:hover label.sk-toggleable__label {background-color: #d4ebff;}#sk-container-id-3 div.sk-serial::before {content: \"\";position: absolute;border-left: 1px solid gray;box-sizing: border-box;top: 0;bottom: 0;left: 50%;z-index: 0;}#sk-container-id-3 div.sk-serial {display: flex;flex-direction: column;align-items: center;background-color: white;padding-right: 0.2em;padding-left: 0.2em;position: relative;}#sk-container-id-3 div.sk-item {position: relative;z-index: 1;}#sk-container-id-3 div.sk-parallel {display: flex;align-items: stretch;justify-content: center;background-color: white;position: relative;}#sk-container-id-3 div.sk-item::before, #sk-container-id-3 div.sk-parallel-item::before {content: \"\";position: absolute;border-left: 1px solid gray;box-sizing: border-box;top: 0;bottom: 0;left: 50%;z-index: -1;}#sk-container-id-3 div.sk-parallel-item {display: flex;flex-direction: column;z-index: 1;position: relative;background-color: white;}#sk-container-id-3 div.sk-parallel-item:first-child::after {align-self: flex-end;width: 50%;}#sk-container-id-3 div.sk-parallel-item:last-child::after {align-self: flex-start;width: 50%;}#sk-container-id-3 div.sk-parallel-item:only-child::after {width: 0;}#sk-container-id-3 div.sk-dashed-wrapped {border: 1px dashed gray;margin: 0 0.4em 0.5em 0.4em;box-sizing: border-box;padding-bottom: 0.4em;background-color: white;}#sk-container-id-3 div.sk-label label {font-family: monospace;font-weight: bold;display: inline-block;line-height: 1.2em;}#sk-container-id-3 div.sk-label-container {text-align: center;}#sk-container-id-3 div.sk-container {/* jupyter's `normalize.less` sets `[hidden] { display: none; }` but bootstrap.min.css set `[hidden] { display: none !important; }` so we also need the `!important` here to be able to override the default hidden behavior on the sphinx rendered scikit-learn.org. See: https://github.com/scikit-learn/scikit-learn/issues/21755 */display: inline-block !important;position: relative;}#sk-container-id-3 div.sk-text-repr-fallback {display: none;}</style><div id=\"sk-container-id-3\" class=\"sk-top-container\"><div class=\"sk-text-repr-fallback\"><pre>LogisticRegression(penalty=&#x27;l1&#x27;, random_state=42, solver=&#x27;liblinear&#x27;)</pre><b>In a Jupyter environment, please rerun this cell to show the HTML representation or trust the notebook. <br />On GitHub, the HTML representation is unable to render, please try loading this page with nbviewer.org.</b></div><div class=\"sk-container\" hidden><div class=\"sk-item\"><div class=\"sk-estimator sk-toggleable\"><input class=\"sk-toggleable__control sk-hidden--visually\" id=\"sk-estimator-id-5\" type=\"checkbox\" checked><label for=\"sk-estimator-id-5\" class=\"sk-toggleable__label sk-toggleable__label-arrow\">LogisticRegression</label><div class=\"sk-toggleable__content\"><pre>LogisticRegression(penalty=&#x27;l1&#x27;, random_state=42, solver=&#x27;liblinear&#x27;)</pre></div></div></div></div></div>"
      ],
      "text/plain": [
       "LogisticRegression(penalty='l1', random_state=42, solver='liblinear')"
      ]
     },
     "execution_count": 841,
     "metadata": {},
     "output_type": "execute_result"
    }
   ],
   "source": [
    "best_model = LogisticRegression(**best_param)\n",
    "best_model.fit(x_train, y_train)"
   ]
  },
  {
   "cell_type": "code",
   "execution_count": 842,
   "metadata": {},
   "outputs": [],
   "source": [
    "y_pred_best_model = best_model.predict(x_test)"
   ]
  },
  {
   "cell_type": "code",
   "execution_count": 844,
   "metadata": {},
   "outputs": [
    {
     "name": "stdout",
     "output_type": "stream",
     "text": [
      "Accuracy:  0.9917718047174986\n"
     ]
    }
   ],
   "source": [
    "accuracy_best_model = accuracy_score(y_test,y_pred_best_model)\n",
    "print('Accuracy: ',accuracy_best_model )"
   ]
  },
  {
   "cell_type": "code",
   "execution_count": 845,
   "metadata": {},
   "outputs": [
    {
     "name": "stdout",
     "output_type": "stream",
     "text": [
      "              precision    recall  f1-score   support\n",
      "\n",
      "         0.0       0.99      1.00      1.00      7232\n",
      "         1.0       0.00      0.00      0.00        60\n",
      "\n",
      "    accuracy                           0.99      7292\n",
      "   macro avg       0.50      0.50      0.50      7292\n",
      "weighted avg       0.98      0.99      0.99      7292\n",
      "\n"
     ]
    }
   ],
   "source": [
    "print(classification_report(y_test, y_pred_best_model))"
   ]
  },
  {
   "cell_type": "markdown",
   "metadata": {},
   "source": [
    "VII. Save model and its parameters"
   ]
  },
  {
   "cell_type": "code",
   "execution_count": 847,
   "metadata": {},
   "outputs": [],
   "source": [
    "with open('logistic_regression_model.pkl', 'wb') as file:\n",
    "    pickle.dump(best_model, file)"
   ]
  }
 ],
 "metadata": {
  "kernelspec": {
   "display_name": "Python 3",
   "language": "python",
   "name": "python3"
  },
  "language_info": {
   "codemirror_mode": {
    "name": "ipython",
    "version": 3
   },
   "file_extension": ".py",
   "mimetype": "text/x-python",
   "name": "python",
   "nbconvert_exporter": "python",
   "pygments_lexer": "ipython3",
   "version": "3.9.6"
  }
 },
 "nbformat": 4,
 "nbformat_minor": 2
}
